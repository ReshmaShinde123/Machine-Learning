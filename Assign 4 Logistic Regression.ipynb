{
 "cells": [
  {
   "cell_type": "markdown",
   "id": "b6fdf440",
   "metadata": {},
   "source": [
    "# The task is to predict whether a person makes over dollar 50K a year or not"
   ]
  },
  {
   "cell_type": "markdown",
   "id": "73c9bb83",
   "metadata": {},
   "source": [
    "Features\tDescription\n",
    "age\tAge of the person\n",
    "Workclass\tCategorical variable having 8 categories each denoting the type of employment\n",
    "fnlwgt\tfinal weight.\n",
    "education\tCategorical variable with 16 categories each denoting the qualification of the person.\n",
    "education-num\tnumber of years of education\n",
    "marital-status\tCategorical variable with 7 categories\n",
    "occupation\tCategorical variable with 14 categories each denoting the type of occupation of the individual\n",
    "relationship\tCategorical variable with 6 categories.\n",
    "race\tCategorical variable with 5 categories each denoting the ethnicity of the individual\n",
    "sex\tGender of the person\n",
    "capital-gain\tContinuous\n",
    "capital-loss\tContinuous\n",
    "hours-per-week\tWorking hours per week\n",
    "native-country\tCategorical\n",
    "Income\tTarget variable. 1 indicates >=50k. 0 indicates <50K\n",
    "\n",
    "Y=TargetVariable =OutputVariable=Income\n"
   ]
  },
  {
   "cell_type": "code",
   "execution_count": 1,
   "id": "16db9bf2",
   "metadata": {
    "scrolled": true
   },
   "outputs": [],
   "source": [
    "import numpy as np\n",
    "import pandas as pd\n",
    "import matplotlib.pyplot as plt\n",
    "import seaborn as sns\n",
    "import warnings\n",
    "warnings.filterwarnings(\"ignore\")"
   ]
  },
  {
   "cell_type": "code",
   "execution_count": 2,
   "id": "8f11c0d5",
   "metadata": {
    "scrolled": true
   },
   "outputs": [
    {
     "data": {
      "text/html": [
       "<div>\n",
       "<style scoped>\n",
       "    .dataframe tbody tr th:only-of-type {\n",
       "        vertical-align: middle;\n",
       "    }\n",
       "\n",
       "    .dataframe tbody tr th {\n",
       "        vertical-align: top;\n",
       "    }\n",
       "\n",
       "    .dataframe thead th {\n",
       "        text-align: right;\n",
       "    }\n",
       "</style>\n",
       "<table border=\"1\" class=\"dataframe\">\n",
       "  <thead>\n",
       "    <tr style=\"text-align: right;\">\n",
       "      <th></th>\n",
       "      <th>Unnamed: 0</th>\n",
       "      <th>age</th>\n",
       "      <th>Workclass</th>\n",
       "      <th>fnlwgt</th>\n",
       "      <th>education</th>\n",
       "      <th>education-num</th>\n",
       "      <th>marital-status</th>\n",
       "      <th>occupation</th>\n",
       "      <th>relationship</th>\n",
       "      <th>race</th>\n",
       "      <th>sex</th>\n",
       "      <th>capital-gain</th>\n",
       "      <th>capital-loss</th>\n",
       "      <th>hours-per-week</th>\n",
       "      <th>native-country</th>\n",
       "      <th>Income</th>\n",
       "    </tr>\n",
       "  </thead>\n",
       "  <tbody>\n",
       "    <tr>\n",
       "      <th>0</th>\n",
       "      <td>0</td>\n",
       "      <td>39</td>\n",
       "      <td>State-gov</td>\n",
       "      <td>77516</td>\n",
       "      <td>Bachelors</td>\n",
       "      <td>13</td>\n",
       "      <td>Never-married</td>\n",
       "      <td>Adm-clerical</td>\n",
       "      <td>Not-in-family</td>\n",
       "      <td>White</td>\n",
       "      <td>Male</td>\n",
       "      <td>2174</td>\n",
       "      <td>0</td>\n",
       "      <td>40</td>\n",
       "      <td>United-States</td>\n",
       "      <td>0</td>\n",
       "    </tr>\n",
       "    <tr>\n",
       "      <th>1</th>\n",
       "      <td>1</td>\n",
       "      <td>50</td>\n",
       "      <td>Self-emp-not-inc</td>\n",
       "      <td>83311</td>\n",
       "      <td>Bachelors</td>\n",
       "      <td>13</td>\n",
       "      <td>Married-civ-spouse</td>\n",
       "      <td>Exec-managerial</td>\n",
       "      <td>Husband</td>\n",
       "      <td>White</td>\n",
       "      <td>Male</td>\n",
       "      <td>0</td>\n",
       "      <td>0</td>\n",
       "      <td>13</td>\n",
       "      <td>United-States</td>\n",
       "      <td>0</td>\n",
       "    </tr>\n",
       "    <tr>\n",
       "      <th>2</th>\n",
       "      <td>2</td>\n",
       "      <td>38</td>\n",
       "      <td>Private</td>\n",
       "      <td>215646</td>\n",
       "      <td>HS-grad</td>\n",
       "      <td>9</td>\n",
       "      <td>Divorced</td>\n",
       "      <td>Handlers-cleaners</td>\n",
       "      <td>Not-in-family</td>\n",
       "      <td>White</td>\n",
       "      <td>Male</td>\n",
       "      <td>0</td>\n",
       "      <td>0</td>\n",
       "      <td>40</td>\n",
       "      <td>United-States</td>\n",
       "      <td>0</td>\n",
       "    </tr>\n",
       "    <tr>\n",
       "      <th>3</th>\n",
       "      <td>3</td>\n",
       "      <td>53</td>\n",
       "      <td>Private</td>\n",
       "      <td>234721</td>\n",
       "      <td>11th</td>\n",
       "      <td>7</td>\n",
       "      <td>Married-civ-spouse</td>\n",
       "      <td>Handlers-cleaners</td>\n",
       "      <td>Husband</td>\n",
       "      <td>Black</td>\n",
       "      <td>Male</td>\n",
       "      <td>0</td>\n",
       "      <td>0</td>\n",
       "      <td>40</td>\n",
       "      <td>United-States</td>\n",
       "      <td>0</td>\n",
       "    </tr>\n",
       "    <tr>\n",
       "      <th>4</th>\n",
       "      <td>4</td>\n",
       "      <td>28</td>\n",
       "      <td>Private</td>\n",
       "      <td>338409</td>\n",
       "      <td>Bachelors</td>\n",
       "      <td>13</td>\n",
       "      <td>Married-civ-spouse</td>\n",
       "      <td>Prof-specialty</td>\n",
       "      <td>Wife</td>\n",
       "      <td>Black</td>\n",
       "      <td>Female</td>\n",
       "      <td>0</td>\n",
       "      <td>0</td>\n",
       "      <td>40</td>\n",
       "      <td>Cuba</td>\n",
       "      <td>0</td>\n",
       "    </tr>\n",
       "  </tbody>\n",
       "</table>\n",
       "</div>"
      ],
      "text/plain": [
       "   Unnamed: 0  age          Workclass  fnlwgt   education  education-num  \\\n",
       "0           0   39          State-gov   77516   Bachelors             13   \n",
       "1           1   50   Self-emp-not-inc   83311   Bachelors             13   \n",
       "2           2   38            Private  215646     HS-grad              9   \n",
       "3           3   53            Private  234721        11th              7   \n",
       "4           4   28            Private  338409   Bachelors             13   \n",
       "\n",
       "        marital-status          occupation    relationship    race      sex  \\\n",
       "0        Never-married        Adm-clerical   Not-in-family   White     Male   \n",
       "1   Married-civ-spouse     Exec-managerial         Husband   White     Male   \n",
       "2             Divorced   Handlers-cleaners   Not-in-family   White     Male   \n",
       "3   Married-civ-spouse   Handlers-cleaners         Husband   Black     Male   \n",
       "4   Married-civ-spouse      Prof-specialty            Wife   Black   Female   \n",
       "\n",
       "   capital-gain  capital-loss  hours-per-week  native-country  Income  \n",
       "0          2174             0              40   United-States       0  \n",
       "1             0             0              13   United-States       0  \n",
       "2             0             0              40   United-States       0  \n",
       "3             0             0              40   United-States       0  \n",
       "4             0             0              40            Cuba       0  "
      ]
     },
     "execution_count": 2,
     "metadata": {},
     "output_type": "execute_result"
    }
   ],
   "source": [
    "#to load datase\n",
    "df=pd.read_csv(\"salary1.csv\")\n",
    "df.head()"
   ]
  },
  {
   "cell_type": "code",
   "execution_count": 3,
   "id": "704590b1",
   "metadata": {
    "scrolled": true
   },
   "outputs": [
    {
     "data": {
      "text/plain": [
       "(1032, 16)"
      ]
     },
     "execution_count": 3,
     "metadata": {},
     "output_type": "execute_result"
    }
   ],
   "source": [
    "df.shape # how many rows and column"
   ]
  },
  {
   "cell_type": "code",
   "execution_count": 4,
   "id": "a75bb718",
   "metadata": {
    "scrolled": true
   },
   "outputs": [
    {
     "data": {
      "text/plain": [
       "Unnamed: 0        0\n",
       "age               0\n",
       "Workclass         0\n",
       "fnlwgt            0\n",
       "education         0\n",
       "education-num     0\n",
       "marital-status    0\n",
       "occupation        0\n",
       "relationship      0\n",
       "race              0\n",
       "sex               0\n",
       "capital-gain      0\n",
       "capital-loss      0\n",
       "hours-per-week    0\n",
       "native-country    0\n",
       "Income            0\n",
       "dtype: int64"
      ]
     },
     "execution_count": 4,
     "metadata": {},
     "output_type": "execute_result"
    }
   ],
   "source": [
    "#check null values\n",
    "df.isnull().sum()"
   ]
  },
  {
   "cell_type": "code",
   "execution_count": 5,
   "id": "a3fc81b9",
   "metadata": {
    "scrolled": true
   },
   "outputs": [
    {
     "name": "stdout",
     "output_type": "stream",
     "text": [
      "<class 'pandas.core.frame.DataFrame'>\n",
      "RangeIndex: 1032 entries, 0 to 1031\n",
      "Data columns (total 16 columns):\n",
      " #   Column          Non-Null Count  Dtype \n",
      "---  ------          --------------  ----- \n",
      " 0   Unnamed: 0      1032 non-null   int64 \n",
      " 1   age             1032 non-null   int64 \n",
      " 2   Workclass       1032 non-null   object\n",
      " 3   fnlwgt          1032 non-null   int64 \n",
      " 4   education       1032 non-null   object\n",
      " 5   education-num   1032 non-null   int64 \n",
      " 6   marital-status  1032 non-null   object\n",
      " 7   occupation      1032 non-null   object\n",
      " 8   relationship    1032 non-null   object\n",
      " 9   race            1032 non-null   object\n",
      " 10  sex             1032 non-null   object\n",
      " 11  capital-gain    1032 non-null   int64 \n",
      " 12  capital-loss    1032 non-null   int64 \n",
      " 13  hours-per-week  1032 non-null   int64 \n",
      " 14  native-country  1032 non-null   object\n",
      " 15  Income          1032 non-null   int64 \n",
      "dtypes: int64(8), object(8)\n",
      "memory usage: 129.1+ KB\n"
     ]
    }
   ],
   "source": [
    "df.info()"
   ]
  },
  {
   "cell_type": "code",
   "execution_count": 6,
   "id": "602346cd",
   "metadata": {
    "scrolled": true
   },
   "outputs": [
    {
     "name": "stdout",
     "output_type": "stream",
     "text": [
      "<class 'pandas.core.frame.DataFrame'>\n",
      "RangeIndex: 1032 entries, 0 to 1031\n",
      "Data columns (total 8 columns):\n",
      " #   Column          Non-Null Count  Dtype \n",
      "---  ------          --------------  ----- \n",
      " 0   Workclass       1032 non-null   object\n",
      " 1   education       1032 non-null   object\n",
      " 2   marital-status  1032 non-null   object\n",
      " 3   occupation      1032 non-null   object\n",
      " 4   relationship    1032 non-null   object\n",
      " 5   race            1032 non-null   object\n",
      " 6   sex             1032 non-null   object\n",
      " 7   native-country  1032 non-null   object\n",
      "dtypes: object(8)\n",
      "memory usage: 64.6+ KB\n"
     ]
    }
   ],
   "source": [
    "#As we saw some columns has Datatype as object and we can process only numeric data. We need to apply the label encoder\n",
    "#select_dtypes()\n",
    "#Separate the numerical data(int and float) and categorical data(object)\n",
    "#First create dataframe name df_cat which hold object type data means categorical data\n",
    "df_cat=df.select_dtypes(object) \n",
    "#here df_cat is a new dataframe for categorical type data\n",
    "df_cat.info()"
   ]
  },
  {
   "cell_type": "code",
   "execution_count": 7,
   "id": "fb53146f",
   "metadata": {
    "scrolled": true
   },
   "outputs": [
    {
     "name": "stdout",
     "output_type": "stream",
     "text": [
      "<class 'pandas.core.frame.DataFrame'>\n",
      "RangeIndex: 1032 entries, 0 to 1031\n",
      "Data columns (total 8 columns):\n",
      " #   Column          Non-Null Count  Dtype\n",
      "---  ------          --------------  -----\n",
      " 0   Unnamed: 0      1032 non-null   int64\n",
      " 1   age             1032 non-null   int64\n",
      " 2   fnlwgt          1032 non-null   int64\n",
      " 3   education-num   1032 non-null   int64\n",
      " 4   capital-gain    1032 non-null   int64\n",
      " 5   capital-loss    1032 non-null   int64\n",
      " 6   hours-per-week  1032 non-null   int64\n",
      " 7   Income          1032 non-null   int64\n",
      "dtypes: int64(8)\n",
      "memory usage: 64.6 KB\n"
     ]
    }
   ],
   "source": [
    "#Now create second dataframe name df_num\n",
    "#which hold int and float type data means numerical data\n",
    "df_num=df.select_dtypes(['int64','float64'])\n",
    "df_num.info()"
   ]
  },
  {
   "cell_type": "code",
   "execution_count": 8,
   "id": "6e9e72e0",
   "metadata": {
    "scrolled": true
   },
   "outputs": [],
   "source": [
    "#Call LabelEncoder inbuilt class from sklearn.preprocessing library\n",
    "from sklearn.preprocessing import LabelEncoder"
   ]
  },
  {
   "cell_type": "code",
   "execution_count": 9,
   "id": "413882ca",
   "metadata": {
    "scrolled": true
   },
   "outputs": [],
   "source": [
    "#Create object of LabelEncoder class\n",
    "le=LabelEncoder()"
   ]
  },
  {
   "cell_type": "code",
   "execution_count": 10,
   "id": "1c4bf180",
   "metadata": {
    "scrolled": true
   },
   "outputs": [],
   "source": [
    "#Convert catgorical data into numeric data\n",
    "for col in df_cat:\n",
    "    #create object of LabelEncoder class\n",
    "    le=LabelEncoder()\n",
    "    df_cat[col]=le.fit_transform(df_cat[col])   "
   ]
  },
  {
   "cell_type": "code",
   "execution_count": 11,
   "id": "5e36f0be",
   "metadata": {
    "scrolled": true
   },
   "outputs": [
    {
     "name": "stdout",
     "output_type": "stream",
     "text": [
      "<class 'pandas.core.frame.DataFrame'>\n",
      "RangeIndex: 1032 entries, 0 to 1031\n",
      "Data columns (total 8 columns):\n",
      " #   Column          Non-Null Count  Dtype\n",
      "---  ------          --------------  -----\n",
      " 0   Workclass       1032 non-null   int32\n",
      " 1   education       1032 non-null   int32\n",
      " 2   marital-status  1032 non-null   int32\n",
      " 3   occupation      1032 non-null   int32\n",
      " 4   relationship    1032 non-null   int32\n",
      " 5   race            1032 non-null   int32\n",
      " 6   sex             1032 non-null   int32\n",
      " 7   native-country  1032 non-null   int32\n",
      "dtypes: int32(8)\n",
      "memory usage: 32.4 KB\n"
     ]
    }
   ],
   "source": [
    "#Again check teh datatype of sorted DataFrame for categorical datatype\n",
    "df_cat.info()"
   ]
  },
  {
   "cell_type": "code",
   "execution_count": 12,
   "id": "76186703",
   "metadata": {
    "scrolled": true
   },
   "outputs": [
    {
     "data": {
      "text/html": [
       "<div>\n",
       "<style scoped>\n",
       "    .dataframe tbody tr th:only-of-type {\n",
       "        vertical-align: middle;\n",
       "    }\n",
       "\n",
       "    .dataframe tbody tr th {\n",
       "        vertical-align: top;\n",
       "    }\n",
       "\n",
       "    .dataframe thead th {\n",
       "        text-align: right;\n",
       "    }\n",
       "</style>\n",
       "<table border=\"1\" class=\"dataframe\">\n",
       "  <thead>\n",
       "    <tr style=\"text-align: right;\">\n",
       "      <th></th>\n",
       "      <th>Unnamed: 0</th>\n",
       "      <th>age</th>\n",
       "      <th>fnlwgt</th>\n",
       "      <th>education-num</th>\n",
       "      <th>capital-gain</th>\n",
       "      <th>capital-loss</th>\n",
       "      <th>hours-per-week</th>\n",
       "      <th>Income</th>\n",
       "      <th>Workclass</th>\n",
       "      <th>education</th>\n",
       "      <th>marital-status</th>\n",
       "      <th>occupation</th>\n",
       "      <th>relationship</th>\n",
       "      <th>race</th>\n",
       "      <th>sex</th>\n",
       "      <th>native-country</th>\n",
       "    </tr>\n",
       "  </thead>\n",
       "  <tbody>\n",
       "    <tr>\n",
       "      <th>0</th>\n",
       "      <td>0</td>\n",
       "      <td>39</td>\n",
       "      <td>77516</td>\n",
       "      <td>13</td>\n",
       "      <td>2174</td>\n",
       "      <td>0</td>\n",
       "      <td>40</td>\n",
       "      <td>0</td>\n",
       "      <td>5</td>\n",
       "      <td>9</td>\n",
       "      <td>4</td>\n",
       "      <td>0</td>\n",
       "      <td>1</td>\n",
       "      <td>4</td>\n",
       "      <td>1</td>\n",
       "      <td>28</td>\n",
       "    </tr>\n",
       "    <tr>\n",
       "      <th>1</th>\n",
       "      <td>1</td>\n",
       "      <td>50</td>\n",
       "      <td>83311</td>\n",
       "      <td>13</td>\n",
       "      <td>0</td>\n",
       "      <td>0</td>\n",
       "      <td>13</td>\n",
       "      <td>0</td>\n",
       "      <td>4</td>\n",
       "      <td>9</td>\n",
       "      <td>2</td>\n",
       "      <td>3</td>\n",
       "      <td>0</td>\n",
       "      <td>4</td>\n",
       "      <td>1</td>\n",
       "      <td>28</td>\n",
       "    </tr>\n",
       "    <tr>\n",
       "      <th>2</th>\n",
       "      <td>2</td>\n",
       "      <td>38</td>\n",
       "      <td>215646</td>\n",
       "      <td>9</td>\n",
       "      <td>0</td>\n",
       "      <td>0</td>\n",
       "      <td>40</td>\n",
       "      <td>0</td>\n",
       "      <td>2</td>\n",
       "      <td>11</td>\n",
       "      <td>0</td>\n",
       "      <td>5</td>\n",
       "      <td>1</td>\n",
       "      <td>4</td>\n",
       "      <td>1</td>\n",
       "      <td>28</td>\n",
       "    </tr>\n",
       "    <tr>\n",
       "      <th>3</th>\n",
       "      <td>3</td>\n",
       "      <td>53</td>\n",
       "      <td>234721</td>\n",
       "      <td>7</td>\n",
       "      <td>0</td>\n",
       "      <td>0</td>\n",
       "      <td>40</td>\n",
       "      <td>0</td>\n",
       "      <td>2</td>\n",
       "      <td>1</td>\n",
       "      <td>2</td>\n",
       "      <td>5</td>\n",
       "      <td>0</td>\n",
       "      <td>2</td>\n",
       "      <td>1</td>\n",
       "      <td>28</td>\n",
       "    </tr>\n",
       "    <tr>\n",
       "      <th>4</th>\n",
       "      <td>4</td>\n",
       "      <td>28</td>\n",
       "      <td>338409</td>\n",
       "      <td>13</td>\n",
       "      <td>0</td>\n",
       "      <td>0</td>\n",
       "      <td>40</td>\n",
       "      <td>0</td>\n",
       "      <td>2</td>\n",
       "      <td>9</td>\n",
       "      <td>2</td>\n",
       "      <td>9</td>\n",
       "      <td>5</td>\n",
       "      <td>2</td>\n",
       "      <td>0</td>\n",
       "      <td>4</td>\n",
       "    </tr>\n",
       "  </tbody>\n",
       "</table>\n",
       "</div>"
      ],
      "text/plain": [
       "   Unnamed: 0  age  fnlwgt  education-num  capital-gain  capital-loss  \\\n",
       "0           0   39   77516             13          2174             0   \n",
       "1           1   50   83311             13             0             0   \n",
       "2           2   38  215646              9             0             0   \n",
       "3           3   53  234721              7             0             0   \n",
       "4           4   28  338409             13             0             0   \n",
       "\n",
       "   hours-per-week  Income  Workclass  education  marital-status  occupation  \\\n",
       "0              40       0          5          9               4           0   \n",
       "1              13       0          4          9               2           3   \n",
       "2              40       0          2         11               0           5   \n",
       "3              40       0          2          1               2           5   \n",
       "4              40       0          2          9               2           9   \n",
       "\n",
       "   relationship  race  sex  native-country  \n",
       "0             1     4    1              28  \n",
       "1             0     4    1              28  \n",
       "2             1     4    1              28  \n",
       "3             0     2    1              28  \n",
       "4             5     2    0               4  "
      ]
     },
     "execution_count": 12,
     "metadata": {},
     "output_type": "execute_result"
    }
   ],
   "source": [
    "#Create new DataFrae to combine converted dataframe and numerical data frame.\n",
    "#We will use Pandas Inbuilt method concat()\n",
    "df_new=pd.concat([df_num,df_cat],axis=1) #join column wise make axis=1\n",
    "df_new.head()"
   ]
  },
  {
   "cell_type": "code",
   "execution_count": 13,
   "id": "db6deb5a",
   "metadata": {
    "scrolled": true
   },
   "outputs": [
    {
     "data": {
      "text/plain": [
       "array([ 0,  3,  5,  9,  7, 11, 13,  4,  6, 12,  2, 10,  1,  8])"
      ]
     },
     "execution_count": 13,
     "metadata": {},
     "output_type": "execute_result"
    }
   ],
   "source": [
    "#Now check the unique elements of column occupation\n",
    "df_new[\"occupation\"].unique()"
   ]
  },
  {
   "cell_type": "code",
   "execution_count": 14,
   "id": "72b897b7",
   "metadata": {
    "scrolled": true
   },
   "outputs": [
    {
     "name": "stdout",
     "output_type": "stream",
     "text": [
      "Unnamed: 0\n",
      "[   0    1    2 ... 1117 1118 1119]\n",
      "age\n",
      "[39 50 38 53 28 37 49 52 31 42 30 23 32 34 25 43 40 54 35 59 56 19 20 45\n",
      " 22 48 21 24 57 44 41 29 47 46 36 79 27 18 33 76 55 61 70 64 71 66 51 58\n",
      " 26 17 60 90 75 65 77 62 63 67 74 72 69 68 73 81 78]\n",
      "fnlwgt\n",
      "[ 77516  83311 215646 ... 227644 205267 288020]\n",
      "education-num\n",
      "[13  9  7 14  5 10 12  4 16 11 15  3  6  1  8  2]\n",
      "capital-gain\n",
      "[ 2174     0 14084  5178  5013  2407 14344 15024  7688  4064  4386  7298\n",
      "  1409  3674  1055  2050  2176   594 20051  6849  4101  8614  3411  2597\n",
      " 25236  4650  2463  3103 10605  2964  3325  2580  3471]\n",
      "capital-loss\n",
      "[   0 2042 1408 1902 1887 1719 1762 1564 2179 1816 1980 1977 1876 1340\n",
      " 2206 1741 1485 2339 2415 1380 1721 2051 2377 1669 2352 1672  653 2392\n",
      " 1504 1590 1651]\n",
      "hours-per-week\n",
      "[40 13 16 45 50 80 30 35 60 20 52 44 15 25 43 38 55 48 58 32 70 22 56 41\n",
      " 28 36 24 46  2 42 12 65  1 34 75 98 33 54 10  6 64 19 18 72  8  9 47 37\n",
      " 21 26 14  5  7 99]\n",
      "Income\n",
      "[0 1]\n",
      "Workclass\n",
      "[5 4 2 0 1 3]\n",
      "education\n",
      "[ 9 11  1 12  6 15  7  5 10  8 14  4  0 13  2  3]\n",
      "marital-status\n",
      "[4 2 0 3 5 1 6]\n",
      "occupation\n",
      "[ 0  3  5  9  7 11 13  4  6 12  2 10  1  8]\n",
      "relationship\n",
      "[1 0 5 3 4 2]\n",
      "race\n",
      "[4 2 1 0 3]\n",
      "sex\n",
      "[1 0]\n",
      "native-country\n",
      "[28  4 17 14 20 24 13  8  1 10 15 21 22  3  0 27  6 19 26 12 23  5  7  9\n",
      " 11 16  2 25 18 29]\n"
     ]
    }
   ],
   "source": [
    "#Check unique elements for all columns\n",
    "for col in df_new:\n",
    "    print(col)\n",
    "    print(df_new[col].unique())"
   ]
  },
  {
   "cell_type": "code",
   "execution_count": 15,
   "id": "44b9c1b9",
   "metadata": {
    "scrolled": false
   },
   "outputs": [
    {
     "data": {
      "text/plain": [
       "Index(['age', 'fnlwgt', 'education-num', 'capital-gain', 'capital-loss',\n",
       "       'hours-per-week', 'Income', 'Workclass', 'education', 'marital-status',\n",
       "       'occupation', 'relationship', 'race', 'sex', 'native-country'],\n",
       "      dtype='object')"
      ]
     },
     "execution_count": 15,
     "metadata": {},
     "output_type": "execute_result"
    }
   ],
   "source": [
    "#Now we dont need that unanmed column..as it is not useful. Remove that by drop ()\n",
    "df_new.drop(\"Unnamed: 0\",axis=1,inplace=True)#Make inplace = True to remove column permanently\n",
    "df_new.columns"
   ]
  },
  {
   "cell_type": "code",
   "execution_count": 16,
   "id": "ed5bee1e",
   "metadata": {
    "scrolled": true
   },
   "outputs": [
    {
     "data": {
      "text/plain": [
       "Index(['Unnamed: 0', 'age', 'Workclass', 'fnlwgt', 'education',\n",
       "       'education-num', 'marital-status', 'occupation', 'relationship', 'race',\n",
       "       'sex', 'capital-gain', 'capital-loss', 'hours-per-week',\n",
       "       'native-country', 'Income'],\n",
       "      dtype='object')"
      ]
     },
     "execution_count": 16,
     "metadata": {},
     "output_type": "execute_result"
    }
   ],
   "source": [
    "#Separate input and Output\n",
    "X=df_new.drop(\"Income\",axis=1)#input selection.temporary as inplace=True not used\n",
    "Y=df_new[\"Income\"]#output\n",
    "df.columns"
   ]
  },
  {
   "cell_type": "code",
   "execution_count": 17,
   "id": "0f56a250",
   "metadata": {
    "scrolled": true
   },
   "outputs": [
    {
     "data": {
      "text/html": [
       "<div>\n",
       "<style scoped>\n",
       "    .dataframe tbody tr th:only-of-type {\n",
       "        vertical-align: middle;\n",
       "    }\n",
       "\n",
       "    .dataframe tbody tr th {\n",
       "        vertical-align: top;\n",
       "    }\n",
       "\n",
       "    .dataframe thead th {\n",
       "        text-align: right;\n",
       "    }\n",
       "</style>\n",
       "<table border=\"1\" class=\"dataframe\">\n",
       "  <thead>\n",
       "    <tr style=\"text-align: right;\">\n",
       "      <th></th>\n",
       "      <th>age</th>\n",
       "      <th>fnlwgt</th>\n",
       "      <th>education-num</th>\n",
       "      <th>capital-gain</th>\n",
       "      <th>capital-loss</th>\n",
       "      <th>hours-per-week</th>\n",
       "      <th>Workclass</th>\n",
       "      <th>education</th>\n",
       "      <th>marital-status</th>\n",
       "      <th>occupation</th>\n",
       "      <th>relationship</th>\n",
       "      <th>race</th>\n",
       "      <th>sex</th>\n",
       "      <th>native-country</th>\n",
       "    </tr>\n",
       "  </thead>\n",
       "  <tbody>\n",
       "    <tr>\n",
       "      <th>0</th>\n",
       "      <td>39</td>\n",
       "      <td>77516</td>\n",
       "      <td>13</td>\n",
       "      <td>2174</td>\n",
       "      <td>0</td>\n",
       "      <td>40</td>\n",
       "      <td>5</td>\n",
       "      <td>9</td>\n",
       "      <td>4</td>\n",
       "      <td>0</td>\n",
       "      <td>1</td>\n",
       "      <td>4</td>\n",
       "      <td>1</td>\n",
       "      <td>28</td>\n",
       "    </tr>\n",
       "    <tr>\n",
       "      <th>1</th>\n",
       "      <td>50</td>\n",
       "      <td>83311</td>\n",
       "      <td>13</td>\n",
       "      <td>0</td>\n",
       "      <td>0</td>\n",
       "      <td>13</td>\n",
       "      <td>4</td>\n",
       "      <td>9</td>\n",
       "      <td>2</td>\n",
       "      <td>3</td>\n",
       "      <td>0</td>\n",
       "      <td>4</td>\n",
       "      <td>1</td>\n",
       "      <td>28</td>\n",
       "    </tr>\n",
       "    <tr>\n",
       "      <th>2</th>\n",
       "      <td>38</td>\n",
       "      <td>215646</td>\n",
       "      <td>9</td>\n",
       "      <td>0</td>\n",
       "      <td>0</td>\n",
       "      <td>40</td>\n",
       "      <td>2</td>\n",
       "      <td>11</td>\n",
       "      <td>0</td>\n",
       "      <td>5</td>\n",
       "      <td>1</td>\n",
       "      <td>4</td>\n",
       "      <td>1</td>\n",
       "      <td>28</td>\n",
       "    </tr>\n",
       "    <tr>\n",
       "      <th>3</th>\n",
       "      <td>53</td>\n",
       "      <td>234721</td>\n",
       "      <td>7</td>\n",
       "      <td>0</td>\n",
       "      <td>0</td>\n",
       "      <td>40</td>\n",
       "      <td>2</td>\n",
       "      <td>1</td>\n",
       "      <td>2</td>\n",
       "      <td>5</td>\n",
       "      <td>0</td>\n",
       "      <td>2</td>\n",
       "      <td>1</td>\n",
       "      <td>28</td>\n",
       "    </tr>\n",
       "    <tr>\n",
       "      <th>4</th>\n",
       "      <td>28</td>\n",
       "      <td>338409</td>\n",
       "      <td>13</td>\n",
       "      <td>0</td>\n",
       "      <td>0</td>\n",
       "      <td>40</td>\n",
       "      <td>2</td>\n",
       "      <td>9</td>\n",
       "      <td>2</td>\n",
       "      <td>9</td>\n",
       "      <td>5</td>\n",
       "      <td>2</td>\n",
       "      <td>0</td>\n",
       "      <td>4</td>\n",
       "    </tr>\n",
       "  </tbody>\n",
       "</table>\n",
       "</div>"
      ],
      "text/plain": [
       "   age  fnlwgt  education-num  capital-gain  capital-loss  hours-per-week  \\\n",
       "0   39   77516             13          2174             0              40   \n",
       "1   50   83311             13             0             0              13   \n",
       "2   38  215646              9             0             0              40   \n",
       "3   53  234721              7             0             0              40   \n",
       "4   28  338409             13             0             0              40   \n",
       "\n",
       "   Workclass  education  marital-status  occupation  relationship  race  sex  \\\n",
       "0          5          9               4           0             1     4    1   \n",
       "1          4          9               2           3             0     4    1   \n",
       "2          2         11               0           5             1     4    1   \n",
       "3          2          1               2           5             0     2    1   \n",
       "4          2          9               2           9             5     2    0   \n",
       "\n",
       "   native-country  \n",
       "0              28  \n",
       "1              28  \n",
       "2              28  \n",
       "3              28  \n",
       "4               4  "
      ]
     },
     "execution_count": 17,
     "metadata": {},
     "output_type": "execute_result"
    }
   ],
   "source": [
    "X.head()"
   ]
  },
  {
   "cell_type": "code",
   "execution_count": 18,
   "id": "7dfd27eb",
   "metadata": {
    "scrolled": true
   },
   "outputs": [
    {
     "data": {
      "text/plain": [
       "0    0\n",
       "1    0\n",
       "2    0\n",
       "3    0\n",
       "4    0\n",
       "Name: Income, dtype: int64"
      ]
     },
     "execution_count": 18,
     "metadata": {},
     "output_type": "execute_result"
    }
   ],
   "source": [
    "Y.head()"
   ]
  },
  {
   "cell_type": "code",
   "execution_count": 19,
   "id": "242471b4",
   "metadata": {
    "scrolled": true
   },
   "outputs": [],
   "source": [
    "#Our Target variable is Income so drop that from Input variable list\n",
    "#If record predicts 1 then it is YES and if it predicts 0 then it is NO\n",
    "#The given dataset is classification dataset. So we have to make predictions using Classification algorithm.\n",
    "#First we will workout Logistic Regression and then Confusion Matrix"
   ]
  },
  {
   "cell_type": "code",
   "execution_count": 20,
   "id": "06fc7ddc",
   "metadata": {
    "scrolled": true
   },
   "outputs": [],
   "source": [
    "#For Training the model call inbuilt class train_test_split\n",
    "from sklearn.model_selection import train_test_split"
   ]
  },
  {
   "cell_type": "code",
   "execution_count": 21,
   "id": "69aa8761",
   "metadata": {
    "scrolled": true
   },
   "outputs": [],
   "source": [
    "#We will consider 70%:30% ratio for trating : testing\n",
    "X_train,X_test,Y_train,Y_test=train_test_split(X,Y,test_size=0.3, random_state=1)"
   ]
  },
  {
   "cell_type": "code",
   "execution_count": 22,
   "id": "29cb7bae",
   "metadata": {
    "scrolled": true
   },
   "outputs": [],
   "source": [
    "#In Classification, Logistic Regression is used to create baseline model\n",
    "#Call the class inbuilt LogisticRegression\n",
    "from sklearn.linear_model import LogisticRegression"
   ]
  },
  {
   "cell_type": "code",
   "execution_count": 23,
   "id": "0fbdcf09",
   "metadata": {
    "scrolled": true
   },
   "outputs": [],
   "source": [
    "# Create the object of LogisticRegression Class\n",
    "lgr=LogisticRegression()"
   ]
  },
  {
   "cell_type": "code",
   "execution_count": 24,
   "id": "eea4027e",
   "metadata": {
    "scrolled": true
   },
   "outputs": [
    {
     "data": {
      "text/plain": [
       "LogisticRegression()"
      ]
     },
     "execution_count": 24,
     "metadata": {},
     "output_type": "execute_result"
    }
   ],
   "source": [
    "#Train the model, using inbuilt method fit()\n",
    "lgr.fit(X_train,Y_train)"
   ]
  },
  {
   "cell_type": "code",
   "execution_count": 25,
   "id": "b87000a4",
   "metadata": {
    "scrolled": true
   },
   "outputs": [],
   "source": [
    "#Test model using predict(),inbuilt method of Logistic Regression\n",
    "#Logic behind predict():Y_pred=1/(1+exp(-X))\n",
    "Y_pred=lgr.predict(X_test)"
   ]
  },
  {
   "cell_type": "code",
   "execution_count": 26,
   "id": "fa3168f8",
   "metadata": {
    "scrolled": true
   },
   "outputs": [
    {
     "data": {
      "text/plain": [
       "array([0, 0, 1, 0, 0, 0, 0, 0, 0, 0, 0, 0, 0, 0, 0, 0, 0, 0, 0, 0, 0, 0,\n",
       "       0, 0, 0, 0, 0, 0, 0, 0, 0, 0, 0, 0, 0, 0, 0, 0, 0, 0, 0, 1, 0, 0,\n",
       "       0, 0, 1, 1, 0, 0, 1, 1, 0, 0, 0, 0, 0, 0, 0, 0, 0, 0, 0, 0, 0, 0,\n",
       "       0, 0, 0, 1, 0, 0, 1, 0, 0, 0, 0, 0, 0, 0, 0, 0, 0, 0, 0, 0, 0, 0,\n",
       "       0, 0, 0, 0, 0, 0, 0, 0, 0, 0, 0, 1, 1, 0, 0, 1, 0, 0, 0, 0, 0, 0,\n",
       "       0, 0, 0, 0, 0, 0, 1, 0, 0, 0, 0, 0, 0, 0, 1, 0, 1, 1, 0, 1, 0, 0,\n",
       "       0, 0, 0, 0, 0, 0, 0, 0, 0, 0, 0, 0, 0, 0, 0, 0, 0, 0, 0, 0, 0, 0,\n",
       "       0, 0, 0, 0, 0, 0, 0, 0, 0, 0, 0, 0, 0, 0, 0, 0, 1, 0, 0, 0, 0, 0,\n",
       "       1, 0, 0, 1, 0, 0, 0, 0, 0, 0, 0, 0, 0, 1, 0, 0, 0, 0, 0, 0, 0, 0,\n",
       "       0, 0, 0, 1, 0, 1, 0, 0, 0, 0, 0, 0, 0, 0, 0, 1, 0, 0, 0, 0, 0, 0,\n",
       "       0, 0, 0, 0, 0, 0, 0, 0, 0, 1, 0, 0, 0, 0, 0, 0, 0, 0, 0, 0, 0, 0,\n",
       "       1, 0, 0, 1, 0, 0, 0, 0, 0, 0, 0, 0, 0, 0, 0, 0, 0, 0, 0, 0, 0, 0,\n",
       "       0, 0, 0, 0, 0, 0, 0, 0, 0, 0, 0, 0, 0, 0, 0, 0, 0, 0, 0, 0, 0, 0,\n",
       "       0, 0, 0, 0, 0, 0, 0, 0, 0, 0, 0, 0, 1, 0, 1, 0, 0, 0, 0, 0, 0, 0,\n",
       "       0, 0], dtype=int64)"
      ]
     },
     "execution_count": 26,
     "metadata": {},
     "output_type": "execute_result"
    }
   ],
   "source": [
    "#Check Y_pred values are in binary form or not?\n",
    "Y_pred"
   ]
  },
  {
   "cell_type": "code",
   "execution_count": 27,
   "id": "2d52e8f1",
   "metadata": {
    "scrolled": true
   },
   "outputs": [
    {
     "data": {
      "text/html": [
       "<div>\n",
       "<style scoped>\n",
       "    .dataframe tbody tr th:only-of-type {\n",
       "        vertical-align: middle;\n",
       "    }\n",
       "\n",
       "    .dataframe tbody tr th {\n",
       "        vertical-align: top;\n",
       "    }\n",
       "\n",
       "    .dataframe thead th {\n",
       "        text-align: right;\n",
       "    }\n",
       "</style>\n",
       "<table border=\"1\" class=\"dataframe\">\n",
       "  <thead>\n",
       "    <tr style=\"text-align: right;\">\n",
       "      <th></th>\n",
       "      <th>Actual as per Records</th>\n",
       "      <th>Predicted by Machine</th>\n",
       "    </tr>\n",
       "  </thead>\n",
       "  <tbody>\n",
       "    <tr>\n",
       "      <th>339</th>\n",
       "      <td>0</td>\n",
       "      <td>0</td>\n",
       "    </tr>\n",
       "    <tr>\n",
       "      <th>244</th>\n",
       "      <td>0</td>\n",
       "      <td>0</td>\n",
       "    </tr>\n",
       "    <tr>\n",
       "      <th>862</th>\n",
       "      <td>1</td>\n",
       "      <td>1</td>\n",
       "    </tr>\n",
       "    <tr>\n",
       "      <th>567</th>\n",
       "      <td>0</td>\n",
       "      <td>0</td>\n",
       "    </tr>\n",
       "    <tr>\n",
       "      <th>926</th>\n",
       "      <td>0</td>\n",
       "      <td>0</td>\n",
       "    </tr>\n",
       "    <tr>\n",
       "      <th>358</th>\n",
       "      <td>0</td>\n",
       "      <td>0</td>\n",
       "    </tr>\n",
       "    <tr>\n",
       "      <th>576</th>\n",
       "      <td>1</td>\n",
       "      <td>0</td>\n",
       "    </tr>\n",
       "    <tr>\n",
       "      <th>27</th>\n",
       "      <td>0</td>\n",
       "      <td>0</td>\n",
       "    </tr>\n",
       "    <tr>\n",
       "      <th>997</th>\n",
       "      <td>0</td>\n",
       "      <td>0</td>\n",
       "    </tr>\n",
       "    <tr>\n",
       "      <th>563</th>\n",
       "      <td>0</td>\n",
       "      <td>0</td>\n",
       "    </tr>\n",
       "    <tr>\n",
       "      <th>228</th>\n",
       "      <td>0</td>\n",
       "      <td>0</td>\n",
       "    </tr>\n",
       "    <tr>\n",
       "      <th>673</th>\n",
       "      <td>0</td>\n",
       "      <td>0</td>\n",
       "    </tr>\n",
       "    <tr>\n",
       "      <th>985</th>\n",
       "      <td>0</td>\n",
       "      <td>0</td>\n",
       "    </tr>\n",
       "    <tr>\n",
       "      <th>927</th>\n",
       "      <td>0</td>\n",
       "      <td>0</td>\n",
       "    </tr>\n",
       "    <tr>\n",
       "      <th>590</th>\n",
       "      <td>0</td>\n",
       "      <td>0</td>\n",
       "    </tr>\n",
       "    <tr>\n",
       "      <th>840</th>\n",
       "      <td>0</td>\n",
       "      <td>0</td>\n",
       "    </tr>\n",
       "    <tr>\n",
       "      <th>35</th>\n",
       "      <td>0</td>\n",
       "      <td>0</td>\n",
       "    </tr>\n",
       "    <tr>\n",
       "      <th>368</th>\n",
       "      <td>0</td>\n",
       "      <td>0</td>\n",
       "    </tr>\n",
       "    <tr>\n",
       "      <th>133</th>\n",
       "      <td>1</td>\n",
       "      <td>0</td>\n",
       "    </tr>\n",
       "    <tr>\n",
       "      <th>340</th>\n",
       "      <td>0</td>\n",
       "      <td>0</td>\n",
       "    </tr>\n",
       "  </tbody>\n",
       "</table>\n",
       "</div>"
      ],
      "text/plain": [
       "     Actual as per Records  Predicted by Machine\n",
       "339                      0                     0\n",
       "244                      0                     0\n",
       "862                      1                     1\n",
       "567                      0                     0\n",
       "926                      0                     0\n",
       "358                      0                     0\n",
       "576                      1                     0\n",
       "27                       0                     0\n",
       "997                      0                     0\n",
       "563                      0                     0\n",
       "228                      0                     0\n",
       "673                      0                     0\n",
       "985                      0                     0\n",
       "927                      0                     0\n",
       "590                      0                     0\n",
       "840                      0                     0\n",
       "35                       0                     0\n",
       "368                      0                     0\n",
       "133                      1                     0\n",
       "340                      0                     0"
      ]
     },
     "execution_count": 27,
     "metadata": {},
     "output_type": "execute_result"
    }
   ],
   "source": [
    "#Now compare What was output as per records with what is output predicted by machine\n",
    "d={\"Actual as per Records\":Y_test,\"Predicted by Machine\":Y_pred}\n",
    "#put output in dataframe d1 for reference\n",
    "d1=pd.DataFrame(d)\n",
    "d1.head(20)"
   ]
  },
  {
   "cell_type": "code",
   "execution_count": 28,
   "id": "2f351ed4",
   "metadata": {
    "scrolled": true
   },
   "outputs": [
    {
     "data": {
      "text/plain": [
       "0.8"
      ]
     },
     "execution_count": 28,
     "metadata": {},
     "output_type": "execute_result"
    }
   ],
   "source": [
    "#Check the Accuracy of the model score () inbuilt method of Logistic Regression\n",
    "lgr.score(X_test,Y_test)"
   ]
  },
  {
   "cell_type": "code",
   "execution_count": 29,
   "id": "f23b5e8a",
   "metadata": {
    "scrolled": true
   },
   "outputs": [],
   "source": [
    "#Score is good but not Excellent\n",
    "#Though the Score is good/excellent we have to compare the Evaluation Matrix of accuracy, recall, precision and f1-score."
   ]
  },
  {
   "cell_type": "code",
   "execution_count": 30,
   "id": "924f0771",
   "metadata": {
    "scrolled": true
   },
   "outputs": [],
   "source": [
    "#For Evaluation Matrix call the accuracy,recall, precision and f1-score classes from Library \n",
    "from sklearn.metrics import accuracy_score,recall_score,precision_score,f1_score"
   ]
  },
  {
   "cell_type": "code",
   "execution_count": 31,
   "id": "7f2926c1",
   "metadata": {
    "scrolled": true
   },
   "outputs": [
    {
     "data": {
      "text/plain": [
       "0.8"
      ]
     },
     "execution_count": 31,
     "metadata": {},
     "output_type": "execute_result"
    }
   ],
   "source": [
    "accuracy_score(Y_test,Y_pred)#similar to score() of logistic regression"
   ]
  },
  {
   "cell_type": "code",
   "execution_count": 32,
   "id": "c99f6e8b",
   "metadata": {
    "scrolled": true
   },
   "outputs": [
    {
     "data": {
      "text/plain": [
       "0.2638888888888889"
      ]
     },
     "execution_count": 32,
     "metadata": {},
     "output_type": "execute_result"
    }
   ],
   "source": [
    "recall_score(Y_test,Y_pred)"
   ]
  },
  {
   "cell_type": "code",
   "execution_count": 33,
   "id": "e7642464",
   "metadata": {
    "scrolled": true
   },
   "outputs": [
    {
     "data": {
      "text/plain": [
       "0.6785714285714286"
      ]
     },
     "execution_count": 33,
     "metadata": {},
     "output_type": "execute_result"
    }
   ],
   "source": [
    "precision_score(Y_test,Y_pred)"
   ]
  },
  {
   "cell_type": "code",
   "execution_count": 34,
   "id": "0b27440d",
   "metadata": {
    "scrolled": true
   },
   "outputs": [
    {
     "data": {
      "text/plain": [
       "0.38"
      ]
     },
     "execution_count": 34,
     "metadata": {},
     "output_type": "execute_result"
    }
   ],
   "source": [
    "f1_score(Y_test,Y_pred)"
   ]
  },
  {
   "cell_type": "code",
   "execution_count": 35,
   "id": "06f85e53",
   "metadata": {
    "scrolled": true
   },
   "outputs": [],
   "source": [
    "#To generate classification_report call classification_report() inbuilt function which define in classification_report class\n",
    "from sklearn.metrics import classification_report"
   ]
  },
  {
   "cell_type": "code",
   "execution_count": 36,
   "id": "cbb0e66b",
   "metadata": {
    "scrolled": true
   },
   "outputs": [
    {
     "name": "stdout",
     "output_type": "stream",
     "text": [
      "              precision    recall  f1-score   support\n",
      "\n",
      "           0       0.81      0.96      0.88       238\n",
      "           1       0.68      0.26      0.38        72\n",
      "\n",
      "    accuracy                           0.80       310\n",
      "   macro avg       0.75      0.61      0.63       310\n",
      "weighted avg       0.78      0.80      0.76       310\n",
      "\n"
     ]
    }
   ],
   "source": [
    "print(classification_report(Y_test,Y_pred))"
   ]
  },
  {
   "cell_type": "code",
   "execution_count": 37,
   "id": "c94ffe3f",
   "metadata": {
    "scrolled": true
   },
   "outputs": [],
   "source": [
    "#The above results we got from unprocessed data. "
   ]
  },
  {
   "cell_type": "code",
   "execution_count": 38,
   "id": "a2b018b5",
   "metadata": {
    "scrolled": true
   },
   "outputs": [
    {
     "name": "stdout",
     "output_type": "stream",
     "text": [
      "[[229   9]\n",
      " [ 53  19]]\n"
     ]
    }
   ],
   "source": [
    "#To evaluate the accuracy of a classification we need to draw Confusion Matrix\n",
    "from sklearn.metrics import confusion_matrix\n",
    "print(confusion_matrix(Y_test,Y_pred))"
   ]
  },
  {
   "cell_type": "code",
   "execution_count": 39,
   "id": "05661a08",
   "metadata": {
    "scrolled": true
   },
   "outputs": [
    {
     "name": "stdout",
     "output_type": "stream",
     "text": [
      "True Positive: 229\n",
      "False Positive: 9\n",
      "False Negative: 53\n",
      "True Negative: 19\n"
     ]
    }
   ],
   "source": [
    "TP,FP,FN,TN=confusion_matrix(Y_test,Y_pred).ravel() #ravel () converts 2D array to 1D array\n",
    "print(\"True Positive:\",TP)\n",
    "print(\"False Positive:\",FP)\n",
    "print(\"False Negative:\",FN)\n",
    "print(\"True Negative:\",TN)"
   ]
  },
  {
   "cell_type": "code",
   "execution_count": 40,
   "id": "111d12dd",
   "metadata": {
    "scrolled": true
   },
   "outputs": [],
   "source": [
    "#Now preprocessing\n",
    "#First analysis\n",
    "#Feature Selection:manually\n",
    "#Use visualisation for feature selection"
   ]
  },
  {
   "cell_type": "code",
   "execution_count": 41,
   "id": "1dca7b27",
   "metadata": {
    "scrolled": true
   },
   "outputs": [
    {
     "data": {
      "text/plain": [
       "Index(['age', 'fnlwgt', 'education-num', 'capital-gain', 'capital-loss',\n",
       "       'hours-per-week', 'Workclass', 'education', 'marital-status',\n",
       "       'occupation', 'relationship', 'race', 'sex', 'native-country'],\n",
       "      dtype='object')"
      ]
     },
     "execution_count": 41,
     "metadata": {},
     "output_type": "execute_result"
    }
   ],
   "source": [
    "X.columns"
   ]
  },
  {
   "cell_type": "code",
   "execution_count": 42,
   "id": "513c6d1e",
   "metadata": {
    "scrolled": true
   },
   "outputs": [],
   "source": [
    "#countplot for Categorical Datatype\n",
    "#scatterplot for Numerical Datatype"
   ]
  },
  {
   "cell_type": "code",
   "execution_count": 43,
   "id": "bef28d09",
   "metadata": {
    "scrolled": true
   },
   "outputs": [
    {
     "data": {
      "text/plain": [
       "Index(['Workclass', 'education', 'marital-status', 'occupation',\n",
       "       'relationship', 'race', 'sex', 'native-country'],\n",
       "      dtype='object')"
      ]
     },
     "execution_count": 43,
     "metadata": {},
     "output_type": "execute_result"
    }
   ],
   "source": [
    "df_cat.columns"
   ]
  },
  {
   "cell_type": "code",
   "execution_count": 44,
   "id": "37dab074",
   "metadata": {
    "scrolled": true
   },
   "outputs": [
    {
     "data": {
      "text/plain": [
       "Index(['Unnamed: 0', 'age', 'fnlwgt', 'education-num', 'capital-gain',\n",
       "       'capital-loss', 'hours-per-week', 'Income'],\n",
       "      dtype='object')"
      ]
     },
     "execution_count": 44,
     "metadata": {},
     "output_type": "execute_result"
    }
   ],
   "source": [
    "df_num.columns"
   ]
  },
  {
   "cell_type": "code",
   "execution_count": 45,
   "id": "5423f4a0",
   "metadata": {
    "scrolled": true
   },
   "outputs": [
    {
     "data": {
      "image/png": "[encoded data removed]",
      "text/plain": [
       "<Figure size 432x288 with 1 Axes>"
      ]
     },
     "metadata": {
      "needs_background": "light"
     },
     "output_type": "display_data"
    }
   ],
   "source": [
    "#Sample checking\n",
    "#first:check how many person make dollar 50k in year means target variable Income\n",
    "sns.countplot(data=df_new,x=\"Income\")\n",
    "c=df_new[\"Income\"].value_counts()\n",
    "plt.yticks(c)\n",
    "plt.show()"
   ]
  },
  {
   "cell_type": "code",
   "execution_count": 46,
   "id": "e1a1b776",
   "metadata": {},
   "outputs": [],
   "source": [
    "#Chances that People who are having income will likely earn 50K in year"
   ]
  },
  {
   "cell_type": "code",
   "execution_count": 47,
   "id": "05548169",
   "metadata": {
    "scrolled": true
   },
   "outputs": [
    {
     "data": {
      "image/png": "[encoded data removed]",
      "text/plain": [
       "<Figure size 432x288 with 1 Axes>"
      ]
     },
     "metadata": {
      "needs_background": "light"
     },
     "output_type": "display_data"
    },
    {
     "data": {
      "text/plain": [
       "<Figure size 576x432 with 0 Axes>"
      ]
     },
     "metadata": {},
     "output_type": "display_data"
    }
   ],
   "source": [
    "#Now check education is important input features or not to predict the o/p\n",
    "sns.countplot(data=df_new,x=\"Income\",hue=\"education\")\n",
    "fig=plt.figure(figsize=(8,6))\n",
    "plt.show()"
   ]
  },
  {
   "cell_type": "code",
   "execution_count": 48,
   "id": "7c970902",
   "metadata": {
    "scrolled": false
   },
   "outputs": [
    {
     "data": {
      "image/png": "[encoded data removed]",
      "text/plain": [
       "<Figure size 432x288 with 1 Axes>"
      ]
     },
     "metadata": {
      "needs_background": "light"
     },
     "output_type": "display_data"
    },
    {
     "data": {
      "image/png": "[encoded data removed]",
      "text/plain": [
       "<Figure size 432x288 with 1 Axes>"
      ]
     },
     "metadata": {
      "needs_background": "light"
     },
     "output_type": "display_data"
    },
    {
     "data": {
      "image/png": "[encoded data removed]",
      "text/plain": [
       "<Figure size 432x288 with 1 Axes>"
      ]
     },
     "metadata": {
      "needs_background": "light"
     },
     "output_type": "display_data"
    },
    {
     "data": {
      "image/png": "[encoded data removed]",
      "text/plain": [
       "<Figure size 432x288 with 1 Axes>"
      ]
     },
     "metadata": {
      "needs_background": "light"
     },
     "output_type": "display_data"
    },
    {
     "data": {
      "image/png": "[encoded data removed]",
      "text/plain": [
       "<Figure size 432x288 with 1 Axes>"
      ]
     },
     "metadata": {
      "needs_background": "light"
     },
     "output_type": "display_data"
    },
    {
     "data": {
      "image/png": "[encoded data removed]",
      "text/plain": [
       "<Figure size 432x288 with 1 Axes>"
      ]
     },
     "metadata": {
      "needs_background": "light"
     },
     "output_type": "display_data"
    },
    {
     "data": {
      "image/png": "[encoded data removed]",
      "text/plain": [
       "<Figure size 432x288 with 1 Axes>"
      ]
     },
     "metadata": {
      "needs_background": "light"
     },
     "output_type": "display_data"
    },
    {
     "data": {
      "image/png": "[encoded data removed]",
      "text/plain": [
       "<Figure size 432x288 with 1 Axes>"
      ]
     },
     "metadata": {
      "needs_background": "light"
     },
     "output_type": "display_data"
    }
   ],
   "source": [
    "#Check for all Categorical data\n",
    "for col in df_cat:\n",
    "    sns.countplot(data=df_new,x=\"Income\",hue=df_cat[col])\n",
    "    plt.show()\n"
   ]
  },
  {
   "cell_type": "code",
   "execution_count": 49,
   "id": "004cb1cf",
   "metadata": {},
   "outputs": [],
   "source": [
    "#From above graphs we learnt that Occupation is not a important feature to predict the output as graph is balanced for 0 & 1"
   ]
  },
  {
   "cell_type": "code",
   "execution_count": 50,
   "id": "e52990d9",
   "metadata": {
    "scrolled": false
   },
   "outputs": [
    {
     "data": {
      "image/png": "[encoded data removed]",
      "text/plain": [
       "<Figure size 432x288 with 1 Axes>"
      ]
     },
     "metadata": {
      "needs_background": "light"
     },
     "output_type": "display_data"
    },
    {
     "data": {
      "image/png": "[encoded data removed]",
      "text/plain": [
       "<Figure size 432x288 with 1 Axes>"
      ]
     },
     "metadata": {
      "needs_background": "light"
     },
     "output_type": "display_data"
    },
    {
     "data": {
      "image/png": "[encoded data removed]",
      "text/plain": [
       "<Figure size 432x288 with 1 Axes>"
      ]
     },
     "metadata": {
      "needs_background": "light"
     },
     "output_type": "display_data"
    },
    {
     "data": {
      "image/png": "[encoded data removed]",
      "text/plain": [
       "<Figure size 432x288 with 1 Axes>"
      ]
     },
     "metadata": {
      "needs_background": "light"
     },
     "output_type": "display_data"
    },
    {
     "data": {
      "image/png": "[encoded data removed]",
      "text/plain": [
       "<Figure size 432x288 with 1 Axes>"
      ]
     },
     "metadata": {
      "needs_background": "light"
     },
     "output_type": "display_data"
    },
    {
     "data": {
      "image/png": "[encoded data removed]",
      "text/plain": [
       "<Figure size 432x288 with 1 Axes>"
      ]
     },
     "metadata": {
      "needs_background": "light"
     },
     "output_type": "display_data"
    },
    {
     "data": {
      "image/png": "[encoded data removed]",
      "text/plain": [
       "<Figure size 432x288 with 1 Axes>"
      ]
     },
     "metadata": {
      "needs_background": "light"
     },
     "output_type": "display_data"
    },
    {
     "data": {
      "image/png": "[encoded data removed]",
      "text/plain": [
       "<Figure size 432x288 with 1 Axes>"
      ]
     },
     "metadata": {
      "needs_background": "light"
     },
     "output_type": "display_data"
    }
   ],
   "source": [
    "#Check for all Numerical data\n",
    "for col in df_num:\n",
    "    sns.scatterplot(data=df_new,x=df_num[col],y=\"Income\")\n",
    "    plt.show()"
   ]
  },
  {
   "cell_type": "code",
   "execution_count": 51,
   "id": "b989ab62",
   "metadata": {
    "scrolled": true
   },
   "outputs": [],
   "source": [
    "#We dont have to check Income Vs Income graph and Unnamed Vs Income Graph. \n",
    "#They are mistakenly considered as columns of df_num are taken to plot graphs\n",
    "#hours-per-week,fnlwgt & education-num is not an imporatant feature as it has balanced graph"
   ]
  },
  {
   "cell_type": "markdown",
   "id": "da341fea",
   "metadata": {},
   "source": [
    "# Conclusion Steps"
   ]
  },
  {
   "cell_type": "code",
   "execution_count": 52,
   "id": "88ba472e",
   "metadata": {},
   "outputs": [],
   "source": [
    "#Consider the important inputs\n",
    "X=df_new[['Workclass', 'education', 'marital-status','relationship', 'race', 'sex', 'native-country','age',\n",
    "      'capital-gain','capital-loss', 'hours-per-week', 'Income']]#input always 2D array\n",
    "Y=df_new['Income']#output always 1D array"
   ]
  },
  {
   "cell_type": "code",
   "execution_count": 53,
   "id": "d4ac2e4b",
   "metadata": {},
   "outputs": [],
   "source": [
    "X_train,X_test,Y_train,Y_test=train_test_split(X,Y,test_size=0.3, random_state=1)"
   ]
  },
  {
   "cell_type": "code",
   "execution_count": 54,
   "id": "168d635d",
   "metadata": {},
   "outputs": [],
   "source": [
    "lgr=LogisticRegression()"
   ]
  },
  {
   "cell_type": "code",
   "execution_count": 55,
   "id": "6501ddef",
   "metadata": {},
   "outputs": [
    {
     "data": {
      "text/plain": [
       "LogisticRegression()"
      ]
     },
     "execution_count": 55,
     "metadata": {},
     "output_type": "execute_result"
    }
   ],
   "source": [
    "#Train the model\n",
    "lgr.fit(X_train,Y_train)"
   ]
  },
  {
   "cell_type": "code",
   "execution_count": 56,
   "id": "266b9905",
   "metadata": {},
   "outputs": [],
   "source": [
    "# testing the model\n",
    "Y_pred=lgr.predict(X_test)"
   ]
  },
  {
   "cell_type": "code",
   "execution_count": 57,
   "id": "c6676c41",
   "metadata": {},
   "outputs": [
    {
     "name": "stdout",
     "output_type": "stream",
     "text": [
      "              precision    recall  f1-score   support\n",
      "\n",
      "           0       0.93      0.95      0.94       238\n",
      "           1       0.82      0.75      0.78        72\n",
      "\n",
      "    accuracy                           0.90       310\n",
      "   macro avg       0.87      0.85      0.86       310\n",
      "weighted avg       0.90      0.90      0.90       310\n",
      "\n"
     ]
    }
   ],
   "source": [
    "print(classification_report(Y_test,Y_pred))"
   ]
  },
  {
   "cell_type": "code",
   "execution_count": null,
   "id": "78cc2a27",
   "metadata": {},
   "outputs": [],
   "source": [
    "#From classification report we can see that after preprocessing scores are improved. \n",
    "#So, now print the confusion matrix for more clariy"
   ]
  },
  {
   "cell_type": "code",
   "execution_count": 60,
   "id": "862589d3",
   "metadata": {},
   "outputs": [
    {
     "name": "stdout",
     "output_type": "stream",
     "text": [
      "[[226  12]\n",
      " [ 18  54]]\n"
     ]
    }
   ],
   "source": [
    "print(confusion_matrix(Y_test,Y_pred))\n"
   ]
  },
  {
   "cell_type": "code",
   "execution_count": 62,
   "id": "a3f2035d",
   "metadata": {},
   "outputs": [
    {
     "name": "stdout",
     "output_type": "stream",
     "text": [
      "True Positive: 226\n",
      "False Positive: 12\n",
      "False Negative: 18\n",
      "True Negative: 54\n"
     ]
    }
   ],
   "source": [
    "TP,FP,FN,TN=confusion_matrix(Y_test,Y_pred).ravel() #ravel () converts 2D array to 1D array\n",
    "print(\"True Positive:\",TP)\n",
    "print(\"False Positive:\",FP)\n",
    "print(\"False Negative:\",FN)\n",
    "print(\"True Negative:\",TN)"
   ]
  },
  {
   "cell_type": "code",
   "execution_count": null,
   "id": "63a9413c",
   "metadata": {},
   "outputs": [],
   "source": [
    "#End Note : Most of the people will make 50K in year"
   ]
  }
 ],
 "metadata": {
  "kernelspec": {
   "display_name": "Python 3 (ipykernel)",
   "language": "python",
   "name": "python3"
  },
  "language_info": {
   "codemirror_mode": {
    "name": "ipython",
    "version": 3
   },
   "file_extension": ".py",
   "mimetype": "text/x-python",
   "name": "python",
   "nbconvert_exporter": "python",
   "pygments_lexer": "ipython3",
   "version": "3.9.7"
  }
 },
 "nbformat": 4,
 "nbformat_minor": 5
}
