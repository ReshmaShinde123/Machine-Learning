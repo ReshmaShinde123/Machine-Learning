{
  "cells": [
    {
      "cell_type": "markdown",
      "metadata": {
        "id": "view-in-github",
        "colab_type": "text"
      },
      "source": [
        "<a href=\"https://colab.research.google.com/github/ReshmaShinde123/ReshmaShinde123/blob/main/Telecom_Churn_Collab.ipynb\" target=\"_parent\"><img src=\"https://colab.research.google.com/assets/colab-badge.svg\" alt=\"Open In Colab\"/></a>"
      ]
    },
    {
      "cell_type": "code",
      "execution_count": null,
      "id": "4da3c651",
      "metadata": {
        "id": "4da3c651"
      },
      "outputs": [],
      "source": [
        "import numpy as np\n",
        "import pandas as pd\n",
        "import matplotlib.pyplot as plt\n",
        "import seaborn as sns\n",
        "import warnings\n",
        "warnings.filterwarnings(\"ignore\")"
      ]
    },
    {
      "cell_type": "code",
      "execution_count": null,
      "id": "0bdb9d28",
      "metadata": {
        "colab": {
          "base_uri": "https://localhost:8080/"
        },
        "id": "0bdb9d28",
        "outputId": "aedf2b92-2266-4ccf-c647-f35d91fd8773"
      },
      "outputs": [
        {
          "output_type": "stream",
          "name": "stdout",
          "text": [
            "Mounted at /content/drive\n"
          ]
        }
      ],
      "source": [
        "#Dataset:telecomm_churn:- \n",
        "from google.colab import drive\n",
        "drive.mount('/content/drive',force_remount=True)\n",
        "# to load csv file\n",
        "df=pd.read_csv(\"/content/drive/My Drive/Notebook_ML/telecom_churn.csv\")"
      ]
    },
    {
      "cell_type": "markdown",
      "source": [
        "**Description of Dataset:**\n",
        "\n",
        "Each row represents a customer, each column contains customer’s attributes described on the column Metadata.\n",
        "\n",
        "The data set includes information about:\n",
        "\n",
        "Customers who left within the last month – the column is called Churn\n",
        "Services that each customer has signed up for – phone, multiple lines, internet, online security, online backup, device protection, tech support, and streaming TV and movies\n",
        "Customer account information – how long they’ve been a customer, contract, payment method, paperless billing, monthly charges, and total charges\n",
        "Demographic info about customers – gender, age range, and if they have partners and dependents"
      ],
      "metadata": {
        "id": "blPr37zkk6ZY"
      },
      "id": "blPr37zkk6ZY"
    },
    {
      "cell_type": "code",
      "execution_count": null,
      "id": "32bad10b",
      "metadata": {
        "colab": {
          "base_uri": "https://localhost:8080/",
          "height": 357
        },
        "id": "32bad10b",
        "outputId": "28acb45e-e3a0-4f7a-9d88-a35c7b3be22f"
      },
      "outputs": [
        {
          "output_type": "execute_result",
          "data": {
            "text/html": [
              "\n",
              "  <div id=\"df-db66019a-65a4-4395-9457-127a6395a53a\">\n",
              "    <div class=\"colab-df-container\">\n",
              "      <div>\n",
              "<style scoped>\n",
              "    .dataframe tbody tr th:only-of-type {\n",
              "        vertical-align: middle;\n",
              "    }\n",
              "\n",
              "    .dataframe tbody tr th {\n",
              "        vertical-align: top;\n",
              "    }\n",
              "\n",
              "    .dataframe thead th {\n",
              "        text-align: right;\n",
              "    }\n",
              "</style>\n",
              "<table border=\"1\" class=\"dataframe\">\n",
              "  <thead>\n",
              "    <tr style=\"text-align: right;\">\n",
              "      <th></th>\n",
              "      <th>customerID</th>\n",
              "      <th>gender</th>\n",
              "      <th>SeniorCitizen</th>\n",
              "      <th>Partner</th>\n",
              "      <th>Dependents</th>\n",
              "      <th>tenure</th>\n",
              "      <th>PhoneService</th>\n",
              "      <th>MultipleLines</th>\n",
              "      <th>InternetService</th>\n",
              "      <th>OnlineSecurity</th>\n",
              "      <th>OnlineBackup</th>\n",
              "      <th>DeviceProtection</th>\n",
              "      <th>TechSupport</th>\n",
              "      <th>StreamingTV</th>\n",
              "      <th>StreamingMovies</th>\n",
              "      <th>Contract</th>\n",
              "      <th>PaperlessBilling</th>\n",
              "      <th>PaymentMethod</th>\n",
              "      <th>MonthlyCharges</th>\n",
              "      <th>TotalCharges</th>\n",
              "      <th>Churn</th>\n",
              "    </tr>\n",
              "  </thead>\n",
              "  <tbody>\n",
              "    <tr>\n",
              "      <th>0</th>\n",
              "      <td>7590-VHVEG</td>\n",
              "      <td>Female</td>\n",
              "      <td>0</td>\n",
              "      <td>Yes</td>\n",
              "      <td>No</td>\n",
              "      <td>1</td>\n",
              "      <td>No</td>\n",
              "      <td>No phone service</td>\n",
              "      <td>DSL</td>\n",
              "      <td>No</td>\n",
              "      <td>Yes</td>\n",
              "      <td>No</td>\n",
              "      <td>No</td>\n",
              "      <td>No</td>\n",
              "      <td>No</td>\n",
              "      <td>Month-to-month</td>\n",
              "      <td>Yes</td>\n",
              "      <td>Electronic check</td>\n",
              "      <td>29.85</td>\n",
              "      <td>29.85</td>\n",
              "      <td>No</td>\n",
              "    </tr>\n",
              "    <tr>\n",
              "      <th>1</th>\n",
              "      <td>5575-GNVDE</td>\n",
              "      <td>Male</td>\n",
              "      <td>0</td>\n",
              "      <td>No</td>\n",
              "      <td>No</td>\n",
              "      <td>34</td>\n",
              "      <td>Yes</td>\n",
              "      <td>No</td>\n",
              "      <td>DSL</td>\n",
              "      <td>Yes</td>\n",
              "      <td>No</td>\n",
              "      <td>Yes</td>\n",
              "      <td>No</td>\n",
              "      <td>No</td>\n",
              "      <td>No</td>\n",
              "      <td>One year</td>\n",
              "      <td>No</td>\n",
              "      <td>Mailed check</td>\n",
              "      <td>56.95</td>\n",
              "      <td>1889.5</td>\n",
              "      <td>No</td>\n",
              "    </tr>\n",
              "    <tr>\n",
              "      <th>2</th>\n",
              "      <td>3668-QPYBK</td>\n",
              "      <td>Male</td>\n",
              "      <td>0</td>\n",
              "      <td>No</td>\n",
              "      <td>No</td>\n",
              "      <td>2</td>\n",
              "      <td>Yes</td>\n",
              "      <td>No</td>\n",
              "      <td>DSL</td>\n",
              "      <td>Yes</td>\n",
              "      <td>Yes</td>\n",
              "      <td>No</td>\n",
              "      <td>No</td>\n",
              "      <td>No</td>\n",
              "      <td>No</td>\n",
              "      <td>Month-to-month</td>\n",
              "      <td>Yes</td>\n",
              "      <td>Mailed check</td>\n",
              "      <td>53.85</td>\n",
              "      <td>108.15</td>\n",
              "      <td>Yes</td>\n",
              "    </tr>\n",
              "    <tr>\n",
              "      <th>3</th>\n",
              "      <td>7795-CFOCW</td>\n",
              "      <td>Male</td>\n",
              "      <td>0</td>\n",
              "      <td>No</td>\n",
              "      <td>No</td>\n",
              "      <td>45</td>\n",
              "      <td>No</td>\n",
              "      <td>No phone service</td>\n",
              "      <td>DSL</td>\n",
              "      <td>Yes</td>\n",
              "      <td>No</td>\n",
              "      <td>Yes</td>\n",
              "      <td>Yes</td>\n",
              "      <td>No</td>\n",
              "      <td>No</td>\n",
              "      <td>One year</td>\n",
              "      <td>No</td>\n",
              "      <td>Bank transfer (automatic)</td>\n",
              "      <td>42.30</td>\n",
              "      <td>1840.75</td>\n",
              "      <td>No</td>\n",
              "    </tr>\n",
              "    <tr>\n",
              "      <th>4</th>\n",
              "      <td>9237-HQITU</td>\n",
              "      <td>Female</td>\n",
              "      <td>0</td>\n",
              "      <td>No</td>\n",
              "      <td>No</td>\n",
              "      <td>2</td>\n",
              "      <td>Yes</td>\n",
              "      <td>No</td>\n",
              "      <td>Fiber optic</td>\n",
              "      <td>No</td>\n",
              "      <td>No</td>\n",
              "      <td>No</td>\n",
              "      <td>No</td>\n",
              "      <td>No</td>\n",
              "      <td>No</td>\n",
              "      <td>Month-to-month</td>\n",
              "      <td>Yes</td>\n",
              "      <td>Electronic check</td>\n",
              "      <td>70.70</td>\n",
              "      <td>151.65</td>\n",
              "      <td>Yes</td>\n",
              "    </tr>\n",
              "  </tbody>\n",
              "</table>\n",
              "</div>\n",
              "      <button class=\"colab-df-convert\" onclick=\"convertToInteractive('df-db66019a-65a4-4395-9457-127a6395a53a')\"\n",
              "              title=\"Convert this dataframe to an interactive table.\"\n",
              "              style=\"display:none;\">\n",
              "        \n",
              "  <svg xmlns=\"http://www.w3.org/2000/svg\" height=\"24px\"viewBox=\"0 0 24 24\"\n",
              "       width=\"24px\">\n",
              "    <path d=\"M0 0h24v24H0V0z\" fill=\"none\"/>\n",
              "    <path d=\"M18.56 5.44l.94 2.06.94-2.06 2.06-.94-2.06-.94-.94-2.06-.94 2.06-2.06.94zm-11 1L8.5 8.5l.94-2.06 2.06-.94-2.06-.94L8.5 2.5l-.94 2.06-2.06.94zm10 10l.94 2.06.94-2.06 2.06-.94-2.06-.94-.94-2.06-.94 2.06-2.06.94z\"/><path d=\"M17.41 7.96l-1.37-1.37c-.4-.4-.92-.59-1.43-.59-.52 0-1.04.2-1.43.59L10.3 9.45l-7.72 7.72c-.78.78-.78 2.05 0 2.83L4 21.41c.39.39.9.59 1.41.59.51 0 1.02-.2 1.41-.59l7.78-7.78 2.81-2.81c.8-.78.8-2.07 0-2.86zM5.41 20L4 18.59l7.72-7.72 1.47 1.35L5.41 20z\"/>\n",
              "  </svg>\n",
              "      </button>\n",
              "      \n",
              "  <style>\n",
              "    .colab-df-container {\n",
              "      display:flex;\n",
              "      flex-wrap:wrap;\n",
              "      gap: 12px;\n",
              "    }\n",
              "\n",
              "    .colab-df-convert {\n",
              "      background-color: #E8F0FE;\n",
              "      border: none;\n",
              "      border-radius: 50%;\n",
              "      cursor: pointer;\n",
              "      display: none;\n",
              "      fill: #1967D2;\n",
              "      height: 32px;\n",
              "      padding: 0 0 0 0;\n",
              "      width: 32px;\n",
              "    }\n",
              "\n",
              "    .colab-df-convert:hover {\n",
              "      background-color: #E2EBFA;\n",
              "      box-shadow: 0px 1px 2px rgba(60, 64, 67, 0.3), 0px 1px 3px 1px rgba(60, 64, 67, 0.15);\n",
              "      fill: #174EA6;\n",
              "    }\n",
              "\n",
              "    [theme=dark] .colab-df-convert {\n",
              "      background-color: #3B4455;\n",
              "      fill: #D2E3FC;\n",
              "    }\n",
              "\n",
              "    [theme=dark] .colab-df-convert:hover {\n",
              "      background-color: #434B5C;\n",
              "      box-shadow: 0px 1px 3px 1px rgba(0, 0, 0, 0.15);\n",
              "      filter: drop-shadow(0px 1px 2px rgba(0, 0, 0, 0.3));\n",
              "      fill: #FFFFFF;\n",
              "    }\n",
              "  </style>\n",
              "\n",
              "      <script>\n",
              "        const buttonEl =\n",
              "          document.querySelector('#df-db66019a-65a4-4395-9457-127a6395a53a button.colab-df-convert');\n",
              "        buttonEl.style.display =\n",
              "          google.colab.kernel.accessAllowed ? 'block' : 'none';\n",
              "\n",
              "        async function convertToInteractive(key) {\n",
              "          const element = document.querySelector('#df-db66019a-65a4-4395-9457-127a6395a53a');\n",
              "          const dataTable =\n",
              "            await google.colab.kernel.invokeFunction('convertToInteractive',\n",
              "                                                     [key], {});\n",
              "          if (!dataTable) return;\n",
              "\n",
              "          const docLinkHtml = 'Like what you see? Visit the ' +\n",
              "            '<a target=\"_blank\" href=https://colab.research.google.com/notebooks/data_table.ipynb>data table notebook</a>'\n",
              "            + ' to learn more about interactive tables.';\n",
              "          element.innerHTML = '';\n",
              "          dataTable['output_type'] = 'display_data';\n",
              "          await google.colab.output.renderOutput(dataTable, element);\n",
              "          const docLink = document.createElement('div');\n",
              "          docLink.innerHTML = docLinkHtml;\n",
              "          element.appendChild(docLink);\n",
              "        }\n",
              "      </script>\n",
              "    </div>\n",
              "  </div>\n",
              "  "
            ],
            "text/plain": [
              "   customerID  gender  SeniorCitizen  ... MonthlyCharges TotalCharges  Churn\n",
              "0  7590-VHVEG  Female              0  ...          29.85        29.85     No\n",
              "1  5575-GNVDE    Male              0  ...          56.95       1889.5     No\n",
              "2  3668-QPYBK    Male              0  ...          53.85       108.15    Yes\n",
              "3  7795-CFOCW    Male              0  ...          42.30      1840.75     No\n",
              "4  9237-HQITU  Female              0  ...          70.70       151.65    Yes\n",
              "\n",
              "[5 rows x 21 columns]"
            ]
          },
          "metadata": {},
          "execution_count": 3
        }
      ],
      "source": [
        "df.head()"
      ]
    },
    {
      "cell_type": "markdown",
      "source": [
        ""
      ],
      "metadata": {
        "id": "eHOXQAXPhc_Y"
      },
      "id": "eHOXQAXPhc_Y"
    },
    {
      "cell_type": "code",
      "execution_count": null,
      "id": "d3ecedfc",
      "metadata": {
        "colab": {
          "base_uri": "https://localhost:8080/"
        },
        "id": "d3ecedfc",
        "outputId": "b449fa3b-f99b-4a9a-b64c-e4416856befb"
      },
      "outputs": [
        {
          "output_type": "execute_result",
          "data": {
            "text/plain": [
              "(7043, 21)"
            ]
          },
          "metadata": {},
          "execution_count": 4
        }
      ],
      "source": [
        "#to check how many rows and columns\n",
        "df.shape"
      ]
    },
    {
      "cell_type": "code",
      "source": [
        "for col in df:\n",
        "    print(col)\n",
        "    print(df[col].unique())"
      ],
      "metadata": {
        "colab": {
          "base_uri": "https://localhost:8080/"
        },
        "id": "hpOjMnWa612V",
        "outputId": "b731b093-3e0a-4404-aab9-05603c8078bd"
      },
      "id": "hpOjMnWa612V",
      "execution_count": null,
      "outputs": [
        {
          "output_type": "stream",
          "name": "stdout",
          "text": [
            "customerID\n",
            "['7590-VHVEG' '5575-GNVDE' '3668-QPYBK' ... '4801-JZAZL' '8361-LTMKD'\n",
            " '3186-AJIEK']\n",
            "gender\n",
            "['Female' 'Male']\n",
            "SeniorCitizen\n",
            "[0 1]\n",
            "Partner\n",
            "['Yes' 'No']\n",
            "Dependents\n",
            "['No' 'Yes']\n",
            "tenure\n",
            "[ 1 34  2 45  8 22 10 28 62 13 16 58 49 25 69 52 71 21 12 30 47 72 17 27\n",
            "  5 46 11 70 63 43 15 60 18 66  9  3 31 50 64 56  7 42 35 48 29 65 38 68\n",
            " 32 55 37 36 41  6  4 33 67 23 57 61 14 20 53 40 59 24 44 19 54 51 26  0\n",
            " 39]\n",
            "PhoneService\n",
            "['No' 'Yes']\n",
            "MultipleLines\n",
            "['No phone service' 'No' 'Yes']\n",
            "InternetService\n",
            "['DSL' 'Fiber optic' 'No']\n",
            "OnlineSecurity\n",
            "['No' 'Yes' 'No internet service']\n",
            "OnlineBackup\n",
            "['Yes' 'No' 'No internet service']\n",
            "DeviceProtection\n",
            "['No' 'Yes' 'No internet service']\n",
            "TechSupport\n",
            "['No' 'Yes' 'No internet service']\n",
            "StreamingTV\n",
            "['No' 'Yes' 'No internet service']\n",
            "StreamingMovies\n",
            "['No' 'Yes' 'No internet service']\n",
            "Contract\n",
            "['Month-to-month' 'One year' 'Two year']\n",
            "PaperlessBilling\n",
            "['Yes' 'No']\n",
            "PaymentMethod\n",
            "['Electronic check' 'Mailed check' 'Bank transfer (automatic)'\n",
            " 'Credit card (automatic)']\n",
            "MonthlyCharges\n",
            "[29.85 56.95 53.85 ... 63.1  44.2  78.7 ]\n",
            "TotalCharges\n",
            "['29.85' '1889.5' '108.15' ... '346.45' '306.6' '6844.5']\n",
            "Churn\n",
            "['No' 'Yes']\n"
          ]
        }
      ]
    },
    {
      "cell_type": "code",
      "execution_count": null,
      "id": "f1d81baf",
      "metadata": {
        "colab": {
          "base_uri": "https://localhost:8080/"
        },
        "id": "f1d81baf",
        "outputId": "54b60132-de24-4ac0-b635-e1a4098b5744"
      },
      "outputs": [
        {
          "output_type": "execute_result",
          "data": {
            "text/plain": [
              "Index(['customerID', 'gender', 'SeniorCitizen', 'Partner', 'Dependents',\n",
              "       'tenure', 'PhoneService', 'MultipleLines', 'InternetService',\n",
              "       'OnlineSecurity', 'OnlineBackup', 'DeviceProtection', 'TechSupport',\n",
              "       'StreamingTV', 'StreamingMovies', 'Contract', 'PaperlessBilling',\n",
              "       'PaymentMethod', 'MonthlyCharges', 'TotalCharges', 'Churn'],\n",
              "      dtype='object')"
            ]
          },
          "metadata": {},
          "execution_count": 6
        }
      ],
      "source": [
        "df.columns"
      ]
    },
    {
      "cell_type": "code",
      "execution_count": null,
      "id": "0e7d302c",
      "metadata": {
        "colab": {
          "base_uri": "https://localhost:8080/"
        },
        "id": "0e7d302c",
        "outputId": "fd666cf8-729a-4115-d537-619305bb653d"
      },
      "outputs": [
        {
          "output_type": "execute_result",
          "data": {
            "text/plain": [
              "Index(['gender', 'SeniorCitizen', 'Partner', 'Dependents', 'tenure',\n",
              "       'PhoneService', 'MultipleLines', 'InternetService', 'OnlineSecurity',\n",
              "       'OnlineBackup', 'DeviceProtection', 'TechSupport', 'StreamingTV',\n",
              "       'StreamingMovies', 'Contract', 'PaperlessBilling', 'PaymentMethod',\n",
              "       'MonthlyCharges', 'TotalCharges', 'Churn'],\n",
              "      dtype='object')"
            ]
          },
          "metadata": {},
          "execution_count": 7
        }
      ],
      "source": [
        "#Customer to be deleted as it is unwanted\n",
        "df.drop(\"customerID\",axis=1,inplace = True)\n",
        "df.columns"
      ]
    },
    {
      "cell_type": "code",
      "execution_count": null,
      "id": "c4923a85",
      "metadata": {
        "colab": {
          "base_uri": "https://localhost:8080/"
        },
        "id": "c4923a85",
        "outputId": "7d5b798a-7ae4-4653-ca3c-58ccb0076cbf"
      },
      "outputs": [
        {
          "output_type": "execute_result",
          "data": {
            "text/plain": [
              "gender              0\n",
              "SeniorCitizen       0\n",
              "Partner             0\n",
              "Dependents          0\n",
              "tenure              0\n",
              "PhoneService        0\n",
              "MultipleLines       0\n",
              "InternetService     0\n",
              "OnlineSecurity      0\n",
              "OnlineBackup        0\n",
              "DeviceProtection    0\n",
              "TechSupport         0\n",
              "StreamingTV         0\n",
              "StreamingMovies     0\n",
              "Contract            0\n",
              "PaperlessBilling    0\n",
              "PaymentMethod       0\n",
              "MonthlyCharges      0\n",
              "TotalCharges        0\n",
              "Churn               0\n",
              "dtype: int64"
            ]
          },
          "metadata": {},
          "execution_count": 8
        }
      ],
      "source": [
        "#to check null values\n",
        "df.isnull().sum()"
      ]
    },
    {
      "cell_type": "code",
      "execution_count": null,
      "id": "2bddf183",
      "metadata": {
        "colab": {
          "base_uri": "https://localhost:8080/"
        },
        "id": "2bddf183",
        "outputId": "0caf4fd5-354d-4392-b4d4-cf834151d102"
      },
      "outputs": [
        {
          "output_type": "stream",
          "name": "stdout",
          "text": [
            "<class 'pandas.core.frame.DataFrame'>\n",
            "RangeIndex: 7043 entries, 0 to 7042\n",
            "Data columns (total 20 columns):\n",
            " #   Column            Non-Null Count  Dtype  \n",
            "---  ------            --------------  -----  \n",
            " 0   gender            7043 non-null   object \n",
            " 1   SeniorCitizen     7043 non-null   int64  \n",
            " 2   Partner           7043 non-null   object \n",
            " 3   Dependents        7043 non-null   object \n",
            " 4   tenure            7043 non-null   int64  \n",
            " 5   PhoneService      7043 non-null   object \n",
            " 6   MultipleLines     7043 non-null   object \n",
            " 7   InternetService   7043 non-null   object \n",
            " 8   OnlineSecurity    7043 non-null   object \n",
            " 9   OnlineBackup      7043 non-null   object \n",
            " 10  DeviceProtection  7043 non-null   object \n",
            " 11  TechSupport       7043 non-null   object \n",
            " 12  StreamingTV       7043 non-null   object \n",
            " 13  StreamingMovies   7043 non-null   object \n",
            " 14  Contract          7043 non-null   object \n",
            " 15  PaperlessBilling  7043 non-null   object \n",
            " 16  PaymentMethod     7043 non-null   object \n",
            " 17  MonthlyCharges    7043 non-null   float64\n",
            " 18  TotalCharges      7043 non-null   object \n",
            " 19  Churn             7043 non-null   object \n",
            "dtypes: float64(1), int64(2), object(17)\n",
            "memory usage: 1.1+ MB\n"
          ]
        }
      ],
      "source": [
        "df.info()"
      ]
    },
    {
      "cell_type": "code",
      "execution_count": null,
      "id": "cb57479e",
      "metadata": {
        "colab": {
          "base_uri": "https://localhost:8080/"
        },
        "id": "cb57479e",
        "outputId": "cd36c0a0-6c1f-4b8e-9480-23d5567c5fb0"
      },
      "outputs": [
        {
          "output_type": "execute_result",
          "data": {
            "text/plain": [
              "          11\n",
              "20.2      11\n",
              "19.75      9\n",
              "20.05      8\n",
              "19.9       8\n",
              "          ..\n",
              "6849.4     1\n",
              "692.35     1\n",
              "130.15     1\n",
              "3211.9     1\n",
              "6844.5     1\n",
              "Name: TotalCharges, Length: 6531, dtype: int64"
            ]
          },
          "metadata": {},
          "execution_count": 10
        }
      ],
      "source": [
        "df[\"TotalCharges\"].value_counts()# Tocheck max occured value and special value"
      ]
    },
    {
      "cell_type": "code",
      "execution_count": null,
      "id": "806fd478",
      "metadata": {
        "id": "806fd478"
      },
      "outputs": [],
      "source": [
        "df[\"TotalCharges\"].replace(' ',np.nan,inplace=True) "
      ]
    },
    {
      "cell_type": "code",
      "execution_count": null,
      "id": "a69898c0",
      "metadata": {
        "scrolled": true,
        "colab": {
          "base_uri": "https://localhost:8080/"
        },
        "id": "a69898c0",
        "outputId": "e2c0655c-081f-4cd5-86a8-a23764fffd60"
      },
      "outputs": [
        {
          "output_type": "execute_result",
          "data": {
            "text/plain": [
              "20.2      11\n",
              "19.75      9\n",
              "20.05      8\n",
              "19.9       8\n",
              "19.65      8\n",
              "          ..\n",
              "6849.4     1\n",
              "692.35     1\n",
              "130.15     1\n",
              "3211.9     1\n",
              "6844.5     1\n",
              "Name: TotalCharges, Length: 6530, dtype: int64"
            ]
          },
          "metadata": {},
          "execution_count": 12
        }
      ],
      "source": [
        "df[\"TotalCharges\"].value_counts()# To check max occured value and special value"
      ]
    },
    {
      "cell_type": "code",
      "execution_count": null,
      "id": "f940e8f8",
      "metadata": {
        "colab": {
          "base_uri": "https://localhost:8080/"
        },
        "id": "f940e8f8",
        "outputId": "77d8d0e1-abfd-4d9e-a18a-c1c818004219"
      },
      "outputs": [
        {
          "output_type": "execute_result",
          "data": {
            "text/plain": [
              "gender               0\n",
              "SeniorCitizen        0\n",
              "Partner              0\n",
              "Dependents           0\n",
              "tenure               0\n",
              "PhoneService         0\n",
              "MultipleLines        0\n",
              "InternetService      0\n",
              "OnlineSecurity       0\n",
              "OnlineBackup         0\n",
              "DeviceProtection     0\n",
              "TechSupport          0\n",
              "StreamingTV          0\n",
              "StreamingMovies      0\n",
              "Contract             0\n",
              "PaperlessBilling     0\n",
              "PaymentMethod        0\n",
              "MonthlyCharges       0\n",
              "TotalCharges        11\n",
              "Churn                0\n",
              "dtype: int64"
            ]
          },
          "metadata": {},
          "execution_count": 13
        }
      ],
      "source": [
        "#to check null values\n",
        "df.isnull().sum()"
      ]
    },
    {
      "cell_type": "code",
      "execution_count": null,
      "id": "c1b4e221",
      "metadata": {
        "colab": {
          "base_uri": "https://localhost:8080/"
        },
        "id": "c1b4e221",
        "outputId": "e7341425-9e8d-48f1-916e-5bf3c003f54f"
      },
      "outputs": [
        {
          "output_type": "execute_result",
          "data": {
            "text/plain": [
              "dtype('O')"
            ]
          },
          "metadata": {},
          "execution_count": 14
        }
      ],
      "source": [
        "df[\"TotalCharges\"].dtype"
      ]
    },
    {
      "cell_type": "code",
      "execution_count": null,
      "id": "c969b623",
      "metadata": {
        "colab": {
          "base_uri": "https://localhost:8080/"
        },
        "id": "c969b623",
        "outputId": "5758b413-43bc-491e-c59b-ae3073f17fbc"
      },
      "outputs": [
        {
          "output_type": "execute_result",
          "data": {
            "text/plain": [
              "0.15618344455487718"
            ]
          },
          "metadata": {},
          "execution_count": 15
        }
      ],
      "source": [
        "#to find % of null values of TotalCharges column\n",
        "df[\"TotalCharges\"].isnull().sum()*100/df.shape[0]"
      ]
    },
    {
      "cell_type": "code",
      "execution_count": null,
      "id": "efff1361",
      "metadata": {
        "scrolled": true,
        "id": "efff1361"
      },
      "outputs": [],
      "source": [
        "#Total Charges having numeric data but stored as object. So we need to change that.\n",
        "df[\"TotalCharges\"]=df[\"TotalCharges\"].astype(\"float\") "
      ]
    },
    {
      "cell_type": "code",
      "execution_count": null,
      "id": "63e6e1cc",
      "metadata": {
        "colab": {
          "base_uri": "https://localhost:8080/"
        },
        "id": "63e6e1cc",
        "outputId": "f66f11d8-edb7-41ec-dd05-06a6b77538df"
      },
      "outputs": [
        {
          "output_type": "execute_result",
          "data": {
            "text/plain": [
              "dtype('float64')"
            ]
          },
          "metadata": {},
          "execution_count": 17
        }
      ],
      "source": [
        "#Check datatype\n",
        "df[\"TotalCharges\"].dtype"
      ]
    },
    {
      "cell_type": "code",
      "execution_count": null,
      "id": "47c1c022",
      "metadata": {
        "id": "47c1c022"
      },
      "outputs": [],
      "source": [
        "#To fill null values of TotalCharges column with mean of TotalCharges, permanently\n",
        "df['TotalCharges'].fillna(df[\"TotalCharges\"].mean(),inplace=True)"
      ]
    },
    {
      "cell_type": "code",
      "execution_count": null,
      "id": "a5ad98fe",
      "metadata": {
        "colab": {
          "base_uri": "https://localhost:8080/"
        },
        "id": "a5ad98fe",
        "outputId": "d89f8d6d-5c91-42f8-c2cc-3b8ff69c6903"
      },
      "outputs": [
        {
          "output_type": "execute_result",
          "data": {
            "text/plain": [
              "gender              0\n",
              "SeniorCitizen       0\n",
              "Partner             0\n",
              "Dependents          0\n",
              "tenure              0\n",
              "PhoneService        0\n",
              "MultipleLines       0\n",
              "InternetService     0\n",
              "OnlineSecurity      0\n",
              "OnlineBackup        0\n",
              "DeviceProtection    0\n",
              "TechSupport         0\n",
              "StreamingTV         0\n",
              "StreamingMovies     0\n",
              "Contract            0\n",
              "PaperlessBilling    0\n",
              "PaymentMethod       0\n",
              "MonthlyCharges      0\n",
              "TotalCharges        0\n",
              "Churn               0\n",
              "dtype: int64"
            ]
          },
          "metadata": {},
          "execution_count": 19
        }
      ],
      "source": [
        "df.isnull().sum()"
      ]
    },
    {
      "cell_type": "code",
      "execution_count": null,
      "id": "7527b929",
      "metadata": {
        "colab": {
          "base_uri": "https://localhost:8080/"
        },
        "id": "7527b929",
        "outputId": "7205af61-2684-4449-b935-c9bc7d42025a"
      },
      "outputs": [
        {
          "output_type": "stream",
          "name": "stdout",
          "text": [
            "<class 'pandas.core.frame.DataFrame'>\n",
            "RangeIndex: 7043 entries, 0 to 7042\n",
            "Data columns (total 16 columns):\n",
            " #   Column            Non-Null Count  Dtype \n",
            "---  ------            --------------  ----- \n",
            " 0   gender            7043 non-null   object\n",
            " 1   Partner           7043 non-null   object\n",
            " 2   Dependents        7043 non-null   object\n",
            " 3   PhoneService      7043 non-null   object\n",
            " 4   MultipleLines     7043 non-null   object\n",
            " 5   InternetService   7043 non-null   object\n",
            " 6   OnlineSecurity    7043 non-null   object\n",
            " 7   OnlineBackup      7043 non-null   object\n",
            " 8   DeviceProtection  7043 non-null   object\n",
            " 9   TechSupport       7043 non-null   object\n",
            " 10  StreamingTV       7043 non-null   object\n",
            " 11  StreamingMovies   7043 non-null   object\n",
            " 12  Contract          7043 non-null   object\n",
            " 13  PaperlessBilling  7043 non-null   object\n",
            " 14  PaymentMethod     7043 non-null   object\n",
            " 15  Churn             7043 non-null   object\n",
            "dtypes: object(16)\n",
            "memory usage: 880.5+ KB\n"
          ]
        }
      ],
      "source": [
        "# Identify & Separate Categorical and Numerical type columns\n",
        "#As we saw some columns has Datatype as object and we can process only numeric data. We need to apply the label encoder\n",
        "#select_dtypes()\n",
        "#Separate the numerical data(int and float) and categorical data(object)\n",
        "#First create dataframe name df_cat which hold object type data means categorical data\n",
        "df_cat=df.select_dtypes(object) \n",
        "#here df_cat is a new dataframe for categorical type data\n",
        "df_cat.info()"
      ]
    },
    {
      "cell_type": "code",
      "execution_count": null,
      "id": "2cd400a4",
      "metadata": {
        "colab": {
          "base_uri": "https://localhost:8080/"
        },
        "id": "2cd400a4",
        "outputId": "3d536793-62ea-4b20-c776-f2a27cc33f30"
      },
      "outputs": [
        {
          "output_type": "stream",
          "name": "stdout",
          "text": [
            "<class 'pandas.core.frame.DataFrame'>\n",
            "RangeIndex: 7043 entries, 0 to 7042\n",
            "Data columns (total 4 columns):\n",
            " #   Column          Non-Null Count  Dtype  \n",
            "---  ------          --------------  -----  \n",
            " 0   SeniorCitizen   7043 non-null   int64  \n",
            " 1   tenure          7043 non-null   int64  \n",
            " 2   MonthlyCharges  7043 non-null   float64\n",
            " 3   TotalCharges    7043 non-null   float64\n",
            "dtypes: float64(2), int64(2)\n",
            "memory usage: 220.2 KB\n"
          ]
        }
      ],
      "source": [
        "#Now create second dataframe name df_num\n",
        "#which hold int and float type data means numerical data\n",
        "df_num=df.select_dtypes(['int64','float64'])\n",
        "df_num.info()"
      ]
    },
    {
      "cell_type": "code",
      "source": [
        "df.head()"
      ],
      "metadata": {
        "colab": {
          "base_uri": "https://localhost:8080/",
          "height": 340
        },
        "id": "jqWG9RKRJ8fM",
        "outputId": "d6cbf79d-5c8f-47d1-edd0-ce23a506218c"
      },
      "id": "jqWG9RKRJ8fM",
      "execution_count": null,
      "outputs": [
        {
          "output_type": "execute_result",
          "data": {
            "text/html": [
              "\n",
              "  <div id=\"df-4d19e8dd-188b-4365-9867-5bafdbd845be\">\n",
              "    <div class=\"colab-df-container\">\n",
              "      <div>\n",
              "<style scoped>\n",
              "    .dataframe tbody tr th:only-of-type {\n",
              "        vertical-align: middle;\n",
              "    }\n",
              "\n",
              "    .dataframe tbody tr th {\n",
              "        vertical-align: top;\n",
              "    }\n",
              "\n",
              "    .dataframe thead th {\n",
              "        text-align: right;\n",
              "    }\n",
              "</style>\n",
              "<table border=\"1\" class=\"dataframe\">\n",
              "  <thead>\n",
              "    <tr style=\"text-align: right;\">\n",
              "      <th></th>\n",
              "      <th>gender</th>\n",
              "      <th>SeniorCitizen</th>\n",
              "      <th>Partner</th>\n",
              "      <th>Dependents</th>\n",
              "      <th>tenure</th>\n",
              "      <th>PhoneService</th>\n",
              "      <th>MultipleLines</th>\n",
              "      <th>InternetService</th>\n",
              "      <th>OnlineSecurity</th>\n",
              "      <th>OnlineBackup</th>\n",
              "      <th>DeviceProtection</th>\n",
              "      <th>TechSupport</th>\n",
              "      <th>StreamingTV</th>\n",
              "      <th>StreamingMovies</th>\n",
              "      <th>Contract</th>\n",
              "      <th>PaperlessBilling</th>\n",
              "      <th>PaymentMethod</th>\n",
              "      <th>MonthlyCharges</th>\n",
              "      <th>TotalCharges</th>\n",
              "      <th>Churn</th>\n",
              "    </tr>\n",
              "  </thead>\n",
              "  <tbody>\n",
              "    <tr>\n",
              "      <th>0</th>\n",
              "      <td>Female</td>\n",
              "      <td>0</td>\n",
              "      <td>Yes</td>\n",
              "      <td>No</td>\n",
              "      <td>1</td>\n",
              "      <td>No</td>\n",
              "      <td>No phone service</td>\n",
              "      <td>DSL</td>\n",
              "      <td>No</td>\n",
              "      <td>Yes</td>\n",
              "      <td>No</td>\n",
              "      <td>No</td>\n",
              "      <td>No</td>\n",
              "      <td>No</td>\n",
              "      <td>Month-to-month</td>\n",
              "      <td>Yes</td>\n",
              "      <td>Electronic check</td>\n",
              "      <td>29.85</td>\n",
              "      <td>29.85</td>\n",
              "      <td>No</td>\n",
              "    </tr>\n",
              "    <tr>\n",
              "      <th>1</th>\n",
              "      <td>Male</td>\n",
              "      <td>0</td>\n",
              "      <td>No</td>\n",
              "      <td>No</td>\n",
              "      <td>34</td>\n",
              "      <td>Yes</td>\n",
              "      <td>No</td>\n",
              "      <td>DSL</td>\n",
              "      <td>Yes</td>\n",
              "      <td>No</td>\n",
              "      <td>Yes</td>\n",
              "      <td>No</td>\n",
              "      <td>No</td>\n",
              "      <td>No</td>\n",
              "      <td>One year</td>\n",
              "      <td>No</td>\n",
              "      <td>Mailed check</td>\n",
              "      <td>56.95</td>\n",
              "      <td>1889.50</td>\n",
              "      <td>No</td>\n",
              "    </tr>\n",
              "    <tr>\n",
              "      <th>2</th>\n",
              "      <td>Male</td>\n",
              "      <td>0</td>\n",
              "      <td>No</td>\n",
              "      <td>No</td>\n",
              "      <td>2</td>\n",
              "      <td>Yes</td>\n",
              "      <td>No</td>\n",
              "      <td>DSL</td>\n",
              "      <td>Yes</td>\n",
              "      <td>Yes</td>\n",
              "      <td>No</td>\n",
              "      <td>No</td>\n",
              "      <td>No</td>\n",
              "      <td>No</td>\n",
              "      <td>Month-to-month</td>\n",
              "      <td>Yes</td>\n",
              "      <td>Mailed check</td>\n",
              "      <td>53.85</td>\n",
              "      <td>108.15</td>\n",
              "      <td>Yes</td>\n",
              "    </tr>\n",
              "    <tr>\n",
              "      <th>3</th>\n",
              "      <td>Male</td>\n",
              "      <td>0</td>\n",
              "      <td>No</td>\n",
              "      <td>No</td>\n",
              "      <td>45</td>\n",
              "      <td>No</td>\n",
              "      <td>No phone service</td>\n",
              "      <td>DSL</td>\n",
              "      <td>Yes</td>\n",
              "      <td>No</td>\n",
              "      <td>Yes</td>\n",
              "      <td>Yes</td>\n",
              "      <td>No</td>\n",
              "      <td>No</td>\n",
              "      <td>One year</td>\n",
              "      <td>No</td>\n",
              "      <td>Bank transfer (automatic)</td>\n",
              "      <td>42.30</td>\n",
              "      <td>1840.75</td>\n",
              "      <td>No</td>\n",
              "    </tr>\n",
              "    <tr>\n",
              "      <th>4</th>\n",
              "      <td>Female</td>\n",
              "      <td>0</td>\n",
              "      <td>No</td>\n",
              "      <td>No</td>\n",
              "      <td>2</td>\n",
              "      <td>Yes</td>\n",
              "      <td>No</td>\n",
              "      <td>Fiber optic</td>\n",
              "      <td>No</td>\n",
              "      <td>No</td>\n",
              "      <td>No</td>\n",
              "      <td>No</td>\n",
              "      <td>No</td>\n",
              "      <td>No</td>\n",
              "      <td>Month-to-month</td>\n",
              "      <td>Yes</td>\n",
              "      <td>Electronic check</td>\n",
              "      <td>70.70</td>\n",
              "      <td>151.65</td>\n",
              "      <td>Yes</td>\n",
              "    </tr>\n",
              "  </tbody>\n",
              "</table>\n",
              "</div>\n",
              "      <button class=\"colab-df-convert\" onclick=\"convertToInteractive('df-4d19e8dd-188b-4365-9867-5bafdbd845be')\"\n",
              "              title=\"Convert this dataframe to an interactive table.\"\n",
              "              style=\"display:none;\">\n",
              "        \n",
              "  <svg xmlns=\"http://www.w3.org/2000/svg\" height=\"24px\"viewBox=\"0 0 24 24\"\n",
              "       width=\"24px\">\n",
              "    <path d=\"M0 0h24v24H0V0z\" fill=\"none\"/>\n",
              "    <path d=\"M18.56 5.44l.94 2.06.94-2.06 2.06-.94-2.06-.94-.94-2.06-.94 2.06-2.06.94zm-11 1L8.5 8.5l.94-2.06 2.06-.94-2.06-.94L8.5 2.5l-.94 2.06-2.06.94zm10 10l.94 2.06.94-2.06 2.06-.94-2.06-.94-.94-2.06-.94 2.06-2.06.94z\"/><path d=\"M17.41 7.96l-1.37-1.37c-.4-.4-.92-.59-1.43-.59-.52 0-1.04.2-1.43.59L10.3 9.45l-7.72 7.72c-.78.78-.78 2.05 0 2.83L4 21.41c.39.39.9.59 1.41.59.51 0 1.02-.2 1.41-.59l7.78-7.78 2.81-2.81c.8-.78.8-2.07 0-2.86zM5.41 20L4 18.59l7.72-7.72 1.47 1.35L5.41 20z\"/>\n",
              "  </svg>\n",
              "      </button>\n",
              "      \n",
              "  <style>\n",
              "    .colab-df-container {\n",
              "      display:flex;\n",
              "      flex-wrap:wrap;\n",
              "      gap: 12px;\n",
              "    }\n",
              "\n",
              "    .colab-df-convert {\n",
              "      background-color: #E8F0FE;\n",
              "      border: none;\n",
              "      border-radius: 50%;\n",
              "      cursor: pointer;\n",
              "      display: none;\n",
              "      fill: #1967D2;\n",
              "      height: 32px;\n",
              "      padding: 0 0 0 0;\n",
              "      width: 32px;\n",
              "    }\n",
              "\n",
              "    .colab-df-convert:hover {\n",
              "      background-color: #E2EBFA;\n",
              "      box-shadow: 0px 1px 2px rgba(60, 64, 67, 0.3), 0px 1px 3px 1px rgba(60, 64, 67, 0.15);\n",
              "      fill: #174EA6;\n",
              "    }\n",
              "\n",
              "    [theme=dark] .colab-df-convert {\n",
              "      background-color: #3B4455;\n",
              "      fill: #D2E3FC;\n",
              "    }\n",
              "\n",
              "    [theme=dark] .colab-df-convert:hover {\n",
              "      background-color: #434B5C;\n",
              "      box-shadow: 0px 1px 3px 1px rgba(0, 0, 0, 0.15);\n",
              "      filter: drop-shadow(0px 1px 2px rgba(0, 0, 0, 0.3));\n",
              "      fill: #FFFFFF;\n",
              "    }\n",
              "  </style>\n",
              "\n",
              "      <script>\n",
              "        const buttonEl =\n",
              "          document.querySelector('#df-4d19e8dd-188b-4365-9867-5bafdbd845be button.colab-df-convert');\n",
              "        buttonEl.style.display =\n",
              "          google.colab.kernel.accessAllowed ? 'block' : 'none';\n",
              "\n",
              "        async function convertToInteractive(key) {\n",
              "          const element = document.querySelector('#df-4d19e8dd-188b-4365-9867-5bafdbd845be');\n",
              "          const dataTable =\n",
              "            await google.colab.kernel.invokeFunction('convertToInteractive',\n",
              "                                                     [key], {});\n",
              "          if (!dataTable) return;\n",
              "\n",
              "          const docLinkHtml = 'Like what you see? Visit the ' +\n",
              "            '<a target=\"_blank\" href=https://colab.research.google.com/notebooks/data_table.ipynb>data table notebook</a>'\n",
              "            + ' to learn more about interactive tables.';\n",
              "          element.innerHTML = '';\n",
              "          dataTable['output_type'] = 'display_data';\n",
              "          await google.colab.output.renderOutput(dataTable, element);\n",
              "          const docLink = document.createElement('div');\n",
              "          docLink.innerHTML = docLinkHtml;\n",
              "          element.appendChild(docLink);\n",
              "        }\n",
              "      </script>\n",
              "    </div>\n",
              "  </div>\n",
              "  "
            ],
            "text/plain": [
              "   gender  SeniorCitizen Partner  ... MonthlyCharges  TotalCharges Churn\n",
              "0  Female              0     Yes  ...          29.85         29.85    No\n",
              "1    Male              0      No  ...          56.95       1889.50    No\n",
              "2    Male              0      No  ...          53.85        108.15   Yes\n",
              "3    Male              0      No  ...          42.30       1840.75    No\n",
              "4  Female              0      No  ...          70.70        151.65   Yes\n",
              "\n",
              "[5 rows x 20 columns]"
            ]
          },
          "metadata": {},
          "execution_count": 22
        }
      ]
    },
    {
      "cell_type": "code",
      "source": [
        "#Check the histogram\n",
        "plt.figure(figsize = (15,15))\n",
        "for i,col in enumerate(['SeniorCitizen', 'tenure', 'MonthlyCharges', 'TotalCharges']):\n",
        "    plt.subplot(4,2,i+1)\n",
        "    sns.histplot(x = col, data = df, kde = True) #kde=True for plotting fitted density\n",
        "plt.show()"
      ],
      "metadata": {
        "colab": {
          "base_uri": "https://localhost:8080/",
          "height": 452
        },
        "id": "L5Ab7ydcJZ4d",
        "outputId": "ce507ded-81bb-44de-a2be-4eb02f00049a"
      },
      "id": "L5Ab7ydcJZ4d",
      "execution_count": null,
      "outputs": [
        {
          "output_type": "display_data",
          "data": {
            "image/png": "[encoded data removed]",
            "text/plain": [
              "<Figure size 1080x1080 with 4 Axes>"
            ]
          },
          "metadata": {
            "needs_background": "light"
          }
        }
      ]
    },
    {
      "cell_type": "code",
      "execution_count": null,
      "id": "1dbee946",
      "metadata": {
        "id": "1dbee946"
      },
      "outputs": [],
      "source": [
        "#Call LabelEncoder inbuilt class from sklearn.preprocessing library\n",
        "from sklearn.preprocessing import LabelEncoder"
      ]
    },
    {
      "cell_type": "code",
      "execution_count": null,
      "id": "ab97e128",
      "metadata": {
        "id": "ab97e128"
      },
      "outputs": [],
      "source": [
        "#Create object of LabelEncoder class\n",
        "le=LabelEncoder()"
      ]
    },
    {
      "cell_type": "code",
      "execution_count": null,
      "id": "e5ae2586",
      "metadata": {
        "id": "e5ae2586"
      },
      "outputs": [],
      "source": [
        "#Convert catgorical data into numeric data\n",
        "for col in df_cat:\n",
        "    #create object of LabelEncoder class\n",
        "    le=LabelEncoder()\n",
        "    df_cat[col]=le.fit_transform(df_cat[col])  "
      ]
    },
    {
      "cell_type": "code",
      "execution_count": null,
      "id": "0a59bbd8",
      "metadata": {
        "colab": {
          "base_uri": "https://localhost:8080/"
        },
        "id": "0a59bbd8",
        "outputId": "841aaf37-84a3-4385-8784-c61f35a5c47a"
      },
      "outputs": [
        {
          "output_type": "stream",
          "name": "stdout",
          "text": [
            "<class 'pandas.core.frame.DataFrame'>\n",
            "RangeIndex: 7043 entries, 0 to 7042\n",
            "Data columns (total 16 columns):\n",
            " #   Column            Non-Null Count  Dtype\n",
            "---  ------            --------------  -----\n",
            " 0   gender            7043 non-null   int64\n",
            " 1   Partner           7043 non-null   int64\n",
            " 2   Dependents        7043 non-null   int64\n",
            " 3   PhoneService      7043 non-null   int64\n",
            " 4   MultipleLines     7043 non-null   int64\n",
            " 5   InternetService   7043 non-null   int64\n",
            " 6   OnlineSecurity    7043 non-null   int64\n",
            " 7   OnlineBackup      7043 non-null   int64\n",
            " 8   DeviceProtection  7043 non-null   int64\n",
            " 9   TechSupport       7043 non-null   int64\n",
            " 10  StreamingTV       7043 non-null   int64\n",
            " 11  StreamingMovies   7043 non-null   int64\n",
            " 12  Contract          7043 non-null   int64\n",
            " 13  PaperlessBilling  7043 non-null   int64\n",
            " 14  PaymentMethod     7043 non-null   int64\n",
            " 15  Churn             7043 non-null   int64\n",
            "dtypes: int64(16)\n",
            "memory usage: 880.5 KB\n"
          ]
        }
      ],
      "source": [
        "#Again check the datatype of sorted DataFrame for categorical datatype\n",
        "df_cat.info()"
      ]
    },
    {
      "cell_type": "code",
      "execution_count": null,
      "id": "695dc6a9",
      "metadata": {
        "colab": {
          "base_uri": "https://localhost:8080/",
          "height": 270
        },
        "id": "695dc6a9",
        "outputId": "297c94b7-cc43-4f93-8460-04f1eb9c1257"
      },
      "outputs": [
        {
          "output_type": "execute_result",
          "data": {
            "text/html": [
              "\n",
              "  <div id=\"df-db4b8c53-d7bd-45c9-84aa-e929e1baf842\">\n",
              "    <div class=\"colab-df-container\">\n",
              "      <div>\n",
              "<style scoped>\n",
              "    .dataframe tbody tr th:only-of-type {\n",
              "        vertical-align: middle;\n",
              "    }\n",
              "\n",
              "    .dataframe tbody tr th {\n",
              "        vertical-align: top;\n",
              "    }\n",
              "\n",
              "    .dataframe thead th {\n",
              "        text-align: right;\n",
              "    }\n",
              "</style>\n",
              "<table border=\"1\" class=\"dataframe\">\n",
              "  <thead>\n",
              "    <tr style=\"text-align: right;\">\n",
              "      <th></th>\n",
              "      <th>SeniorCitizen</th>\n",
              "      <th>tenure</th>\n",
              "      <th>MonthlyCharges</th>\n",
              "      <th>TotalCharges</th>\n",
              "      <th>gender</th>\n",
              "      <th>Partner</th>\n",
              "      <th>Dependents</th>\n",
              "      <th>PhoneService</th>\n",
              "      <th>MultipleLines</th>\n",
              "      <th>InternetService</th>\n",
              "      <th>OnlineSecurity</th>\n",
              "      <th>OnlineBackup</th>\n",
              "      <th>DeviceProtection</th>\n",
              "      <th>TechSupport</th>\n",
              "      <th>StreamingTV</th>\n",
              "      <th>StreamingMovies</th>\n",
              "      <th>Contract</th>\n",
              "      <th>PaperlessBilling</th>\n",
              "      <th>PaymentMethod</th>\n",
              "      <th>Churn</th>\n",
              "    </tr>\n",
              "  </thead>\n",
              "  <tbody>\n",
              "    <tr>\n",
              "      <th>0</th>\n",
              "      <td>0</td>\n",
              "      <td>1</td>\n",
              "      <td>29.85</td>\n",
              "      <td>29.85</td>\n",
              "      <td>0</td>\n",
              "      <td>1</td>\n",
              "      <td>0</td>\n",
              "      <td>0</td>\n",
              "      <td>1</td>\n",
              "      <td>0</td>\n",
              "      <td>0</td>\n",
              "      <td>2</td>\n",
              "      <td>0</td>\n",
              "      <td>0</td>\n",
              "      <td>0</td>\n",
              "      <td>0</td>\n",
              "      <td>0</td>\n",
              "      <td>1</td>\n",
              "      <td>2</td>\n",
              "      <td>0</td>\n",
              "    </tr>\n",
              "    <tr>\n",
              "      <th>1</th>\n",
              "      <td>0</td>\n",
              "      <td>34</td>\n",
              "      <td>56.95</td>\n",
              "      <td>1889.50</td>\n",
              "      <td>1</td>\n",
              "      <td>0</td>\n",
              "      <td>0</td>\n",
              "      <td>1</td>\n",
              "      <td>0</td>\n",
              "      <td>0</td>\n",
              "      <td>2</td>\n",
              "      <td>0</td>\n",
              "      <td>2</td>\n",
              "      <td>0</td>\n",
              "      <td>0</td>\n",
              "      <td>0</td>\n",
              "      <td>1</td>\n",
              "      <td>0</td>\n",
              "      <td>3</td>\n",
              "      <td>0</td>\n",
              "    </tr>\n",
              "    <tr>\n",
              "      <th>2</th>\n",
              "      <td>0</td>\n",
              "      <td>2</td>\n",
              "      <td>53.85</td>\n",
              "      <td>108.15</td>\n",
              "      <td>1</td>\n",
              "      <td>0</td>\n",
              "      <td>0</td>\n",
              "      <td>1</td>\n",
              "      <td>0</td>\n",
              "      <td>0</td>\n",
              "      <td>2</td>\n",
              "      <td>2</td>\n",
              "      <td>0</td>\n",
              "      <td>0</td>\n",
              "      <td>0</td>\n",
              "      <td>0</td>\n",
              "      <td>0</td>\n",
              "      <td>1</td>\n",
              "      <td>3</td>\n",
              "      <td>1</td>\n",
              "    </tr>\n",
              "    <tr>\n",
              "      <th>3</th>\n",
              "      <td>0</td>\n",
              "      <td>45</td>\n",
              "      <td>42.30</td>\n",
              "      <td>1840.75</td>\n",
              "      <td>1</td>\n",
              "      <td>0</td>\n",
              "      <td>0</td>\n",
              "      <td>0</td>\n",
              "      <td>1</td>\n",
              "      <td>0</td>\n",
              "      <td>2</td>\n",
              "      <td>0</td>\n",
              "      <td>2</td>\n",
              "      <td>2</td>\n",
              "      <td>0</td>\n",
              "      <td>0</td>\n",
              "      <td>1</td>\n",
              "      <td>0</td>\n",
              "      <td>0</td>\n",
              "      <td>0</td>\n",
              "    </tr>\n",
              "    <tr>\n",
              "      <th>4</th>\n",
              "      <td>0</td>\n",
              "      <td>2</td>\n",
              "      <td>70.70</td>\n",
              "      <td>151.65</td>\n",
              "      <td>0</td>\n",
              "      <td>0</td>\n",
              "      <td>0</td>\n",
              "      <td>1</td>\n",
              "      <td>0</td>\n",
              "      <td>1</td>\n",
              "      <td>0</td>\n",
              "      <td>0</td>\n",
              "      <td>0</td>\n",
              "      <td>0</td>\n",
              "      <td>0</td>\n",
              "      <td>0</td>\n",
              "      <td>0</td>\n",
              "      <td>1</td>\n",
              "      <td>2</td>\n",
              "      <td>1</td>\n",
              "    </tr>\n",
              "  </tbody>\n",
              "</table>\n",
              "</div>\n",
              "      <button class=\"colab-df-convert\" onclick=\"convertToInteractive('df-db4b8c53-d7bd-45c9-84aa-e929e1baf842')\"\n",
              "              title=\"Convert this dataframe to an interactive table.\"\n",
              "              style=\"display:none;\">\n",
              "        \n",
              "  <svg xmlns=\"http://www.w3.org/2000/svg\" height=\"24px\"viewBox=\"0 0 24 24\"\n",
              "       width=\"24px\">\n",
              "    <path d=\"M0 0h24v24H0V0z\" fill=\"none\"/>\n",
              "    <path d=\"M18.56 5.44l.94 2.06.94-2.06 2.06-.94-2.06-.94-.94-2.06-.94 2.06-2.06.94zm-11 1L8.5 8.5l.94-2.06 2.06-.94-2.06-.94L8.5 2.5l-.94 2.06-2.06.94zm10 10l.94 2.06.94-2.06 2.06-.94-2.06-.94-.94-2.06-.94 2.06-2.06.94z\"/><path d=\"M17.41 7.96l-1.37-1.37c-.4-.4-.92-.59-1.43-.59-.52 0-1.04.2-1.43.59L10.3 9.45l-7.72 7.72c-.78.78-.78 2.05 0 2.83L4 21.41c.39.39.9.59 1.41.59.51 0 1.02-.2 1.41-.59l7.78-7.78 2.81-2.81c.8-.78.8-2.07 0-2.86zM5.41 20L4 18.59l7.72-7.72 1.47 1.35L5.41 20z\"/>\n",
              "  </svg>\n",
              "      </button>\n",
              "      \n",
              "  <style>\n",
              "    .colab-df-container {\n",
              "      display:flex;\n",
              "      flex-wrap:wrap;\n",
              "      gap: 12px;\n",
              "    }\n",
              "\n",
              "    .colab-df-convert {\n",
              "      background-color: #E8F0FE;\n",
              "      border: none;\n",
              "      border-radius: 50%;\n",
              "      cursor: pointer;\n",
              "      display: none;\n",
              "      fill: #1967D2;\n",
              "      height: 32px;\n",
              "      padding: 0 0 0 0;\n",
              "      width: 32px;\n",
              "    }\n",
              "\n",
              "    .colab-df-convert:hover {\n",
              "      background-color: #E2EBFA;\n",
              "      box-shadow: 0px 1px 2px rgba(60, 64, 67, 0.3), 0px 1px 3px 1px rgba(60, 64, 67, 0.15);\n",
              "      fill: #174EA6;\n",
              "    }\n",
              "\n",
              "    [theme=dark] .colab-df-convert {\n",
              "      background-color: #3B4455;\n",
              "      fill: #D2E3FC;\n",
              "    }\n",
              "\n",
              "    [theme=dark] .colab-df-convert:hover {\n",
              "      background-color: #434B5C;\n",
              "      box-shadow: 0px 1px 3px 1px rgba(0, 0, 0, 0.15);\n",
              "      filter: drop-shadow(0px 1px 2px rgba(0, 0, 0, 0.3));\n",
              "      fill: #FFFFFF;\n",
              "    }\n",
              "  </style>\n",
              "\n",
              "      <script>\n",
              "        const buttonEl =\n",
              "          document.querySelector('#df-db4b8c53-d7bd-45c9-84aa-e929e1baf842 button.colab-df-convert');\n",
              "        buttonEl.style.display =\n",
              "          google.colab.kernel.accessAllowed ? 'block' : 'none';\n",
              "\n",
              "        async function convertToInteractive(key) {\n",
              "          const element = document.querySelector('#df-db4b8c53-d7bd-45c9-84aa-e929e1baf842');\n",
              "          const dataTable =\n",
              "            await google.colab.kernel.invokeFunction('convertToInteractive',\n",
              "                                                     [key], {});\n",
              "          if (!dataTable) return;\n",
              "\n",
              "          const docLinkHtml = 'Like what you see? Visit the ' +\n",
              "            '<a target=\"_blank\" href=https://colab.research.google.com/notebooks/data_table.ipynb>data table notebook</a>'\n",
              "            + ' to learn more about interactive tables.';\n",
              "          element.innerHTML = '';\n",
              "          dataTable['output_type'] = 'display_data';\n",
              "          await google.colab.output.renderOutput(dataTable, element);\n",
              "          const docLink = document.createElement('div');\n",
              "          docLink.innerHTML = docLinkHtml;\n",
              "          element.appendChild(docLink);\n",
              "        }\n",
              "      </script>\n",
              "    </div>\n",
              "  </div>\n",
              "  "
            ],
            "text/plain": [
              "   SeniorCitizen  tenure  ...  PaymentMethod  Churn\n",
              "0              0       1  ...              2      0\n",
              "1              0      34  ...              3      0\n",
              "2              0       2  ...              3      1\n",
              "3              0      45  ...              0      0\n",
              "4              0       2  ...              2      1\n",
              "\n",
              "[5 rows x 20 columns]"
            ]
          },
          "metadata": {},
          "execution_count": 28
        }
      ],
      "source": [
        "#Create new DataFrame to combine converted dataframe and numerical data frame.\n",
        "#We will use Pandas Inbuilt method concat()\n",
        "df_new=pd.concat([df_num,df_cat],axis=1) #join column wise make axis=1, means left to right\n",
        "df_new.head()"
      ]
    },
    {
      "cell_type": "code",
      "execution_count": null,
      "id": "ccfa936b",
      "metadata": {
        "colab": {
          "base_uri": "https://localhost:8080/"
        },
        "id": "ccfa936b",
        "outputId": "810d8c3a-7ade-409c-c07c-0872c7053568"
      },
      "outputs": [
        {
          "output_type": "stream",
          "name": "stdout",
          "text": [
            "<class 'pandas.core.frame.DataFrame'>\n",
            "RangeIndex: 7043 entries, 0 to 7042\n",
            "Data columns (total 20 columns):\n",
            " #   Column            Non-Null Count  Dtype  \n",
            "---  ------            --------------  -----  \n",
            " 0   SeniorCitizen     7043 non-null   int64  \n",
            " 1   tenure            7043 non-null   int64  \n",
            " 2   MonthlyCharges    7043 non-null   float64\n",
            " 3   TotalCharges      7043 non-null   float64\n",
            " 4   gender            7043 non-null   int64  \n",
            " 5   Partner           7043 non-null   int64  \n",
            " 6   Dependents        7043 non-null   int64  \n",
            " 7   PhoneService      7043 non-null   int64  \n",
            " 8   MultipleLines     7043 non-null   int64  \n",
            " 9   InternetService   7043 non-null   int64  \n",
            " 10  OnlineSecurity    7043 non-null   int64  \n",
            " 11  OnlineBackup      7043 non-null   int64  \n",
            " 12  DeviceProtection  7043 non-null   int64  \n",
            " 13  TechSupport       7043 non-null   int64  \n",
            " 14  StreamingTV       7043 non-null   int64  \n",
            " 15  StreamingMovies   7043 non-null   int64  \n",
            " 16  Contract          7043 non-null   int64  \n",
            " 17  PaperlessBilling  7043 non-null   int64  \n",
            " 18  PaymentMethod     7043 non-null   int64  \n",
            " 19  Churn             7043 non-null   int64  \n",
            "dtypes: float64(2), int64(18)\n",
            "memory usage: 1.1 MB\n"
          ]
        }
      ],
      "source": [
        "df_new.info()"
      ]
    },
    {
      "cell_type": "code",
      "execution_count": null,
      "id": "3a9fe2e2",
      "metadata": {
        "id": "3a9fe2e2"
      },
      "outputs": [],
      "source": [
        "from sklearn.preprocessing import StandardScaler \n",
        "#Scaling always done on input columns not on output in classification as output is discrete\n",
        "#But in regression it is done on both input and output columns"
      ]
    },
    {
      "cell_type": "code",
      "execution_count": null,
      "id": "fb8299fe",
      "metadata": {
        "colab": {
          "base_uri": "https://localhost:8080/"
        },
        "id": "fb8299fe",
        "outputId": "8b2d3b6a-d714-4a59-d780-96f10e5104d5"
      },
      "outputs": [
        {
          "output_type": "execute_result",
          "data": {
            "text/plain": [
              "Index(['SeniorCitizen', 'tenure', 'MonthlyCharges', 'TotalCharges', 'gender',\n",
              "       'Partner', 'Dependents', 'PhoneService', 'MultipleLines',\n",
              "       'InternetService', 'OnlineSecurity', 'OnlineBackup', 'DeviceProtection',\n",
              "       'TechSupport', 'StreamingTV', 'StreamingMovies', 'Contract',\n",
              "       'PaperlessBilling', 'PaymentMethod', 'Churn'],\n",
              "      dtype='object')"
            ]
          },
          "metadata": {},
          "execution_count": 31
        }
      ],
      "source": [
        "#Select Input and Output\n",
        "X=df_new.drop(\"Churn\",axis=1)#input selection.temporary as inplace=True not used\n",
        "Y=df_new[\"Churn\"]#output\n",
        "df_new.columns"
      ]
    },
    {
      "cell_type": "code",
      "execution_count": null,
      "id": "60700cff",
      "metadata": {
        "id": "60700cff"
      },
      "outputs": [],
      "source": [
        "#train_test_split\n",
        "from sklearn.model_selection import train_test_split\n",
        "X_train,X_test,Y_train,Y_test=train_test_split(X,Y,test_size=0.3, random_state=1)"
      ]
    },
    {
      "cell_type": "code",
      "execution_count": null,
      "id": "81f4b155",
      "metadata": {
        "colab": {
          "base_uri": "https://localhost:8080/"
        },
        "id": "81f4b155",
        "outputId": "2d36dd69-4a34-4aae-af90-cb4cf1021cc4"
      },
      "outputs": [
        {
          "output_type": "stream",
          "name": "stdout",
          "text": [
            "After scaling training Data:  \n",
            " [[-0.43979045 -0.49748235  0.12975533 ...  0.38426552  0.82758326\n",
            "   0.39371116]\n",
            " [-0.43979045  1.49818033  1.29989652 ... -0.82237716  0.82758326\n",
            "   0.39371116]\n",
            " [ 2.27381019 -0.82330483  0.51980239 ... -0.82237716  0.82758326\n",
            "   0.39371116]\n",
            " ...\n",
            " [-0.43979045 -0.17165987  1.35798864 ... -0.82237716  0.82758326\n",
            "   0.39371116]\n",
            " [-0.43979045 -1.23058292 -0.34494024 ... -0.82237716  0.82758326\n",
            "   1.33366079]\n",
            " [-0.43979045 -0.66039359  0.11481736 ...  1.5909082  -1.20833764\n",
            "  -1.48618812]]\n",
            "After scaling testing Data:  \n",
            " [[-0.43979045  0.35780166  0.4998851  ...  0.38426552  0.82758326\n",
            "  -1.48618812]\n",
            " [ 2.27381019  1.3759969   1.2484435  ...  1.5909082   0.82758326\n",
            "  -1.48618812]\n",
            " [-0.43979045 -0.82330483 -0.65697789 ... -0.82237716  0.82758326\n",
            "  -1.48618812]\n",
            " ...\n",
            " [ 2.27381019 -0.45675454  1.06254873 ... -0.82237716  0.82758326\n",
            "  -1.48618812]\n",
            " [-0.43979045  1.53890814 -0.21215826 ...  0.38426552  0.82758326\n",
            "  -1.48618812]\n",
            " [-0.43979045  0.5207129   0.29075348 ...  1.5909082  -1.20833764\n",
            "   1.33366079]]\n"
          ]
        }
      ],
      "source": [
        "#fit_transform on training data X_train and trasnform on testing_data means X_test\n",
        "#Create object of StandardScaler class\n",
        "ss=StandardScaler()\n",
        "X_train=ss.fit_transform(X_train)\n",
        "X_test=ss.transform(X_test)\n",
        "print(\"After scaling training Data:  \\n\",X_train)\n",
        "print(\"After scaling testing Data:  \\n\",X_test)"
      ]
    },
    {
      "cell_type": "code",
      "execution_count": null,
      "id": "63ac15b4",
      "metadata": {
        "id": "63ac15b4"
      },
      "outputs": [],
      "source": [
        "#Create user defined function\n",
        "def create_model(model): #here model is user defined object\n",
        "    model.fit(X_train,Y_train) #train the model\n",
        "    Y_pred=model.predict(X_test)#test the model\n",
        "    print(classification_report(Y_test,Y_pred))\n",
        "    print(\"Confusion Matrix\")\n",
        "    print(confusion_matrix(Y_test,Y_pred))\n",
        "    return model  "
      ]
    },
    {
      "cell_type": "code",
      "execution_count": null,
      "id": "f8bcac28",
      "metadata": {
        "id": "f8bcac28"
      },
      "outputs": [],
      "source": [
        "#BaseLine model : Logistic Regression\n",
        "from sklearn.metrics import confusion_matrix\n",
        "from sklearn.metrics import classification_report\n",
        "#Base Line Model means use Logistic Regression(we predict yes/no values then \n",
        "#use classification algorithm)\n",
        "from sklearn.linear_model import LogisticRegression"
      ]
    },
    {
      "cell_type": "code",
      "execution_count": null,
      "id": "64ca66ca",
      "metadata": {
        "id": "64ca66ca"
      },
      "outputs": [],
      "source": [
        "#create the object of LogisticRegression class()\n",
        "lgr=LogisticRegression()"
      ]
    },
    {
      "cell_type": "code",
      "execution_count": null,
      "id": "1c8f9466",
      "metadata": {
        "colab": {
          "base_uri": "https://localhost:8080/"
        },
        "id": "1c8f9466",
        "outputId": "faacb2b8-c170-4566-d0f7-955fe1e43903"
      },
      "outputs": [
        {
          "output_type": "stream",
          "name": "stdout",
          "text": [
            "              precision    recall  f1-score   support\n",
            "\n",
            "           0       0.86      0.88      0.87      1585\n",
            "           1       0.63      0.59      0.61       528\n",
            "\n",
            "    accuracy                           0.81      2113\n",
            "   macro avg       0.75      0.73      0.74      2113\n",
            "weighted avg       0.81      0.81      0.81      2113\n",
            "\n",
            "Confusion Matrix\n",
            "[[1401  184]\n",
            " [ 219  309]]\n"
          ]
        }
      ],
      "source": [
        "#call function\n",
        "lgr=create_model(lgr)"
      ]
    },
    {
      "cell_type": "code",
      "execution_count": null,
      "id": "10f70046",
      "metadata": {
        "id": "10f70046"
      },
      "outputs": [],
      "source": [
        "#0 customer not leaving service and scores mentioned infront of 0 are scores of accuracy of model \n",
        "#1 customer  leaving service and scores mentioned infront of 0 are scores of accuracy of model \n",
        "# as we see huge difference for precision score for 0(0.86) and (0.63)...it shows that data is unbalanced.\n",
        "#Same is with recall and f1-score. \n",
        "#for 0 recall is 0.88 and for 1 recall is 0.59. hence Unbalanced\n",
        "# all scores for 1 are not good. difference between scores of 0 & 1 is unbalaced"
      ]
    },
    {
      "cell_type": "code",
      "execution_count": null,
      "id": "b68ae038",
      "metadata": {
        "colab": {
          "base_uri": "https://localhost:8080/"
        },
        "id": "b68ae038",
        "outputId": "baab8f57-a5d7-455b-b2d9-c53873a90165"
      },
      "outputs": [
        {
          "output_type": "execute_result",
          "data": {
            "text/plain": [
              "0    5174\n",
              "1    1869\n",
              "Name: Churn, dtype: int64"
            ]
          },
          "metadata": {},
          "execution_count": 39
        }
      ],
      "source": [
        "df_new[\"Churn\"].value_counts()"
      ]
    },
    {
      "cell_type": "code",
      "execution_count": null,
      "id": "47965821",
      "metadata": {
        "colab": {
          "base_uri": "https://localhost:8080/",
          "height": 279
        },
        "id": "47965821",
        "outputId": "9f57ba76-4808-4c93-e547-12806efab4da"
      },
      "outputs": [
        {
          "output_type": "display_data",
          "data": {
            "image/png": "[encoded data removed]",
            "text/plain": [
              "<Figure size 432x288 with 1 Axes>"
            ]
          },
          "metadata": {
            "needs_background": "light"
          }
        }
      ],
      "source": [
        "#View in graph balanced or unbalanced data\n",
        "sns.countplot(data=df_new,x='Churn')\n",
        "c=df_new['Churn'].value_counts()\n",
        "plt.yticks(c)\n",
        "plt.show()"
      ]
    },
    {
      "cell_type": "code",
      "execution_count": null,
      "id": "f2e200a2",
      "metadata": {
        "id": "f2e200a2"
      },
      "outputs": [],
      "source": [
        "#One time install imblearn package\n",
        "#! pip install imblearn\n",
        "from imblearn.under_sampling import RandomUnderSampler\n",
        "from imblearn.over_sampling import RandomOverSampler"
      ]
    },
    {
      "cell_type": "code",
      "execution_count": null,
      "id": "375537dd",
      "metadata": {
        "id": "375537dd"
      },
      "outputs": [],
      "source": [
        "#Use RandomOverSampler\n",
        "#Create object of RandomOverSampler() class\n",
        "ros=RandomOverSampler()"
      ]
    },
    {
      "cell_type": "code",
      "execution_count": null,
      "id": "fcb87bbd",
      "metadata": {
        "id": "fcb87bbd"
      },
      "outputs": [],
      "source": [
        "#fit_resample() inbuilt method of RandomOverSampler()class\n",
        "X_train1,Y_train1=ros.fit_resample(X_train,Y_train)"
      ]
    },
    {
      "cell_type": "code",
      "execution_count": null,
      "id": "3cd9b5f0",
      "metadata": {
        "colab": {
          "base_uri": "https://localhost:8080/"
        },
        "id": "3cd9b5f0",
        "outputId": "b21d2e0e-b719-4999-a85d-7ee310536fcf"
      },
      "outputs": [
        {
          "output_type": "execute_result",
          "data": {
            "text/plain": [
              "0    3589\n",
              "1    1341\n",
              "Name: Churn, dtype: int64"
            ]
          },
          "metadata": {},
          "execution_count": 44
        }
      ],
      "source": [
        "#Before apply RandomOverSampler() on training data\n",
        "pd.Series(Y_train).value_counts()"
      ]
    },
    {
      "cell_type": "code",
      "execution_count": null,
      "id": "211a7422",
      "metadata": {
        "colab": {
          "base_uri": "https://localhost:8080/"
        },
        "id": "211a7422",
        "outputId": "4f245ff5-e5de-4f91-bfa7-ab79715afc04"
      },
      "outputs": [
        {
          "output_type": "execute_result",
          "data": {
            "text/plain": [
              "0    3589\n",
              "1    3589\n",
              "Name: Churn, dtype: int64"
            ]
          },
          "metadata": {},
          "execution_count": 45
        }
      ],
      "source": [
        "#after apply RandomOverSampler() on training data\n",
        "pd.Series(Y_train1).value_counts()"
      ]
    },
    {
      "cell_type": "code",
      "execution_count": null,
      "id": "422a7f70",
      "metadata": {
        "id": "422a7f70"
      },
      "outputs": [],
      "source": [
        "#Apply RandomOverSampler over 30 % testing data\n",
        "X_test1,Y_test1=ros.fit_resample(X_test,Y_test)"
      ]
    },
    {
      "cell_type": "code",
      "execution_count": null,
      "id": "af6913fb",
      "metadata": {
        "scrolled": true,
        "colab": {
          "base_uri": "https://localhost:8080/"
        },
        "id": "af6913fb",
        "outputId": "57d097cb-82f8-49e7-d640-c68618c93d39"
      },
      "outputs": [
        {
          "output_type": "execute_result",
          "data": {
            "text/plain": [
              "0    1585\n",
              "1     528\n",
              "Name: Churn, dtype: int64"
            ]
          },
          "metadata": {},
          "execution_count": 47
        }
      ],
      "source": [
        "#Before apply RandomOverSampler() on 30% testing data\n",
        "pd.Series(Y_test).value_counts()"
      ]
    },
    {
      "cell_type": "code",
      "execution_count": null,
      "id": "1ff63a10",
      "metadata": {
        "colab": {
          "base_uri": "https://localhost:8080/"
        },
        "id": "1ff63a10",
        "outputId": "299684d3-fd5a-4c6f-c727-fbaec61c8e18"
      },
      "outputs": [
        {
          "output_type": "execute_result",
          "data": {
            "text/plain": [
              "0    1585\n",
              "1    1585\n",
              "Name: Churn, dtype: int64"
            ]
          },
          "metadata": {},
          "execution_count": 48
        }
      ],
      "source": [
        "#after apply RandomOverSampler() on testing data\n",
        "pd.Series(Y_test1).value_counts()"
      ]
    },
    {
      "cell_type": "code",
      "execution_count": null,
      "id": "2c5741c8",
      "metadata": {
        "id": "2c5741c8"
      },
      "outputs": [],
      "source": [
        "#Create user defined function for ROS\n",
        "def create_model1(model): #here model is user defined object\n",
        "    model.fit(X_train1,Y_train1) #train the model\n",
        "    Y_pred=model.predict(X_test1)#test the model\n",
        "    print(classification_report(Y_test1,Y_pred))\n",
        "    print(\"Confusion Matrix\")\n",
        "    print(confusion_matrix(Y_test1,Y_pred))\n",
        "    return model "
      ]
    },
    {
      "cell_type": "code",
      "execution_count": null,
      "id": "d853d28d",
      "metadata": {
        "id": "d853d28d"
      },
      "outputs": [],
      "source": [
        "#create baseline model: Logistic Regression\n",
        "# Create object of Logisticregression class\n",
        "lgr1=LogisticRegression()"
      ]
    },
    {
      "cell_type": "code",
      "execution_count": null,
      "id": "b4bc94d4",
      "metadata": {
        "colab": {
          "base_uri": "https://localhost:8080/"
        },
        "id": "b4bc94d4",
        "outputId": "6515909a-533f-496c-907c-0896aa170245"
      },
      "outputs": [
        {
          "output_type": "stream",
          "name": "stdout",
          "text": [
            "              precision    recall  f1-score   support\n",
            "\n",
            "           0       0.79      0.73      0.76      1585\n",
            "           1       0.75      0.80      0.77      1585\n",
            "\n",
            "    accuracy                           0.77      3170\n",
            "   macro avg       0.77      0.77      0.77      3170\n",
            "weighted avg       0.77      0.77      0.77      3170\n",
            "\n",
            "Confusion Matrix\n",
            "[[1161  424]\n",
            " [ 316 1269]]\n"
          ]
        }
      ],
      "source": [
        "lgr1=create_model1(lgr1)"
      ]
    },
    {
      "cell_type": "code",
      "execution_count": null,
      "id": "887ccee8",
      "metadata": {
        "id": "887ccee8"
      },
      "outputs": [],
      "source": [
        "#Use RandomUnderSampler\n",
        "#Create object of RandomOverSampler() class\n",
        "rus=RandomUnderSampler()"
      ]
    },
    {
      "cell_type": "code",
      "execution_count": null,
      "id": "0eda4474",
      "metadata": {
        "id": "0eda4474"
      },
      "outputs": [],
      "source": [
        "#fit_resample() inbuilt method of RandomUnderSampler()class\n",
        "X_train2,Y_train2=rus.fit_resample(X_train,Y_train)"
      ]
    },
    {
      "cell_type": "code",
      "execution_count": null,
      "id": "74925bef",
      "metadata": {
        "colab": {
          "base_uri": "https://localhost:8080/"
        },
        "id": "74925bef",
        "outputId": "7bfaa6b6-654b-4a00-a64e-4cec6a70d491"
      },
      "outputs": [
        {
          "output_type": "execute_result",
          "data": {
            "text/plain": [
              "0    3589\n",
              "1    1341\n",
              "Name: Churn, dtype: int64"
            ]
          },
          "metadata": {},
          "execution_count": 54
        }
      ],
      "source": [
        "#Before apply RandomUnderSampler() on training data\n",
        "pd.Series(Y_train).value_counts()"
      ]
    },
    {
      "cell_type": "code",
      "execution_count": null,
      "id": "441c06e4",
      "metadata": {
        "colab": {
          "base_uri": "https://localhost:8080/"
        },
        "id": "441c06e4",
        "outputId": "de7754e6-f5cc-4b09-9338-f86354d80fdb"
      },
      "outputs": [
        {
          "output_type": "execute_result",
          "data": {
            "text/plain": [
              "0    1341\n",
              "1    1341\n",
              "Name: Churn, dtype: int64"
            ]
          },
          "metadata": {},
          "execution_count": 55
        }
      ],
      "source": [
        "#Before apply RandomUnderSampler() on training data\n",
        "pd.Series(Y_train2).value_counts()"
      ]
    },
    {
      "cell_type": "code",
      "execution_count": null,
      "id": "4cad9c22",
      "metadata": {
        "id": "4cad9c22"
      },
      "outputs": [],
      "source": [
        "#Apply RandomUnderSampler over 30 % testing data\n",
        "X_test2,Y_test2=rus.fit_resample(X_test,Y_test)"
      ]
    },
    {
      "cell_type": "code",
      "execution_count": null,
      "id": "05937791",
      "metadata": {
        "colab": {
          "base_uri": "https://localhost:8080/"
        },
        "id": "05937791",
        "outputId": "fa6b97bb-3c09-4735-cd76-d456c1389d74"
      },
      "outputs": [
        {
          "output_type": "execute_result",
          "data": {
            "text/plain": [
              "0    1585\n",
              "1     528\n",
              "Name: Churn, dtype: int64"
            ]
          },
          "metadata": {},
          "execution_count": 57
        }
      ],
      "source": [
        "#Before apply RandomUnderSampler() on 30% testing data\n",
        "pd.Series(Y_test).value_counts()"
      ]
    },
    {
      "cell_type": "code",
      "execution_count": null,
      "id": "7496be29",
      "metadata": {
        "colab": {
          "base_uri": "https://localhost:8080/"
        },
        "id": "7496be29",
        "outputId": "6a4d882c-5817-4e45-f0d5-e9aad86eaa7c"
      },
      "outputs": [
        {
          "output_type": "execute_result",
          "data": {
            "text/plain": [
              "0    528\n",
              "1    528\n",
              "Name: Churn, dtype: int64"
            ]
          },
          "metadata": {},
          "execution_count": 58
        }
      ],
      "source": [
        "#after apply RandomUnderSampler() on testing data\n",
        "pd.Series(Y_test2).value_counts()"
      ]
    },
    {
      "cell_type": "code",
      "execution_count": null,
      "id": "7aae6b4b",
      "metadata": {
        "id": "7aae6b4b"
      },
      "outputs": [],
      "source": [
        "#Create user defined function for RUS\n",
        "def create_model2(model): #here model is user defined object\n",
        "    model.fit(X_train2,Y_train2) #train the model\n",
        "    Y_pred=model.predict(X_test2)#test the model\n",
        "    print(classification_report(Y_test2,Y_pred))\n",
        "    print(\"Confusion Matrix\")\n",
        "    print(confusion_matrix(Y_test2,Y_pred))\n",
        "    return model "
      ]
    },
    {
      "cell_type": "code",
      "execution_count": null,
      "id": "19e85e4f",
      "metadata": {
        "id": "19e85e4f"
      },
      "outputs": [],
      "source": [
        "#create baseline model: Logistic Regression\n",
        "# Create object of Logisticregression class\n",
        "lgr2=LogisticRegression()"
      ]
    },
    {
      "cell_type": "code",
      "execution_count": null,
      "id": "ea0c477a",
      "metadata": {
        "colab": {
          "base_uri": "https://localhost:8080/"
        },
        "id": "ea0c477a",
        "outputId": "64493104-1a41-4bcb-fd57-73194e2be343"
      },
      "outputs": [
        {
          "output_type": "stream",
          "name": "stdout",
          "text": [
            "              precision    recall  f1-score   support\n",
            "\n",
            "           0       0.81      0.73      0.77       528\n",
            "           1       0.76      0.82      0.79       528\n",
            "\n",
            "    accuracy                           0.78      1056\n",
            "   macro avg       0.78      0.78      0.78      1056\n",
            "weighted avg       0.78      0.78      0.78      1056\n",
            "\n",
            "Confusion Matrix\n",
            "[[387 141]\n",
            " [ 93 435]]\n"
          ]
        }
      ],
      "source": [
        "lgr2=create_model2(lgr2)"
      ]
    },
    {
      "cell_type": "markdown",
      "source": [
        "From Classification Matrix Scores of ROS and RUS \n",
        "ROS \n",
        "\n",
        "                precision    recall  f1-score   support\n",
        "\n",
        "           0       0.80      0.73      0.77      1585\n",
        "           1       0.75      0.82      0.78      1585\n",
        "\n",
        "RUS\n",
        "\n",
        "                precision    recall  f1-score   support\n",
        "\n",
        "           0       0.80      0.72      0.76       528\n",
        "           1       0.75      0.82      0.78       528\n",
        "\n",
        "ROS and RUS scores are same. But our churn count for No means (for 0) is more we will consider Random Over Sampling model and generate the reports of other machine learning algorithms \n",
        "\n",
        "Before that lets have a look at graphical representation for each input categorical and numeric column "
      ],
      "metadata": {
        "id": "WpFaG3KVnEG2"
      },
      "id": "WpFaG3KVnEG2"
    },
    {
      "cell_type": "code",
      "source": [
        "#Check for all Categorical data\n",
        "for col in df_cat:\n",
        "    sns.countplot(data=df_new,x=\"Churn\",hue=df_cat[col])\n",
        "    plt.show()"
      ],
      "metadata": {
        "colab": {
          "base_uri": "https://localhost:8080/",
          "height": 1000
        },
        "id": "Tcpx8bJnpLj_",
        "outputId": "47c4cb64-d54e-42d8-ba01-59ffda1467f1"
      },
      "id": "Tcpx8bJnpLj_",
      "execution_count": null,
      "outputs": [
        {
          "output_type": "display_data",
          "data": {
            "image/png": "[encoded data removed]",
            "text/plain": [
              "<Figure size 432x288 with 1 Axes>"
            ]
          },
          "metadata": {
            "needs_background": "light"
          }
        },
        {
          "output_type": "display_data",
          "data": {
            "image/png": "[encoded data removed]",
            "text/plain": [
              "<Figure size 432x288 with 1 Axes>"
            ]
          },
          "metadata": {
            "needs_background": "light"
          }
        },
        {
          "output_type": "display_data",
          "data": {
            "image/png": "[encoded data removed]",
            "text/plain": [
              "<Figure size 432x288 with 1 Axes>"
            ]
          },
          "metadata": {
            "needs_background": "light"
          }
        },
        {
          "output_type": "display_data",
          "data": {
            "image/png": "[encoded data removed]",
            "text/plain": [
              "<Figure size 432x288 with 1 Axes>"
            ]
          },
          "metadata": {
            "needs_background": "light"
          }
        },
        {
          "output_type": "display_data",
          "data": {
            "image/png": "[encoded data removed]",
            "text/plain": [
              "<Figure size 432x288 with 1 Axes>"
            ]
          },
          "metadata": {
            "needs_background": "light"
          }
        },
        {
          "output_type": "display_data",
          "data": {
            "image/png": "[encoded data removed]",
            "text/plain": [
              "<Figure size 432x288 with 1 Axes>"
            ]
          },
          "metadata": {
            "needs_background": "light"
          }
        },
        {
          "output_type": "display_data",
          "data": {
            "image/png": "[encoded data removed]",
            "text/plain": [
              "<Figure size 432x288 with 1 Axes>"
            ]
          },
          "metadata": {
            "needs_background": "light"
          }
        },
        {
          "output_type": "display_data",
          "data": {
            "image/png": "[encoded data removed]",
            "text/plain": [
              "<Figure size 432x288 with 1 Axes>"
            ]
          },
          "metadata": {
            "needs_background": "light"
          }
        },
        {
          "output_type": "display_data",
          "data": {
            "image/png": "[encoded data removed]",
            "text/plain": [
              "<Figure size 432x288 with 1 Axes>"
            ]
          },
          "metadata": {
            "needs_background": "light"
          }
        },
        {
          "output_type": "display_data",
          "data": {
            "image/png": "[encoded data removed]",
            "text/plain": [
              "<Figure size 432x288 with 1 Axes>"
            ]
          },
          "metadata": {
            "needs_background": "light"
          }
        },
        {
          "output_type": "display_data",
          "data": {
            "image/png": "[encoded data removed]",
            "text/plain": [
              "<Figure size 432x288 with 1 Axes>"
            ]
          },
          "metadata": {
            "needs_background": "light"
          }
        },
        {
          "output_type": "display_data",
          "data": {
            "image/png": "[encoded data removed]",
            "text/plain": [
              "<Figure size 432x288 with 1 Axes>"
            ]
          },
          "metadata": {
            "needs_background": "light"
          }
        },
        {
          "output_type": "display_data",
          "data": {
            "image/png": "[encoded data removed]",
            "text/plain": [
              "<Figure size 432x288 with 1 Axes>"
            ]
          },
          "metadata": {
            "needs_background": "light"
          }
        },
        {
          "output_type": "display_data",
          "data": {
            "image/png": "[encoded data removed]",
            "text/plain": [
              "<Figure size 432x288 with 1 Axes>"
            ]
          },
          "metadata": {
            "needs_background": "light"
          }
        },
        {
          "output_type": "display_data",
          "data": {
            "image/png": "[encoded data removed]",
            "text/plain": [
              "<Figure size 432x288 with 1 Axes>"
            ]
          },
          "metadata": {
            "needs_background": "light"
          }
        },
        {
          "output_type": "display_data",
          "data": {
            "image/png": "[encoded data removed]",
            "text/plain": [
              "<Figure size 432x288 with 1 Axes>"
            ]
          },
          "metadata": {
            "needs_background": "light"
          }
        }
      ]
    },
    {
      "cell_type": "code",
      "source": [
        "#Check for all Numerical data\n",
        "for col in df_num:\n",
        "    sns.scatterplot(data=df_new,x=df_num[col],y=\"Churn\")\n",
        "    plt.show()"
      ],
      "metadata": {
        "colab": {
          "base_uri": "https://localhost:8080/",
          "height": 1000
        },
        "id": "QgDSz95HrEv-",
        "outputId": "4e9abb67-0523-4453-d660-9467484f71a5"
      },
      "id": "QgDSz95HrEv-",
      "execution_count": null,
      "outputs": [
        {
          "output_type": "display_data",
          "data": {
            "image/png": "[encoded data removed]",
            "text/plain": [
              "<Figure size 432x288 with 1 Axes>"
            ]
          },
          "metadata": {
            "needs_background": "light"
          }
        },
        {
          "output_type": "display_data",
          "data": {
            "image/png": "[encoded data removed]",
            "text/plain": [
              "<Figure size 432x288 with 1 Axes>"
            ]
          },
          "metadata": {
            "needs_background": "light"
          }
        },
        {
          "output_type": "display_data",
          "data": {
            "image/png": "[encoded data removed]",
            "text/plain": [
              "<Figure size 432x288 with 1 Axes>"
            ]
          },
          "metadata": {
            "needs_background": "light"
          }
        },
        {
          "output_type": "display_data",
          "data": {
            "image/png": "[encoded data removed]",
            "text/plain": [
              "<Figure size 432x288 with 1 Axes>"
            ]
          },
          "metadata": {
            "needs_background": "light"
          }
        }
      ]
    },
    {
      "cell_type": "markdown",
      "source": [
        "#2) Decision Tree Algorithms:\n",
        "Data preparation: The decision Tree algorithms manages its own data preparation internally, so pretreatment to data is not required"
      ],
      "metadata": {
        "id": "3nXbb5SirQxV"
      },
      "id": "3nXbb5SirQxV"
    },
    {
      "cell_type": "code",
      "source": [
        "#import class\n",
        "from sklearn.tree import DecisionTreeClassifier"
      ],
      "metadata": {
        "id": "_m9yw8W-rPrN"
      },
      "id": "_m9yw8W-rPrN",
      "execution_count": null,
      "outputs": []
    },
    {
      "cell_type": "markdown",
      "source": [
        "2.1) Decision Tree with Gini Index"
      ],
      "metadata": {
        "id": "4UeAAeWBwkma"
      },
      "id": "4UeAAeWBwkma"
    },
    {
      "cell_type": "code",
      "source": [
        "#create the object of class DecisionTreeClassfier\n",
        "dt=DecisionTreeClassifier()\n",
        "#call function \n",
        "dt=create_model1(dt)"
      ],
      "metadata": {
        "colab": {
          "base_uri": "https://localhost:8080/"
        },
        "id": "51eLnQZOwi3u",
        "outputId": "28d897bc-53e9-40a1-b6d3-b8a65035e21f"
      },
      "id": "51eLnQZOwi3u",
      "execution_count": null,
      "outputs": [
        {
          "output_type": "stream",
          "name": "stdout",
          "text": [
            "              precision    recall  f1-score   support\n",
            "\n",
            "           0       0.63      0.81      0.71      1585\n",
            "           1       0.73      0.52      0.61      1585\n",
            "\n",
            "    accuracy                           0.66      3170\n",
            "   macro avg       0.68      0.66      0.66      3170\n",
            "weighted avg       0.68      0.66      0.66      3170\n",
            "\n",
            "Confusion Matrix\n",
            "[[1278  307]\n",
            " [ 762  823]]\n"
          ]
        }
      ]
    },
    {
      "cell_type": "code",
      "source": [
        "#Check the important features taken by Decision Tree\n",
        "d={'Features Imp':dt.feature_importances_,'Columns':X.columns}\n",
        "#convert dictionary into DataFrae\n",
        "data=pd.DataFrame(d)\n",
        "#convert dictionary into DataFrae\n",
        "data=pd.DataFrame(d)\n",
        "data"
      ],
      "metadata": {
        "colab": {
          "base_uri": "https://localhost:8080/",
          "height": 645
        },
        "id": "0AECHHbDwpZW",
        "outputId": "40658e23-c951-42df-9447-972b32c1fed0"
      },
      "id": "0AECHHbDwpZW",
      "execution_count": null,
      "outputs": [
        {
          "output_type": "execute_result",
          "data": {
            "text/html": [
              "\n",
              "  <div id=\"df-f3f0a288-6d9f-4a11-9b63-db5f972ac231\">\n",
              "    <div class=\"colab-df-container\">\n",
              "      <div>\n",
              "<style scoped>\n",
              "    .dataframe tbody tr th:only-of-type {\n",
              "        vertical-align: middle;\n",
              "    }\n",
              "\n",
              "    .dataframe tbody tr th {\n",
              "        vertical-align: top;\n",
              "    }\n",
              "\n",
              "    .dataframe thead th {\n",
              "        text-align: right;\n",
              "    }\n",
              "</style>\n",
              "<table border=\"1\" class=\"dataframe\">\n",
              "  <thead>\n",
              "    <tr style=\"text-align: right;\">\n",
              "      <th></th>\n",
              "      <th>Features Imp</th>\n",
              "      <th>Columns</th>\n",
              "    </tr>\n",
              "  </thead>\n",
              "  <tbody>\n",
              "    <tr>\n",
              "      <th>0</th>\n",
              "      <td>0.014591</td>\n",
              "      <td>SeniorCitizen</td>\n",
              "    </tr>\n",
              "    <tr>\n",
              "      <th>1</th>\n",
              "      <td>0.122001</td>\n",
              "      <td>tenure</td>\n",
              "    </tr>\n",
              "    <tr>\n",
              "      <th>2</th>\n",
              "      <td>0.198520</td>\n",
              "      <td>MonthlyCharges</td>\n",
              "    </tr>\n",
              "    <tr>\n",
              "      <th>3</th>\n",
              "      <td>0.178293</td>\n",
              "      <td>TotalCharges</td>\n",
              "    </tr>\n",
              "    <tr>\n",
              "      <th>4</th>\n",
              "      <td>0.020651</td>\n",
              "      <td>gender</td>\n",
              "    </tr>\n",
              "    <tr>\n",
              "      <th>5</th>\n",
              "      <td>0.015873</td>\n",
              "      <td>Partner</td>\n",
              "    </tr>\n",
              "    <tr>\n",
              "      <th>6</th>\n",
              "      <td>0.015325</td>\n",
              "      <td>Dependents</td>\n",
              "    </tr>\n",
              "    <tr>\n",
              "      <th>7</th>\n",
              "      <td>0.003231</td>\n",
              "      <td>PhoneService</td>\n",
              "    </tr>\n",
              "    <tr>\n",
              "      <th>8</th>\n",
              "      <td>0.015473</td>\n",
              "      <td>MultipleLines</td>\n",
              "    </tr>\n",
              "    <tr>\n",
              "      <th>9</th>\n",
              "      <td>0.011104</td>\n",
              "      <td>InternetService</td>\n",
              "    </tr>\n",
              "    <tr>\n",
              "      <th>10</th>\n",
              "      <td>0.037384</td>\n",
              "      <td>OnlineSecurity</td>\n",
              "    </tr>\n",
              "    <tr>\n",
              "      <th>11</th>\n",
              "      <td>0.020967</td>\n",
              "      <td>OnlineBackup</td>\n",
              "    </tr>\n",
              "    <tr>\n",
              "      <th>12</th>\n",
              "      <td>0.018770</td>\n",
              "      <td>DeviceProtection</td>\n",
              "    </tr>\n",
              "    <tr>\n",
              "      <th>13</th>\n",
              "      <td>0.012044</td>\n",
              "      <td>TechSupport</td>\n",
              "    </tr>\n",
              "    <tr>\n",
              "      <th>14</th>\n",
              "      <td>0.008723</td>\n",
              "      <td>StreamingTV</td>\n",
              "    </tr>\n",
              "    <tr>\n",
              "      <th>15</th>\n",
              "      <td>0.013940</td>\n",
              "      <td>StreamingMovies</td>\n",
              "    </tr>\n",
              "    <tr>\n",
              "      <th>16</th>\n",
              "      <td>0.229717</td>\n",
              "      <td>Contract</td>\n",
              "    </tr>\n",
              "    <tr>\n",
              "      <th>17</th>\n",
              "      <td>0.017031</td>\n",
              "      <td>PaperlessBilling</td>\n",
              "    </tr>\n",
              "    <tr>\n",
              "      <th>18</th>\n",
              "      <td>0.046362</td>\n",
              "      <td>PaymentMethod</td>\n",
              "    </tr>\n",
              "  </tbody>\n",
              "</table>\n",
              "</div>\n",
              "      <button class=\"colab-df-convert\" onclick=\"convertToInteractive('df-f3f0a288-6d9f-4a11-9b63-db5f972ac231')\"\n",
              "              title=\"Convert this dataframe to an interactive table.\"\n",
              "              style=\"display:none;\">\n",
              "        \n",
              "  <svg xmlns=\"http://www.w3.org/2000/svg\" height=\"24px\"viewBox=\"0 0 24 24\"\n",
              "       width=\"24px\">\n",
              "    <path d=\"M0 0h24v24H0V0z\" fill=\"none\"/>\n",
              "    <path d=\"M18.56 5.44l.94 2.06.94-2.06 2.06-.94-2.06-.94-.94-2.06-.94 2.06-2.06.94zm-11 1L8.5 8.5l.94-2.06 2.06-.94-2.06-.94L8.5 2.5l-.94 2.06-2.06.94zm10 10l.94 2.06.94-2.06 2.06-.94-2.06-.94-.94-2.06-.94 2.06-2.06.94z\"/><path d=\"M17.41 7.96l-1.37-1.37c-.4-.4-.92-.59-1.43-.59-.52 0-1.04.2-1.43.59L10.3 9.45l-7.72 7.72c-.78.78-.78 2.05 0 2.83L4 21.41c.39.39.9.59 1.41.59.51 0 1.02-.2 1.41-.59l7.78-7.78 2.81-2.81c.8-.78.8-2.07 0-2.86zM5.41 20L4 18.59l7.72-7.72 1.47 1.35L5.41 20z\"/>\n",
              "  </svg>\n",
              "      </button>\n",
              "      \n",
              "  <style>\n",
              "    .colab-df-container {\n",
              "      display:flex;\n",
              "      flex-wrap:wrap;\n",
              "      gap: 12px;\n",
              "    }\n",
              "\n",
              "    .colab-df-convert {\n",
              "      background-color: #E8F0FE;\n",
              "      border: none;\n",
              "      border-radius: 50%;\n",
              "      cursor: pointer;\n",
              "      display: none;\n",
              "      fill: #1967D2;\n",
              "      height: 32px;\n",
              "      padding: 0 0 0 0;\n",
              "      width: 32px;\n",
              "    }\n",
              "\n",
              "    .colab-df-convert:hover {\n",
              "      background-color: #E2EBFA;\n",
              "      box-shadow: 0px 1px 2px rgba(60, 64, 67, 0.3), 0px 1px 3px 1px rgba(60, 64, 67, 0.15);\n",
              "      fill: #174EA6;\n",
              "    }\n",
              "\n",
              "    [theme=dark] .colab-df-convert {\n",
              "      background-color: #3B4455;\n",
              "      fill: #D2E3FC;\n",
              "    }\n",
              "\n",
              "    [theme=dark] .colab-df-convert:hover {\n",
              "      background-color: #434B5C;\n",
              "      box-shadow: 0px 1px 3px 1px rgba(0, 0, 0, 0.15);\n",
              "      filter: drop-shadow(0px 1px 2px rgba(0, 0, 0, 0.3));\n",
              "      fill: #FFFFFF;\n",
              "    }\n",
              "  </style>\n",
              "\n",
              "      <script>\n",
              "        const buttonEl =\n",
              "          document.querySelector('#df-f3f0a288-6d9f-4a11-9b63-db5f972ac231 button.colab-df-convert');\n",
              "        buttonEl.style.display =\n",
              "          google.colab.kernel.accessAllowed ? 'block' : 'none';\n",
              "\n",
              "        async function convertToInteractive(key) {\n",
              "          const element = document.querySelector('#df-f3f0a288-6d9f-4a11-9b63-db5f972ac231');\n",
              "          const dataTable =\n",
              "            await google.colab.kernel.invokeFunction('convertToInteractive',\n",
              "                                                     [key], {});\n",
              "          if (!dataTable) return;\n",
              "\n",
              "          const docLinkHtml = 'Like what you see? Visit the ' +\n",
              "            '<a target=\"_blank\" href=https://colab.research.google.com/notebooks/data_table.ipynb>data table notebook</a>'\n",
              "            + ' to learn more about interactive tables.';\n",
              "          element.innerHTML = '';\n",
              "          dataTable['output_type'] = 'display_data';\n",
              "          await google.colab.output.renderOutput(dataTable, element);\n",
              "          const docLink = document.createElement('div');\n",
              "          docLink.innerHTML = docLinkHtml;\n",
              "          element.appendChild(docLink);\n",
              "        }\n",
              "      </script>\n",
              "    </div>\n",
              "  </div>\n",
              "  "
            ],
            "text/plain": [
              "    Features Imp           Columns\n",
              "0       0.014591     SeniorCitizen\n",
              "1       0.122001            tenure\n",
              "2       0.198520    MonthlyCharges\n",
              "3       0.178293      TotalCharges\n",
              "4       0.020651            gender\n",
              "5       0.015873           Partner\n",
              "6       0.015325        Dependents\n",
              "7       0.003231      PhoneService\n",
              "8       0.015473     MultipleLines\n",
              "9       0.011104   InternetService\n",
              "10      0.037384    OnlineSecurity\n",
              "11      0.020967      OnlineBackup\n",
              "12      0.018770  DeviceProtection\n",
              "13      0.012044       TechSupport\n",
              "14      0.008723       StreamingTV\n",
              "15      0.013940   StreamingMovies\n",
              "16      0.229717          Contract\n",
              "17      0.017031  PaperlessBilling\n",
              "18      0.046362     PaymentMethod"
            ]
          },
          "metadata": {},
          "execution_count": 66
        }
      ]
    },
    {
      "cell_type": "code",
      "source": [
        "#But we got less score 0.73  its good but not excellent \n",
        "#reason behind less score , means overfit \n",
        "#model overfitting situation can be managed by pruning technique\n",
        "#There are 2 types of pruning technique : -\n",
        "#1. max_depth : inbulit parameter\n",
        "#2. min_samples_leaf  : inbuilt parameter"
      ],
      "metadata": {
        "id": "1AbZC0A6w1lu"
      },
      "id": "1AbZC0A6w1lu",
      "execution_count": null,
      "outputs": []
    },
    {
      "cell_type": "markdown",
      "source": [
        "2.1.1) max_depth"
      ],
      "metadata": {
        "id": "lD7IOlpXw7W8"
      },
      "id": "lD7IOlpXw7W8"
    },
    {
      "cell_type": "markdown",
      "source": [
        ""
      ],
      "metadata": {
        "id": "81V6tXzjw7PE"
      },
      "id": "81V6tXzjw7PE"
    },
    {
      "cell_type": "code",
      "source": [
        "#Create object of DecisionTreeClassifier class\n",
        "dt1=DecisionTreeClassifier(max_depth=8) \n",
        "#Note:max_depth can not more than 8\n",
        "#by default use method:gini index\n",
        "dt1=create_model1(dt1)"
      ],
      "metadata": {
        "colab": {
          "base_uri": "https://localhost:8080/"
        },
        "id": "lRx9Zesownef",
        "outputId": "c254881f-17b4-42d7-e8bc-62d1b3e0add2"
      },
      "id": "lRx9Zesownef",
      "execution_count": null,
      "outputs": [
        {
          "output_type": "stream",
          "name": "stdout",
          "text": [
            "              precision    recall  f1-score   support\n",
            "\n",
            "           0       0.76      0.72      0.74      1585\n",
            "           1       0.73      0.77      0.75      1585\n",
            "\n",
            "    accuracy                           0.74      3170\n",
            "   macro avg       0.74      0.74      0.74      3170\n",
            "weighted avg       0.74      0.74      0.74      3170\n",
            "\n",
            "Confusion Matrix\n",
            "[[1141  444]\n",
            " [ 369 1216]]\n"
          ]
        }
      ]
    },
    {
      "cell_type": "markdown",
      "source": [
        "2.1.2) min_samples_leaf"
      ],
      "metadata": {
        "id": "r7D3odXPxHez"
      },
      "id": "r7D3odXPxHez"
    },
    {
      "cell_type": "code",
      "source": [
        "#Create object of DecisiontreeClassifier\n",
        "dt2=DecisionTreeClassifier(min_samples_leaf=100) #by default Gini index method \n",
        "#min_samples_leaf =50 or more means not less than=50\n",
        "#call function\n",
        "dt2=create_model1(dt2)"
      ],
      "metadata": {
        "colab": {
          "base_uri": "https://localhost:8080/"
        },
        "id": "60agGduWxILX",
        "outputId": "1152318c-a9f0-477a-ab71-a90709b1f109"
      },
      "id": "60agGduWxILX",
      "execution_count": null,
      "outputs": [
        {
          "output_type": "stream",
          "name": "stdout",
          "text": [
            "              precision    recall  f1-score   support\n",
            "\n",
            "           0       0.74      0.74      0.74      1585\n",
            "           1       0.74      0.75      0.74      1585\n",
            "\n",
            "    accuracy                           0.74      3170\n",
            "   macro avg       0.74      0.74      0.74      3170\n",
            "weighted avg       0.74      0.74      0.74      3170\n",
            "\n",
            "Confusion Matrix\n",
            "[[1171  414]\n",
            " [ 401 1184]]\n"
          ]
        }
      ]
    },
    {
      "cell_type": "markdown",
      "source": [
        "2.2) Decision Tree Entropy"
      ],
      "metadata": {
        "id": "DEC3BCqyxN2o"
      },
      "id": "DEC3BCqyxN2o"
    },
    {
      "cell_type": "code",
      "source": [
        "#use entropy method of decisiontree means -P(yes)*log2P(yes)-P(No)log2(P(no))\n",
        "##create object of DecisionTreeClassifier class\n",
        "dt3=DecisionTreeClassifier(criterion='entropy',min_samples_leaf=50)\n",
        "dt3=create_model1(dt3)"
      ],
      "metadata": {
        "colab": {
          "base_uri": "https://localhost:8080/"
        },
        "id": "IBcFZ54jxLM_",
        "outputId": "26cf5a74-4ed8-423b-f6fd-4efd88a2d487"
      },
      "id": "IBcFZ54jxLM_",
      "execution_count": null,
      "outputs": [
        {
          "output_type": "stream",
          "name": "stdout",
          "text": [
            "              precision    recall  f1-score   support\n",
            "\n",
            "           0       0.74      0.75      0.74      1585\n",
            "           1       0.75      0.73      0.74      1585\n",
            "\n",
            "    accuracy                           0.74      3170\n",
            "   macro avg       0.74      0.74      0.74      3170\n",
            "weighted avg       0.74      0.74      0.74      3170\n",
            "\n",
            "Confusion Matrix\n",
            "[[1190  395]\n",
            " [ 427 1158]]\n"
          ]
        }
      ]
    },
    {
      "cell_type": "code",
      "source": [
        "#create the tree\n",
        "from sklearn import tree\n",
        "features=X.columns\n",
        "fig=plt.figure(figsize=(20,20))\n",
        "_=tree.plot_tree(dt3,feature_names=features,filled=True)"
      ],
      "metadata": {
        "colab": {
          "base_uri": "https://localhost:8080/",
          "height": 1000
        },
        "id": "_J0Hu4zCaB9r",
        "outputId": "d8b3547d-6d01-4d77-9634-639d53bd1abf"
      },
      "id": "_J0Hu4zCaB9r",
      "execution_count": null,
      "outputs": [
        {
          "output_type": "display_data",
          "data": {
            "image/png": "[encoded data removed]",
            "text/plain": [
              "<Figure size 1440x1440 with 1 Axes>"
            ]
          },
          "metadata": {
            "needs_background": "light"
          }
        }
      ]
    },
    {
      "cell_type": "code",
      "source": [
        "#Create object of DecisionTreeClassifier class\n",
        "dt4=DecisionTreeClassifier(criterion='entropy',max_depth=8) \n",
        "#Note:max_depth can not more than 8\n",
        "#by default use method:gini index\n",
        "dt4=create_model1(dt4)"
      ],
      "metadata": {
        "colab": {
          "base_uri": "https://localhost:8080/"
        },
        "id": "-aeZZCLExRgv",
        "outputId": "697aaa5e-6028-47a5-9948-fd332a62b0e5"
      },
      "id": "-aeZZCLExRgv",
      "execution_count": null,
      "outputs": [
        {
          "output_type": "stream",
          "name": "stdout",
          "text": [
            "              precision    recall  f1-score   support\n",
            "\n",
            "           0       0.78      0.69      0.73      1585\n",
            "           1       0.72      0.80      0.76      1585\n",
            "\n",
            "    accuracy                           0.75      3170\n",
            "   macro avg       0.75      0.75      0.74      3170\n",
            "weighted avg       0.75      0.75      0.74      3170\n",
            "\n",
            "Confusion Matrix\n",
            "[[1089  496]\n",
            " [ 310 1275]]\n"
          ]
        }
      ]
    },
    {
      "cell_type": "code",
      "source": [
        "#Create object of DecisionTreeClassifier class # Checking with Entropy\n",
        "dt5=DecisionTreeClassifier(criterion='entropy') \n",
        "#call the function\n",
        "dt5=create_model1(dt5)"
      ],
      "metadata": {
        "colab": {
          "base_uri": "https://localhost:8080/"
        },
        "id": "ybPS_apgxZ6q",
        "outputId": "d03ce3e7-6518-4ae7-c417-7a283c9d78b6"
      },
      "id": "ybPS_apgxZ6q",
      "execution_count": null,
      "outputs": [
        {
          "output_type": "stream",
          "name": "stdout",
          "text": [
            "              precision    recall  f1-score   support\n",
            "\n",
            "           0       0.64      0.80      0.71      1585\n",
            "           1       0.73      0.54      0.62      1585\n",
            "\n",
            "    accuracy                           0.67      3170\n",
            "   macro avg       0.68      0.67      0.67      3170\n",
            "weighted avg       0.68      0.67      0.67      3170\n",
            "\n",
            "Confusion Matrix\n",
            "[[1272  313]\n",
            " [ 727  858]]\n"
          ]
        }
      ]
    },
    {
      "cell_type": "markdown",
      "source": [
        "#**Ensembling Learning Techniques**\n",
        "\n",
        "3) Naive Aggregation \n",
        "\n",
        "a. Hard Voting        b. Soft voting\n",
        "\n",
        "4) Bootstrapping\n",
        "\n",
        "a. Bagging \n",
        "b. pasting \n",
        "c.Random Forest Tree\n",
        "\n",
        "5) Stacking Classifier\n",
        "\n",
        "6) Boosting Technique\n",
        "\n",
        "a. ADA Boost (Adaptor Boosting) \n",
        "b. Gradient Boosting \n",
        "c. Extreme Gradient Boosting(XG Boost)"
      ],
      "metadata": {
        "id": "vo4WqLhexjoB"
      },
      "id": "vo4WqLhexjoB"
    },
    {
      "cell_type": "markdown",
      "source": [
        "3) Naive Aggregation\n",
        "\n",
        "a. Hard Voting - Hard Voting: Voting is calculated on the predicted output class.\n",
        "\n",
        "b. Soft voting - Voting is calculated on the predicted probability of the output class."
      ],
      "metadata": {
        "id": "_1O3GBbSxo8B"
      },
      "id": "_1O3GBbSxo8B"
    },
    {
      "cell_type": "code",
      "source": [
        "#import class\n",
        "from sklearn.ensemble import VotingClassifier\n",
        "\n",
        "#Create a model list\n",
        "model_list=[(\"logistic\",lgr),(\"DecisionTree_Gini\",dt),(\"DecisionTree_Entropy\",dt5)]\n",
        "\n",
        "#Create the object of Voting Classfier and passing the parameter model_list\n",
        "vc=VotingClassifier(estimators=model_list)#Default is hard voting\n",
        "\n",
        "#call function\n",
        "vc=create_model1(vc)"
      ],
      "metadata": {
        "colab": {
          "base_uri": "https://localhost:8080/"
        },
        "id": "dPlimburxcsz",
        "outputId": "e7ec4163-2c0a-45fd-b07d-f3b3b78b2d18"
      },
      "id": "dPlimburxcsz",
      "execution_count": null,
      "outputs": [
        {
          "output_type": "stream",
          "name": "stdout",
          "text": [
            "              precision    recall  f1-score   support\n",
            "\n",
            "           0       0.68      0.81      0.74      1585\n",
            "           1       0.76      0.63      0.69      1585\n",
            "\n",
            "    accuracy                           0.72      3170\n",
            "   macro avg       0.72      0.72      0.71      3170\n",
            "weighted avg       0.72      0.72      0.71      3170\n",
            "\n",
            "Confusion Matrix\n",
            "[[1279  306]\n",
            " [ 593  992]]\n"
          ]
        }
      ]
    },
    {
      "cell_type": "code",
      "source": [
        "#For soft voting pass soft paramet\n",
        "vc1=VotingClassifier(estimators=model_list,voting=\"soft\")#Default is hard voting\n",
        "#call function\n",
        "vc1=create_model1(vc1)"
      ],
      "metadata": {
        "colab": {
          "base_uri": "https://localhost:8080/"
        },
        "id": "kmPZGkptxaa5",
        "outputId": "deb2ad54-7447-4fcb-f664-6b72b481e5cd"
      },
      "id": "kmPZGkptxaa5",
      "execution_count": null,
      "outputs": [
        {
          "output_type": "stream",
          "name": "stdout",
          "text": [
            "              precision    recall  f1-score   support\n",
            "\n",
            "           0       0.68      0.81      0.74      1585\n",
            "           1       0.76      0.63      0.69      1585\n",
            "\n",
            "    accuracy                           0.72      3170\n",
            "   macro avg       0.72      0.72      0.71      3170\n",
            "weighted avg       0.72      0.72      0.71      3170\n",
            "\n",
            "Confusion Matrix\n",
            "[[1279  306]\n",
            " [ 592  993]]\n"
          ]
        }
      ]
    },
    {
      "cell_type": "markdown",
      "source": [
        "4) Bootstrapping\n",
        "\n",
        "a. Bagging - that often considers homogeneous weak learners, learns them independently from each other in parallel and combines them following some kind of deterministic averaging process.\n",
        "\n",
        "b. Pasting \n",
        "\n",
        "\n",
        "'''Difference between Bagging and pasting classifier : - \n",
        "In bagging classifier ,  the model is train with different samples with \n",
        "replacement .\n",
        "while other hand  in pasting , the model is train with different samples \n",
        "without replacement'''\n",
        "\n",
        "c.Random Forest Tree"
      ],
      "metadata": {
        "id": "E2LSk-NmyFBc"
      },
      "id": "E2LSk-NmyFBc"
    },
    {
      "cell_type": "code",
      "source": [
        "#import class\n",
        "from sklearn.ensemble import BaggingClassifier\n",
        "#a. Bagging Method with Logistic\n",
        "#Create object of BaggingClassifier\n",
        "bc=BaggingClassifier(LogisticRegression(),n_estimators=10,max_samples=704,random_state=1)\n",
        "#By default Bootstrap is True means Bagging\n",
        "#no. of records =10*704=7040 records\n",
        "#call function\n",
        "bc=create_model1(bc)"
      ],
      "metadata": {
        "colab": {
          "base_uri": "https://localhost:8080/"
        },
        "id": "Tey1MR__yF4r",
        "outputId": "52aecdc5-38a8-41d5-b423-518cacd88902"
      },
      "id": "Tey1MR__yF4r",
      "execution_count": null,
      "outputs": [
        {
          "output_type": "stream",
          "name": "stdout",
          "text": [
            "              precision    recall  f1-score   support\n",
            "\n",
            "           0       0.78      0.73      0.75      1585\n",
            "           1       0.75      0.80      0.77      1585\n",
            "\n",
            "    accuracy                           0.76      3170\n",
            "   macro avg       0.76      0.76      0.76      3170\n",
            "weighted avg       0.76      0.76      0.76      3170\n",
            "\n",
            "Confusion Matrix\n",
            "[[1157  428]\n",
            " [ 323 1262]]\n"
          ]
        }
      ]
    },
    {
      "cell_type": "code",
      "source": [
        "#b. Bagging with Decision Tree\n",
        "bc1=BaggingClassifier(DecisionTreeClassifier(),n_estimators=10,max_samples=704,random_state=1)#Bagging Decision tree\n",
        "#call function\n",
        "bc1=create_model1(bc1)"
      ],
      "metadata": {
        "colab": {
          "base_uri": "https://localhost:8080/"
        },
        "id": "zxMvdl5RygNS",
        "outputId": "89b39cb4-6556-4088-8ed7-2aba7f04346f"
      },
      "id": "zxMvdl5RygNS",
      "execution_count": null,
      "outputs": [
        {
          "output_type": "stream",
          "name": "stdout",
          "text": [
            "              precision    recall  f1-score   support\n",
            "\n",
            "           0       0.73      0.79      0.76      1585\n",
            "           1       0.77      0.71      0.74      1585\n",
            "\n",
            "    accuracy                           0.75      3170\n",
            "   macro avg       0.75      0.75      0.75      3170\n",
            "weighted avg       0.75      0.75      0.75      3170\n",
            "\n",
            "Confusion Matrix\n",
            "[[1256  329]\n",
            " [ 461 1124]]\n"
          ]
        }
      ]
    },
    {
      "cell_type": "code",
      "source": [
        "#2. Pasting\n",
        "#Create object of BaggingClassifier\n",
        "bc2=BaggingClassifier(LogisticRegression(),n_estimators=10,max_samples=704,random_state=1,bootstrap=False)\n",
        "#Bootsrap is False means Pasting\n",
        "#call function\n",
        "bc2=create_model1(bc2)"
      ],
      "metadata": {
        "colab": {
          "base_uri": "https://localhost:8080/"
        },
        "id": "I_38wBz7ylVI",
        "outputId": "fe16d578-f6d8-4225-e3ca-57ddfd651213"
      },
      "id": "I_38wBz7ylVI",
      "execution_count": null,
      "outputs": [
        {
          "output_type": "stream",
          "name": "stdout",
          "text": [
            "              precision    recall  f1-score   support\n",
            "\n",
            "           0       0.78      0.73      0.75      1585\n",
            "           1       0.75      0.80      0.77      1585\n",
            "\n",
            "    accuracy                           0.76      3170\n",
            "   macro avg       0.76      0.76      0.76      3170\n",
            "weighted avg       0.76      0.76      0.76      3170\n",
            "\n",
            "Confusion Matrix\n",
            "[[1151  434]\n",
            " [ 317 1268]]\n"
          ]
        }
      ]
    },
    {
      "cell_type": "code",
      "source": [
        "#c. Random forest tree\n",
        "#import class\n",
        "from sklearn.ensemble import RandomForestClassifier\n",
        "# create object of RandomForestClassifier\n",
        "rfc=RandomForestClassifier(n_estimators=10,max_features=17,random_state=1)\n",
        "#hit and trial method so we can adjust features nos manually\n",
        "#call function\n",
        "rfc=create_model1(rfc)"
      ],
      "metadata": {
        "colab": {
          "base_uri": "https://localhost:8080/"
        },
        "id": "VcMrfuZays75",
        "outputId": "783bf5d7-68cd-4c7b-99d3-3e7b76a0eea4"
      },
      "id": "VcMrfuZays75",
      "execution_count": null,
      "outputs": [
        {
          "output_type": "stream",
          "name": "stdout",
          "text": [
            "              precision    recall  f1-score   support\n",
            "\n",
            "           0       0.69      0.86      0.76      1585\n",
            "           1       0.81      0.61      0.70      1585\n",
            "\n",
            "    accuracy                           0.74      3170\n",
            "   macro avg       0.75      0.74      0.73      3170\n",
            "weighted avg       0.75      0.74      0.73      3170\n",
            "\n",
            "Confusion Matrix\n",
            "[[1359  226]\n",
            " [ 612  973]]\n"
          ]
        }
      ]
    },
    {
      "cell_type": "code",
      "source": [
        "#Check the important features\n",
        "d={'Features Imp':rfc.feature_importances_,'Columns':X.columns}\n",
        "#convert dictionary into DataFrae\n",
        "data=pd.DataFrame(d)\n",
        "#convert dictionary into DataFrae\n",
        "data=pd.DataFrame(d)\n",
        "data"
      ],
      "metadata": {
        "colab": {
          "base_uri": "https://localhost:8080/",
          "height": 645
        },
        "id": "CLAGCpVfy9vx",
        "outputId": "9b4619eb-b664-4a64-f1c1-6aeb4ee6a441"
      },
      "id": "CLAGCpVfy9vx",
      "execution_count": null,
      "outputs": [
        {
          "output_type": "execute_result",
          "data": {
            "text/html": [
              "\n",
              "  <div id=\"df-ab161093-80c1-43ee-9204-469ed1f5dd80\">\n",
              "    <div class=\"colab-df-container\">\n",
              "      <div>\n",
              "<style scoped>\n",
              "    .dataframe tbody tr th:only-of-type {\n",
              "        vertical-align: middle;\n",
              "    }\n",
              "\n",
              "    .dataframe tbody tr th {\n",
              "        vertical-align: top;\n",
              "    }\n",
              "\n",
              "    .dataframe thead th {\n",
              "        text-align: right;\n",
              "    }\n",
              "</style>\n",
              "<table border=\"1\" class=\"dataframe\">\n",
              "  <thead>\n",
              "    <tr style=\"text-align: right;\">\n",
              "      <th></th>\n",
              "      <th>Features Imp</th>\n",
              "      <th>Columns</th>\n",
              "    </tr>\n",
              "  </thead>\n",
              "  <tbody>\n",
              "    <tr>\n",
              "      <th>0</th>\n",
              "      <td>0.014904</td>\n",
              "      <td>SeniorCitizen</td>\n",
              "    </tr>\n",
              "    <tr>\n",
              "      <th>1</th>\n",
              "      <td>0.115833</td>\n",
              "      <td>tenure</td>\n",
              "    </tr>\n",
              "    <tr>\n",
              "      <th>2</th>\n",
              "      <td>0.189515</td>\n",
              "      <td>MonthlyCharges</td>\n",
              "    </tr>\n",
              "    <tr>\n",
              "      <th>3</th>\n",
              "      <td>0.187613</td>\n",
              "      <td>TotalCharges</td>\n",
              "    </tr>\n",
              "    <tr>\n",
              "      <th>4</th>\n",
              "      <td>0.020920</td>\n",
              "      <td>gender</td>\n",
              "    </tr>\n",
              "    <tr>\n",
              "      <th>5</th>\n",
              "      <td>0.019502</td>\n",
              "      <td>Partner</td>\n",
              "    </tr>\n",
              "    <tr>\n",
              "      <th>6</th>\n",
              "      <td>0.017470</td>\n",
              "      <td>Dependents</td>\n",
              "    </tr>\n",
              "    <tr>\n",
              "      <th>7</th>\n",
              "      <td>0.002619</td>\n",
              "      <td>PhoneService</td>\n",
              "    </tr>\n",
              "    <tr>\n",
              "      <th>8</th>\n",
              "      <td>0.018659</td>\n",
              "      <td>MultipleLines</td>\n",
              "    </tr>\n",
              "    <tr>\n",
              "      <th>9</th>\n",
              "      <td>0.009807</td>\n",
              "      <td>InternetService</td>\n",
              "    </tr>\n",
              "    <tr>\n",
              "      <th>10</th>\n",
              "      <td>0.047891</td>\n",
              "      <td>OnlineSecurity</td>\n",
              "    </tr>\n",
              "    <tr>\n",
              "      <th>11</th>\n",
              "      <td>0.016803</td>\n",
              "      <td>OnlineBackup</td>\n",
              "    </tr>\n",
              "    <tr>\n",
              "      <th>12</th>\n",
              "      <td>0.014233</td>\n",
              "      <td>DeviceProtection</td>\n",
              "    </tr>\n",
              "    <tr>\n",
              "      <th>13</th>\n",
              "      <td>0.020018</td>\n",
              "      <td>TechSupport</td>\n",
              "    </tr>\n",
              "    <tr>\n",
              "      <th>14</th>\n",
              "      <td>0.011589</td>\n",
              "      <td>StreamingTV</td>\n",
              "    </tr>\n",
              "    <tr>\n",
              "      <th>15</th>\n",
              "      <td>0.016404</td>\n",
              "      <td>StreamingMovies</td>\n",
              "    </tr>\n",
              "    <tr>\n",
              "      <th>16</th>\n",
              "      <td>0.215273</td>\n",
              "      <td>Contract</td>\n",
              "    </tr>\n",
              "    <tr>\n",
              "      <th>17</th>\n",
              "      <td>0.018568</td>\n",
              "      <td>PaperlessBilling</td>\n",
              "    </tr>\n",
              "    <tr>\n",
              "      <th>18</th>\n",
              "      <td>0.042378</td>\n",
              "      <td>PaymentMethod</td>\n",
              "    </tr>\n",
              "  </tbody>\n",
              "</table>\n",
              "</div>\n",
              "      <button class=\"colab-df-convert\" onclick=\"convertToInteractive('df-ab161093-80c1-43ee-9204-469ed1f5dd80')\"\n",
              "              title=\"Convert this dataframe to an interactive table.\"\n",
              "              style=\"display:none;\">\n",
              "        \n",
              "  <svg xmlns=\"http://www.w3.org/2000/svg\" height=\"24px\"viewBox=\"0 0 24 24\"\n",
              "       width=\"24px\">\n",
              "    <path d=\"M0 0h24v24H0V0z\" fill=\"none\"/>\n",
              "    <path d=\"M18.56 5.44l.94 2.06.94-2.06 2.06-.94-2.06-.94-.94-2.06-.94 2.06-2.06.94zm-11 1L8.5 8.5l.94-2.06 2.06-.94-2.06-.94L8.5 2.5l-.94 2.06-2.06.94zm10 10l.94 2.06.94-2.06 2.06-.94-2.06-.94-.94-2.06-.94 2.06-2.06.94z\"/><path d=\"M17.41 7.96l-1.37-1.37c-.4-.4-.92-.59-1.43-.59-.52 0-1.04.2-1.43.59L10.3 9.45l-7.72 7.72c-.78.78-.78 2.05 0 2.83L4 21.41c.39.39.9.59 1.41.59.51 0 1.02-.2 1.41-.59l7.78-7.78 2.81-2.81c.8-.78.8-2.07 0-2.86zM5.41 20L4 18.59l7.72-7.72 1.47 1.35L5.41 20z\"/>\n",
              "  </svg>\n",
              "      </button>\n",
              "      \n",
              "  <style>\n",
              "    .colab-df-container {\n",
              "      display:flex;\n",
              "      flex-wrap:wrap;\n",
              "      gap: 12px;\n",
              "    }\n",
              "\n",
              "    .colab-df-convert {\n",
              "      background-color: #E8F0FE;\n",
              "      border: none;\n",
              "      border-radius: 50%;\n",
              "      cursor: pointer;\n",
              "      display: none;\n",
              "      fill: #1967D2;\n",
              "      height: 32px;\n",
              "      padding: 0 0 0 0;\n",
              "      width: 32px;\n",
              "    }\n",
              "\n",
              "    .colab-df-convert:hover {\n",
              "      background-color: #E2EBFA;\n",
              "      box-shadow: 0px 1px 2px rgba(60, 64, 67, 0.3), 0px 1px 3px 1px rgba(60, 64, 67, 0.15);\n",
              "      fill: #174EA6;\n",
              "    }\n",
              "\n",
              "    [theme=dark] .colab-df-convert {\n",
              "      background-color: #3B4455;\n",
              "      fill: #D2E3FC;\n",
              "    }\n",
              "\n",
              "    [theme=dark] .colab-df-convert:hover {\n",
              "      background-color: #434B5C;\n",
              "      box-shadow: 0px 1px 3px 1px rgba(0, 0, 0, 0.15);\n",
              "      filter: drop-shadow(0px 1px 2px rgba(0, 0, 0, 0.3));\n",
              "      fill: #FFFFFF;\n",
              "    }\n",
              "  </style>\n",
              "\n",
              "      <script>\n",
              "        const buttonEl =\n",
              "          document.querySelector('#df-ab161093-80c1-43ee-9204-469ed1f5dd80 button.colab-df-convert');\n",
              "        buttonEl.style.display =\n",
              "          google.colab.kernel.accessAllowed ? 'block' : 'none';\n",
              "\n",
              "        async function convertToInteractive(key) {\n",
              "          const element = document.querySelector('#df-ab161093-80c1-43ee-9204-469ed1f5dd80');\n",
              "          const dataTable =\n",
              "            await google.colab.kernel.invokeFunction('convertToInteractive',\n",
              "                                                     [key], {});\n",
              "          if (!dataTable) return;\n",
              "\n",
              "          const docLinkHtml = 'Like what you see? Visit the ' +\n",
              "            '<a target=\"_blank\" href=https://colab.research.google.com/notebooks/data_table.ipynb>data table notebook</a>'\n",
              "            + ' to learn more about interactive tables.';\n",
              "          element.innerHTML = '';\n",
              "          dataTable['output_type'] = 'display_data';\n",
              "          await google.colab.output.renderOutput(dataTable, element);\n",
              "          const docLink = document.createElement('div');\n",
              "          docLink.innerHTML = docLinkHtml;\n",
              "          element.appendChild(docLink);\n",
              "        }\n",
              "      </script>\n",
              "    </div>\n",
              "  </div>\n",
              "  "
            ],
            "text/plain": [
              "    Features Imp           Columns\n",
              "0       0.014904     SeniorCitizen\n",
              "1       0.115833            tenure\n",
              "2       0.189515    MonthlyCharges\n",
              "3       0.187613      TotalCharges\n",
              "4       0.020920            gender\n",
              "5       0.019502           Partner\n",
              "6       0.017470        Dependents\n",
              "7       0.002619      PhoneService\n",
              "8       0.018659     MultipleLines\n",
              "9       0.009807   InternetService\n",
              "10      0.047891    OnlineSecurity\n",
              "11      0.016803      OnlineBackup\n",
              "12      0.014233  DeviceProtection\n",
              "13      0.020018       TechSupport\n",
              "14      0.011589       StreamingTV\n",
              "15      0.016404   StreamingMovies\n",
              "16      0.215273          Contract\n",
              "17      0.018568  PaperlessBilling\n",
              "18      0.042378     PaymentMethod"
            ]
          },
          "metadata": {},
          "execution_count": 80
        }
      ]
    },
    {
      "cell_type": "code",
      "source": [
        "rfc.feature_importances_"
      ],
      "metadata": {
        "colab": {
          "base_uri": "https://localhost:8080/"
        },
        "id": "UphtEvO6iL0K",
        "outputId": "a99763c1-0288-41cb-dea7-738e454f1e72"
      },
      "id": "UphtEvO6iL0K",
      "execution_count": null,
      "outputs": [
        {
          "output_type": "execute_result",
          "data": {
            "text/plain": [
              "array([0.01490394, 0.11583325, 0.18951509, 0.18761307, 0.02091989,\n",
              "       0.01950191, 0.01746968, 0.00261903, 0.01865925, 0.00980678,\n",
              "       0.04789143, 0.01680307, 0.01423317, 0.02001757, 0.0115887 ,\n",
              "       0.01640432, 0.21527334, 0.01856807, 0.04237844])"
            ]
          },
          "metadata": {},
          "execution_count": 81
        }
      ]
    },
    {
      "cell_type": "code",
      "source": [
        "X.columns"
      ],
      "metadata": {
        "colab": {
          "base_uri": "https://localhost:8080/"
        },
        "id": "GmEdqapdiQHy",
        "outputId": "d32ccab7-247c-4797-c4e7-2d877037b562"
      },
      "id": "GmEdqapdiQHy",
      "execution_count": null,
      "outputs": [
        {
          "output_type": "execute_result",
          "data": {
            "text/plain": [
              "Index(['SeniorCitizen', 'tenure', 'MonthlyCharges', 'TotalCharges', 'gender',\n",
              "       'Partner', 'Dependents', 'PhoneService', 'MultipleLines',\n",
              "       'InternetService', 'OnlineSecurity', 'OnlineBackup', 'DeviceProtection',\n",
              "       'TechSupport', 'StreamingTV', 'StreamingMovies', 'Contract',\n",
              "       'PaperlessBilling', 'PaymentMethod'],\n",
              "      dtype='object')"
            ]
          },
          "metadata": {},
          "execution_count": 82
        }
      ]
    },
    {
      "cell_type": "markdown",
      "source": [
        "6) Boosting Technique\n",
        "a. ADA Boost (Adaptor Boosting) b. Gradient Boosting c. Extreme Gradient Boosting(XG Boost)"
      ],
      "metadata": {
        "id": "WtckEbFczEh2"
      },
      "id": "WtckEbFczEh2"
    },
    {
      "cell_type": "code",
      "source": [
        "#a.ADA Boost: Adaptor Boosting\n",
        "from sklearn.ensemble import AdaBoostClassifier\n",
        "#Create the object of AdaBoostClassifier class and passing the no. of parameter\n",
        "#in this class\n",
        "ada=AdaBoostClassifier(n_estimators=75) # n_estimators can be <=100\n",
        "#AdaBoost create a decision stump means understood use model\n",
        "#DecisionTreeClassifier\n",
        "#call function\n",
        "ada=create_model1(ada)"
      ],
      "metadata": {
        "colab": {
          "base_uri": "https://localhost:8080/"
        },
        "id": "DMeAmQcazBhC",
        "outputId": "938f130c-09cb-4a22-c852-6dbdf7c6c707"
      },
      "id": "DMeAmQcazBhC",
      "execution_count": null,
      "outputs": [
        {
          "output_type": "stream",
          "name": "stdout",
          "text": [
            "              precision    recall  f1-score   support\n",
            "\n",
            "           0       0.79      0.72      0.75      1585\n",
            "           1       0.74      0.81      0.77      1585\n",
            "\n",
            "    accuracy                           0.76      3170\n",
            "   macro avg       0.77      0.76      0.76      3170\n",
            "weighted avg       0.77      0.76      0.76      3170\n",
            "\n",
            "Confusion Matrix\n",
            "[[1145  440]\n",
            " [ 309 1276]]\n"
          ]
        }
      ]
    },
    {
      "cell_type": "code",
      "source": [
        "#b. Gradient Boosting\n",
        "from sklearn.ensemble import GradientBoostingClassifier\n",
        "gbc=GradientBoostingClassifier(n_estimators=100) #not <=100\n",
        "#call function for classification report\n",
        "gbc=create_model1(gbc)"
      ],
      "metadata": {
        "colab": {
          "base_uri": "https://localhost:8080/"
        },
        "id": "Tm53RVh3zMx6",
        "outputId": "1e3c7613-f048-4bb2-fcac-0628a0d99371"
      },
      "id": "Tm53RVh3zMx6",
      "execution_count": null,
      "outputs": [
        {
          "output_type": "stream",
          "name": "stdout",
          "text": [
            "              precision    recall  f1-score   support\n",
            "\n",
            "           0       0.77      0.73      0.75      1585\n",
            "           1       0.74      0.79      0.76      1585\n",
            "\n",
            "    accuracy                           0.76      3170\n",
            "   macro avg       0.76      0.76      0.76      3170\n",
            "weighted avg       0.76      0.76      0.76      3170\n",
            "\n",
            "Confusion Matrix\n",
            "[[1158  427]\n",
            " [ 339 1246]]\n"
          ]
        }
      ]
    },
    {
      "cell_type": "code",
      "source": [
        "#c.Extreme Gradient Boosting\n",
        "from xgboost import XGBClassifier\n",
        "#create object of class XGBClassifier\n",
        "xgc=XGBClassifier(n_estimators=65,reg_alpha=1)#1 means true\n",
        "#automatic overfitting: reg means regularisation and alpha or lambda or hyperparameter\n",
        "#call function for classification report\n",
        "xgc=create_model1(xgc)"
      ],
      "metadata": {
        "colab": {
          "base_uri": "https://localhost:8080/"
        },
        "id": "MiVGxWUQzWl4",
        "outputId": "b9f3b465-2008-4e50-a365-4bacde1a9226"
      },
      "id": "MiVGxWUQzWl4",
      "execution_count": null,
      "outputs": [
        {
          "output_type": "stream",
          "name": "stdout",
          "text": [
            "              precision    recall  f1-score   support\n",
            "\n",
            "           0       0.79      0.73      0.76      1585\n",
            "           1       0.75      0.81      0.78      1585\n",
            "\n",
            "    accuracy                           0.77      3170\n",
            "   macro avg       0.77      0.77      0.77      3170\n",
            "weighted avg       0.77      0.77      0.77      3170\n",
            "\n",
            "Confusion Matrix\n",
            "[[1152  433]\n",
            " [ 307 1278]]\n"
          ]
        }
      ]
    },
    {
      "cell_type": "markdown",
      "source": [
        "7) Support Vector Machines\n",
        "\n",
        "#1. Linear SVC  : use for linear data\n",
        "\n",
        "#2. polynomial kernal function : increase the low dimension to high dimension #Non-Linear data\n",
        "#3. radial basis kernal function #Non-Linear data"
      ],
      "metadata": {
        "id": "2WZtxIP-zpUd"
      },
      "id": "2WZtxIP-zpUd"
    },
    {
      "cell_type": "code",
      "source": [
        "#Linear kernel Function means data is linearly separatable\n",
        "#use inbuilt class LinearSVC which defined in SVM inbuilt package \n",
        "from sklearn.svm import LinearSVC\n",
        "#SVC - Support Vector Classifier\n",
        "#craete object\n",
        "svc=LinearSVC(random_state=1)# by default hard margin no error added on training time\n",
        "#call function\n",
        "svc=create_model1(svc)"
      ],
      "metadata": {
        "colab": {
          "base_uri": "https://localhost:8080/"
        },
        "id": "6Sv1z7J6zkYc",
        "outputId": "b38a1395-cd69-473e-a1d4-40caae7577b7"
      },
      "id": "6Sv1z7J6zkYc",
      "execution_count": null,
      "outputs": [
        {
          "output_type": "stream",
          "name": "stdout",
          "text": [
            "              precision    recall  f1-score   support\n",
            "\n",
            "           0       0.79      0.72      0.75      1585\n",
            "           1       0.74      0.81      0.78      1585\n",
            "\n",
            "    accuracy                           0.77      3170\n",
            "   macro avg       0.77      0.77      0.77      3170\n",
            "weighted avg       0.77      0.77      0.77      3170\n",
            "\n",
            "Confusion Matrix\n",
            "[[1143  442]\n",
            " [ 300 1285]]\n"
          ]
        }
      ]
    },
    {
      "cell_type": "code",
      "source": [
        "##score not bad but try its better \n",
        "#Apply soft margin means add externally error on training time\n",
        "#create the object of inbuilt class LinearSVC  and passing parameter C\n",
        "#for error\n",
        "svc1=LinearSVC(random_state=1,C=0.5) #soft margin # C is parameter for adding error # C always capital\n",
        "#Range of C : 0.01to0.9\n",
        "#to reduce overfitting and remove outlier we apply soft margin\n",
        "#call function\n",
        "svc1=create_model1(svc1)"
      ],
      "metadata": {
        "colab": {
          "base_uri": "https://localhost:8080/"
        },
        "id": "T4AdBwm7zzjw",
        "outputId": "813e73c9-7a67-45f3-87d8-b044e6a5e1bc"
      },
      "id": "T4AdBwm7zzjw",
      "execution_count": null,
      "outputs": [
        {
          "output_type": "stream",
          "name": "stdout",
          "text": [
            "              precision    recall  f1-score   support\n",
            "\n",
            "           0       0.79      0.72      0.75      1585\n",
            "           1       0.74      0.81      0.78      1585\n",
            "\n",
            "    accuracy                           0.77      3170\n",
            "   macro avg       0.77      0.77      0.77      3170\n",
            "weighted avg       0.77      0.77      0.77      3170\n",
            "\n",
            "Confusion Matrix\n",
            "[[1143  442]\n",
            " [ 300 1285]]\n"
          ]
        }
      ]
    },
    {
      "cell_type": "markdown",
      "source": [
        "#Here if add external error on runtime but no changes in score means no \n",
        "#effect on score\n",
        "#means we have data is non-linear data  , not linear dataset \n",
        "#So we will use polynomial kernel function means increase the dimension means\n",
        "#to converts low dimension data into high dimension means if plot 1D then\n",
        "#converting into 2D dimension and so on ."
      ],
      "metadata": {
        "id": "aw95crbRz7a7"
      },
      "id": "aw95crbRz7a7"
    },
    {
      "cell_type": "code",
      "source": [
        "#2. polynomial Kernel function of SVM, so use inbuilt class SVC\n",
        "from sklearn.svm import SVC\n",
        "#SVC inbuilt class for non linear data\n",
        "#Craete the object of SVC class\n",
        "poly_svc=SVC(random_state=1,kernel=\"poly\")\n",
        "#call function\n",
        "poly_svc=create_model1(poly_svc)"
      ],
      "metadata": {
        "colab": {
          "base_uri": "https://localhost:8080/"
        },
        "id": "m3_l6PkWz2kR",
        "outputId": "8f3dfed1-b932-4030-b107-1974d5d181a0"
      },
      "id": "m3_l6PkWz2kR",
      "execution_count": null,
      "outputs": [
        {
          "output_type": "stream",
          "name": "stdout",
          "text": [
            "              precision    recall  f1-score   support\n",
            "\n",
            "           0       0.75      0.74      0.75      1585\n",
            "           1       0.75      0.76      0.75      1585\n",
            "\n",
            "    accuracy                           0.75      3170\n",
            "   macro avg       0.75      0.75      0.75      3170\n",
            "weighted avg       0.75      0.75      0.75      3170\n",
            "\n",
            "Confusion Matrix\n",
            "[[1176  409]\n",
            " [ 384 1201]]\n"
          ]
        }
      ]
    },
    {
      "cell_type": "code",
      "source": [
        "#Scores are changed in plynomial means data is non linear"
      ],
      "metadata": {
        "id": "LmH-wsKm0M34"
      },
      "id": "LmH-wsKm0M34",
      "execution_count": null,
      "outputs": []
    },
    {
      "cell_type": "code",
      "source": [
        "#try to check data is nonlinear or radial\n",
        "#Craete the object of SVC class\n",
        "r_svc=SVC(random_state=1,kernel=\"rbf\")\n",
        "#rbf means radial basis function\n",
        "#call function\n",
        "r_svc=create_model1(r_svc)"
      ],
      "metadata": {
        "colab": {
          "base_uri": "https://localhost:8080/"
        },
        "id": "OrFtBmeX0Noj",
        "outputId": "99ffe7ce-8c53-4259-f88d-7374f45e22d6"
      },
      "id": "OrFtBmeX0Noj",
      "execution_count": null,
      "outputs": [
        {
          "output_type": "stream",
          "name": "stdout",
          "text": [
            "              precision    recall  f1-score   support\n",
            "\n",
            "           0       0.75      0.75      0.75      1585\n",
            "           1       0.75      0.75      0.75      1585\n",
            "\n",
            "    accuracy                           0.75      3170\n",
            "   macro avg       0.75      0.75      0.75      3170\n",
            "weighted avg       0.75      0.75      0.75      3170\n",
            "\n",
            "Confusion Matrix\n",
            "[[1183  402]\n",
            " [ 389 1196]]\n"
          ]
        }
      ]
    },
    {
      "cell_type": "markdown",
      "source": [
        ""
      ],
      "metadata": {
        "id": "kQb94jBz0bM4"
      },
      "id": "kQb94jBz0bM4"
    },
    {
      "cell_type": "markdown",
      "metadata": {
        "id": "J_9-L1budim2"
      },
      "source": [
        "8) Gausssian - NaiveBays theorem"
      ],
      "id": "J_9-L1budim2"
    },
    {
      "cell_type": "code",
      "source": [
        "from sklearn.naive_bayes import GaussianNB\n",
        "#GaussianNB are applied on continuous numerical value of input column\n",
        "#create the object of GaussianNB class\n",
        "gnb=GaussianNB()\n",
        "#train the model with 70% data\n",
        "gnb.fit(X_train1,Y_train1)"
      ],
      "metadata": {
        "colab": {
          "base_uri": "https://localhost:8080/"
        },
        "id": "J4s2zKLv0amo",
        "outputId": "7fb948c2-028d-4489-df39-2cb8b3fa3e6d"
      },
      "id": "J4s2zKLv0amo",
      "execution_count": null,
      "outputs": [
        {
          "output_type": "execute_result",
          "data": {
            "text/plain": [
              "GaussianNB()"
            ]
          },
          "metadata": {},
          "execution_count": 91
        }
      ]
    },
    {
      "cell_type": "code",
      "source": [
        "#test if the model with 30% data\n",
        "Y_pred=gnb.predict(X_test1)"
      ],
      "metadata": {
        "id": "ng8bYrVw0nRQ"
      },
      "id": "ng8bYrVw0nRQ",
      "execution_count": null,
      "outputs": []
    },
    {
      "cell_type": "code",
      "source": [
        "print(classification_report(Y_test1,Y_pred))"
      ],
      "metadata": {
        "colab": {
          "base_uri": "https://localhost:8080/"
        },
        "id": "gH9inBni0vLC",
        "outputId": "dc3d964b-cf11-482b-ca79-eb732a09f02b"
      },
      "id": "gH9inBni0vLC",
      "execution_count": null,
      "outputs": [
        {
          "output_type": "stream",
          "name": "stdout",
          "text": [
            "              precision    recall  f1-score   support\n",
            "\n",
            "           0       0.80      0.72      0.75      1585\n",
            "           1       0.74      0.82      0.78      1585\n",
            "\n",
            "    accuracy                           0.77      3170\n",
            "   macro avg       0.77      0.77      0.77      3170\n",
            "weighted avg       0.77      0.77      0.77      3170\n",
            "\n"
          ]
        }
      ]
    },
    {
      "cell_type": "markdown",
      "source": [
        "9) K Nearest Neighbour"
      ],
      "metadata": {
        "id": "Llxb1aRf00vA"
      },
      "id": "Llxb1aRf00vA"
    },
    {
      "cell_type": "code",
      "source": [
        "#Use K-NN Algorithm\n",
        "from sklearn.neighbors import KNeighborsClassifier\n",
        "#create the object of KNeighborsClassifier\n",
        "knc=KNeighborsClassifier(n_neighbors=5,metric='minkowski',p=2) \n",
        "#p=2 means euclidean metric means sqrt(x2-x1)**2+(y2-y1)**2\n",
        "#call function\n",
        "knc=create_model1(knc)"
      ],
      "metadata": {
        "colab": {
          "base_uri": "https://localhost:8080/"
        },
        "id": "dxcxBf6j0zgg",
        "outputId": "f3fc352a-4a1b-4e5b-f620-e8dc3e2f4112"
      },
      "id": "dxcxBf6j0zgg",
      "execution_count": null,
      "outputs": [
        {
          "output_type": "stream",
          "name": "stdout",
          "text": [
            "              precision    recall  f1-score   support\n",
            "\n",
            "           0       0.73      0.65      0.68      1585\n",
            "           1       0.68      0.76      0.72      1585\n",
            "\n",
            "    accuracy                           0.70      3170\n",
            "   macro avg       0.70      0.70      0.70      3170\n",
            "weighted avg       0.70      0.70      0.70      3170\n",
            "\n",
            "Confusion Matrix\n",
            "[[1023  562]\n",
            " [ 384 1201]]\n"
          ]
        }
      ]
    },
    {
      "cell_type": "markdown",
      "source": [
        "5) Stacking Classifier - Ensemble learning # giving error -it does not seem to be a scikit-learn estimator as it does not implement a 'get_params' method."
      ],
      "metadata": {
        "id": "K0wRZB8B1Cop"
      },
      "id": "K0wRZB8B1Cop"
    },
    {
      "cell_type": "code",
      "source": [
        "import six\n",
        "import sys\n",
        "sys.modules['sklearn.externals.six'] = six\n",
        "\n",
        "#call StackingClassifier\n",
        "from mlxtend.classifier import StackingClassifier"
      ],
      "metadata": {
        "id": "53Z-ZIVW2YRJ"
      },
      "id": "53Z-ZIVW2YRJ",
      "execution_count": null,
      "outputs": []
    },
    {
      "cell_type": "code",
      "source": [
        "#Create object of logistic Regression, Decision Tree Entropy and Decision Tree Gini\n",
        "lgr=LogisticRegression()\n",
        "dt1=DecisionTreeClassifier(criterion=\"entropy\")\n",
        "dt2=DecisionTreeClassifier()#by default Gini index"
      ],
      "metadata": {
        "id": "Bg-xRSjf3fYo"
      },
      "id": "Bg-xRSjf3fYo",
      "execution_count": null,
      "outputs": []
    },
    {
      "cell_type": "code",
      "source": [
        "#Take LogisticRegression algorithm for metaclssifier\n",
        "#also create a object of LogisticRegression\n",
        "meta=LogisticRegression()"
      ],
      "metadata": {
        "id": "gefB9P3K3irt"
      },
      "id": "gefB9P3K3irt",
      "execution_count": null,
      "outputs": []
    },
    {
      "cell_type": "code",
      "source": [
        "#Create the object of StackingClassifier Class\n",
        "sc=StackingClassifier(classifiers=model_list,meta_classifier=meta)"
      ],
      "metadata": {
        "id": "Y2VfUtRa3l09"
      },
      "id": "Y2VfUtRa3l09",
      "execution_count": null,
      "outputs": []
    },
    {
      "cell_type": "code",
      "source": [
        "#sc=create_model(sc) #giving clone object error"
      ],
      "metadata": {
        "id": "MyWrpxx73o8L"
      },
      "id": "MyWrpxx73o8L",
      "execution_count": null,
      "outputs": []
    },
    {
      "cell_type": "code",
      "source": [
        "#Check the % of fraud count\n",
        "df[\"Churn\"].value_counts()/df.shape[0]*100"
      ],
      "metadata": {
        "colab": {
          "base_uri": "https://localhost:8080/"
        },
        "id": "UdmmKUwq3DO_",
        "outputId": "825cc58b-7111-42b0-a8c6-9ee1e557c837"
      },
      "id": "UdmmKUwq3DO_",
      "execution_count": null,
      "outputs": [
        {
          "output_type": "execute_result",
          "data": {
            "text/plain": [
              "No     73.463013\n",
              "Yes    26.536987\n",
              "Name: Churn, dtype: float64"
            ]
          },
          "metadata": {},
          "execution_count": 100
        }
      ]
    }
  ],
  "metadata": {
    "kernelspec": {
      "display_name": "Python 3 (ipykernel)",
      "language": "python",
      "name": "python3"
    },
    "language_info": {
      "codemirror_mode": {
        "name": "ipython",
        "version": 3
      },
      "file_extension": ".py",
      "mimetype": "text/x-python",
      "name": "python",
      "nbconvert_exporter": "python",
      "pygments_lexer": "ipython3",
      "version": "3.9.7"
    },
    "colab": {
      "name": "Telecom Churn Collab.ipynb",
      "provenance": [],
      "collapsed_sections": [],
      "include_colab_link": true
    },
    "accelerator": "TPU"
  },
  "nbformat": 4,
  "nbformat_minor": 5
}